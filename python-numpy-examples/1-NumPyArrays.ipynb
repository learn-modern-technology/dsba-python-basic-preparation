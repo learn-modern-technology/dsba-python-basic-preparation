{
 "cells": [
  {
   "cell_type": "code",
   "execution_count": 2,
   "id": "09875395",
   "metadata": {},
   "outputs": [],
   "source": [
    "# The first step of using numpy is to tell python to import it\n",
    "import numpy as np"
   ]
  },
  {
   "cell_type": "markdown",
   "id": "bcf5e0a7",
   "metadata": {},
   "source": [
    "### 2.1 NumPy Arrays"
   ]
  },
  {
   "cell_type": "markdown",
   "id": "c82df894",
   "metadata": {},
   "source": [
    "**NumPy Array**\n",
    "* An array is a data structure that stores values of same data type.\n",
    "* While python lists can contain values corresponding to different data types, arrays in python can only contain values corresponding to the same data type. \n",
    "* However python lists fail to deliver the performance required while computing large sets of numerical data. To address this issue we use NumPy arrays.\n",
    "* We can create NumPy arrays by converting a list to an array."
   ]
  },
  {
   "cell_type": "code",
   "execution_count": 7,
   "id": "6f278e81",
   "metadata": {},
   "outputs": [
    {
     "name": "stdout",
     "output_type": "stream",
     "text": [
      "['Mercedes', 'BMW', 'Audi', 'Ferrari', 'Tesla']\n"
     ]
    }
   ],
   "source": [
    "# defining  list of different car companies or string elements\n",
    "brands_array = ['Mercedes', 'BMW', 'Audi', 'Ferrari', 'Tesla']\n",
    "\n",
    "print(brands_array)"
   ]
  },
  {
   "cell_type": "code",
   "execution_count": 8,
   "id": "1d71d4b9",
   "metadata": {},
   "outputs": [
    {
     "name": "stdout",
     "output_type": "stream",
     "text": [
      "[5, 4, 6, 7, 3]\n"
     ]
    }
   ],
   "source": [
    "# defining a list of no of cylinders \n",
    "noofCylinder_array = [5, 4, 6, 7, 3]\n",
    "\n",
    "print(noofCylinder_array)"
   ]
  },
  {
   "cell_type": "code",
   "execution_count": 13,
   "id": "2542821b",
   "metadata": {},
   "outputs": [
    {
     "name": "stdout",
     "output_type": "stream",
     "text": [
      "NumPy Array of Brands array is ['Mercedes' 'BMW' 'Audi' 'Ferrari' 'Tesla']\n"
     ]
    }
   ],
   "source": [
    "# connverting the list arr_str to a NumPy array\n",
    "np_brands_array = np.array(brands_array)\n",
    "print(\"NumPy Array of Brands array is {}\".format(np_brands_array))"
   ]
  },
  {
   "cell_type": "code",
   "execution_count": 11,
   "id": "382faae8",
   "metadata": {},
   "outputs": [
    {
     "name": "stdout",
     "output_type": "stream",
     "text": [
      "NumPy Array of no of Cylinder is [5 4 6 7 3]\n"
     ]
    }
   ],
   "source": [
    "# converting the list noofCylinder_array to a NumPy array\n",
    "np_noofCylinder_array = np.array(noofCylinder_array)\n",
    "\n",
    "print(\"NumPy Array of no of Cylinder is {}\".format(np_noofCylinder_array))"
   ]
  },
  {
   "attachments": {},
   "cell_type": "markdown",
   "id": "3e211580",
   "metadata": {},
   "source": [
    "The resuts look similar to a list but arr_str and arr_num have been converted to NumPy arrays. Let's check the data type to confirm this."
   ]
  },
  {
   "cell_type": "code",
   "execution_count": 14,
   "id": "a873c2b0",
   "metadata": {},
   "outputs": [
    {
     "name": "stdout",
     "output_type": "stream",
     "text": [
      "Data Type of brands_array is <class 'list'>\n",
      "Data Type of noofCylinder_array is <class 'list'>\n",
      "Data Type of np_brands_array is <class 'numpy.ndarray'>\n",
      "Data Type of np_noofCylinder_array is <class 'numpy.ndarray'>\n"
     ]
    }
   ],
   "source": [
    "print(\"Data Type of brands_array is {}\".format(type(brands_array)))\n",
    "print(\"Data Type of noofCylinder_array is {}\".format(type(noofCylinder_array)))\n",
    "\n",
    "print(\"Data Type of np_brands_array is {}\".format(type(np_brands_array)))\n",
    "print(\"Data Type of np_noofCylinder_array is {}\".format(type(np_noofCylinder_array)))"
   ]
  },
  {
   "attachments": {},
   "cell_type": "markdown",
   "id": "44dcec0f",
   "metadata": {},
   "source": [
    "* The above output confirms that both the lists were successfully converted to arrays"
   ]
  },
  {
   "attachments": {},
   "cell_type": "markdown",
   "id": "f985fb2d",
   "metadata": {},
   "source": [
    "**Using np.arange() function**\n",
    "* The np.arange() function returns an array with evenly spaced elements as per the interval. The interval mentioned is half-opened i.e. start is included but stop is excluded.\n",
    "* It has the following paramaters:\n",
    "  * start : start of interval range. By default start = 0\n",
    "  * stop  : end of interval range\n",
    "  * step  : step size of interval. By default step size = 1"
   ]
  },
  {
   "cell_type": "code",
   "execution_count": 3,
   "id": "2347c3d1",
   "metadata": {},
   "outputs": [
    {
     "name": "stdout",
     "output_type": "stream",
     "text": [
      "[0 1 2 3 4 5 6]\n"
     ]
    }
   ],
   "source": [
    "array1 = np.arange(stop = 7)\n",
    "print(array1)"
   ]
  },
  {
   "cell_type": "code",
   "execution_count": 4,
   "id": "60cd5133",
   "metadata": {},
   "outputs": [
    {
     "name": "stdout",
     "output_type": "stream",
     "text": [
      "[ 8  9 10 11 12 13 14 15 16 17 18 19]\n"
     ]
    }
   ],
   "source": [
    "array2 = np.arange(8,20)\n",
    "print(array2)"
   ]
  },
  {
   "cell_type": "code",
   "execution_count": 5,
   "id": "a9c23289",
   "metadata": {},
   "outputs": [
    {
     "name": "stdout",
     "output_type": "stream",
     "text": [
      "[ 8 10 12 14 16 18]\n"
     ]
    }
   ],
   "source": [
    "array3 = np.arange(8,20, 2)\n",
    "print(array3)"
   ]
  },
  {
   "cell_type": "code",
   "execution_count": 6,
   "id": "bf83ac45",
   "metadata": {},
   "outputs": [
    {
     "name": "stdout",
     "output_type": "stream",
     "text": [
      "[20 25 30 35 40 45]\n"
     ]
    }
   ],
   "source": [
    "array4 = np.arange(start = 20, stop = 50, step = 5)\n",
    "print(array4)"
   ]
  },
  {
   "attachments": {},
   "cell_type": "markdown",
   "id": "04a20d7a",
   "metadata": {},
   "source": [
    "**Using np.linspace() function**\n",
    "* The np.linspace() function returns numbers which are evenly distributed with respect to interval. Here the start and stop both are included.            \n",
    "* It has the following parameters:              \n",
    "   * start: start of interval range. By default start = 0\n",
    "   * stop: end of interval range\n",
    "   * num : No. of samples to generate. By default num = 50"
   ]
  },
  {
   "cell_type": "code",
   "execution_count": 7,
   "id": "9f84e560",
   "metadata": {},
   "outputs": [
    {
     "name": "stdout",
     "output_type": "stream",
     "text": [
      "[10.         10.20408163 10.40816327 10.6122449  10.81632653 11.02040816\n",
      " 11.2244898  11.42857143 11.63265306 11.83673469 12.04081633 12.24489796\n",
      " 12.44897959 12.65306122 12.85714286 13.06122449 13.26530612 13.46938776\n",
      " 13.67346939 13.87755102 14.08163265 14.28571429 14.48979592 14.69387755\n",
      " 14.89795918 15.10204082 15.30612245 15.51020408 15.71428571 15.91836735\n",
      " 16.12244898 16.32653061 16.53061224 16.73469388 16.93877551 17.14285714\n",
      " 17.34693878 17.55102041 17.75510204 17.95918367 18.16326531 18.36734694\n",
      " 18.57142857 18.7755102  18.97959184 19.18367347 19.3877551  19.59183673\n",
      " 19.79591837 20.        ]\n",
      "13.877551020408163\n"
     ]
    }
   ],
   "source": [
    "array5 = np.linspace(start = 10, stop = 20)\n",
    "print(array5)\n",
    "print(array5[19])"
   ]
  },
  {
   "attachments": {},
   "cell_type": "markdown",
   "id": "02c5e394",
   "metadata": {},
   "source": [
    "**How are these values getting generated?**\n",
    "\n",
    "The step size or the difference between each element will be decided by the following formula:\n",
    "\n",
    "**(stop - start) / (total elements - 1)**\n",
    "\n",
    "So, in this case:\n",
    "(5 - 0) / 49 = 0.10204082\n",
    "\n",
    "The first value will be 0.10204082, the second value will be 0.10204082 + 0.10204082, the third value will be 0.10204082 + 0.10204082 +0.10204082, and so on."
   ]
  },
  {
   "cell_type": "code",
   "execution_count": 8,
   "id": "081009f3",
   "metadata": {},
   "outputs": [
    {
     "name": "stdout",
     "output_type": "stream",
     "text": [
      "[20.         20.40816327 20.81632653 21.2244898  21.63265306 22.04081633\n",
      " 22.44897959 22.85714286 23.26530612 23.67346939 24.08163265 24.48979592\n",
      " 24.89795918 25.30612245 25.71428571 26.12244898 26.53061224 26.93877551\n",
      " 27.34693878 27.75510204 28.16326531 28.57142857 28.97959184 29.3877551\n",
      " 29.79591837 30.20408163 30.6122449  31.02040816 31.42857143 31.83673469\n",
      " 32.24489796 32.65306122 33.06122449 33.46938776 33.87755102 34.28571429\n",
      " 34.69387755 35.10204082 35.51020408 35.91836735 36.32653061 36.73469388\n",
      " 37.14285714 37.55102041 37.95918367 38.36734694 38.7755102  39.18367347\n",
      " 39.59183673 40.        ]\n"
     ]
    }
   ],
   "source": [
    "array6 = np.linspace(start = 20, stop=40)\n",
    "print(array6)"
   ]
  },
  {
   "cell_type": "code",
   "execution_count": 9,
   "id": "50087e25",
   "metadata": {},
   "outputs": [
    {
     "name": "stdout",
     "output_type": "stream",
     "text": [
      "[20.         22.22222222 24.44444444 26.66666667 28.88888889 31.11111111\n",
      " 33.33333333 35.55555556 37.77777778 40.        ]\n",
      "28.88888888888889\n"
     ]
    }
   ],
   "source": [
    "array7 = np.linspace(20, 40, 10)\n",
    "print(array7)\n",
    "print(array7[4])"
   ]
  },
  {
   "cell_type": "markdown",
   "id": "868c9886",
   "metadata": {
    "id": "jDCujvq0pWZr"
   },
   "source": [
    "**Arithmetic Operations on arrays**"
   ]
  },
  {
   "cell_type": "code",
   "execution_count": 10,
   "id": "127a5c74",
   "metadata": {
    "colab": {
     "base_uri": "https://localhost:8080/"
    },
    "id": "SXFDL0TeKJZT",
    "outputId": "88bbcc2e-4963-4607-fab6-2a5edb899e08"
   },
   "outputs": [
    {
     "name": "stdout",
     "output_type": "stream",
     "text": [
      "[1, 2, 3, 4, 5, 6]\n"
     ]
    }
   ],
   "source": [
    "# arithmetic on lists\n",
    "\n",
    "l1 = [1,2,3]\n",
    "l2 = [4,5,6]\n",
    "print(l1+l2)\n",
    "# this is nothing but concatenation of two lists. It does not behave as you would expect!\n"
   ]
  },
  {
   "cell_type": "code",
   "execution_count": 11,
   "id": "ebb4e41b",
   "metadata": {
    "colab": {
     "base_uri": "https://localhost:8080/"
    },
    "id": "MHZKZFP8ppQx",
    "outputId": "c2aacb8a-7ae1-40f3-9c76-25f8222247c4"
   },
   "outputs": [
    {
     "name": "stdout",
     "output_type": "stream",
     "text": [
      "arr7: [1 2 3 4 5]\n",
      "arr8: [3 4 5 6 7]\n"
     ]
    }
   ],
   "source": [
    "# we can +-*/ arrays together\n",
    "\n",
    "# defining two arrays\n",
    "arr7 = np.arange(1,6)\n",
    "print('arr7:', arr7)\n",
    "\n",
    "arr8 = np.arange(3,8)\n",
    "print('arr8:', arr8)"
   ]
  },
  {
   "cell_type": "code",
   "execution_count": 12,
   "id": "ee05a6c5",
   "metadata": {
    "colab": {
     "base_uri": "https://localhost:8080/"
    },
    "id": "xkMkQOL8rHOw",
    "outputId": "28d1dfd5-9dcc-43e3-e6ca-74af5cd26486"
   },
   "outputs": [
    {
     "name": "stdout",
     "output_type": "stream",
     "text": [
      "Addition:  [ 4  6  8 10 12]\n",
      "Subtraction:  [-2 -2 -2 -2 -2]\n",
      "Multiplication: [ 3  8 15 24 35]\n",
      "Division: [0.33333333 0.5        0.6        0.66666667 0.71428571]\n",
      "Inverse: [1.         0.5        0.33333333 0.25       0.2       ]\n",
      "Powers: [    1    16   243  4096 78125]\n"
     ]
    }
   ],
   "source": [
    "print('Addition: ',arr7+arr8)\n",
    "print('Subtraction: ',arr7-arr8)\n",
    "print('Multiplication:' , arr7*arr8)\n",
    "print('Division:', arr7/arr8) # the first element of array 1 is divided by first element of array 2\n",
    "print('Inverse:', 1/arr7)\n",
    "print('Powers:', arr7**arr8) # in python, powers are achieved using **, NOT ^!!! ^ does something completely different!\n"
   ]
  },
  {
   "cell_type": "markdown",
   "id": "98af0c7e",
   "metadata": {
    "id": "J-K_ecWJ6M6n"
   },
   "source": [
    "### 2.3 Accessing the entries of a Numpy Array"
   ]
  },
  {
   "cell_type": "code",
   "execution_count": 16,
   "id": "6527cc00",
   "metadata": {},
   "outputs": [
    {
     "name": "stdout",
     "output_type": "stream",
     "text": [
      "rand_num -  14\n",
      "np_array1 - [17 18 52 99 82 42 75 83 20 32 51 12 69 99 15 68 67 62 87 79]\n"
     ]
    }
   ],
   "source": [
    "rand_num = np.random.randint(10,50)\n",
    "print(\"rand_num - \",rand_num)\n",
    "np_array1 = np.random.randint(10,100,20)\n",
    "print(\"np_array1 -\",np_array1)"
   ]
  },
  {
   "cell_type": "code",
   "execution_count": 17,
   "id": "97015e63",
   "metadata": {},
   "outputs": [
    {
     "name": "stdout",
     "output_type": "stream",
     "text": [
      "First Element of the Array - 17\n",
      "5th to 10th Element of the Array - [82 42 75 83 20 32]\n",
      "Last 5 Element of the Array - [68 67 62 87 79]\n",
      "First 5 Element of the Array - [17 18 52 99 82]\n"
     ]
    }
   ],
   "source": [
    "print(\"First Element of the Array -\", np_array1[0])\n",
    "\n",
    "print(\"5th to 10th Element of the Array -\", np_array1[4:10])\n",
    "\n",
    "print(\"Last 5 Element of the Array -\", np_array1[-5:])\n",
    "\n",
    "print(\"First 5 Element of the Array -\", np_array1[0:5])"
   ]
  },
  {
   "cell_type": "code",
   "execution_count": 18,
   "id": "cca769a2",
   "metadata": {},
   "outputs": [
    {
     "data": {
      "text/plain": [
       "array([False, False,  True,  True,  True, False,  True,  True, False,\n",
       "       False,  True, False,  True,  True, False,  True,  True,  True,\n",
       "        True,  True])"
      ]
     },
     "execution_count": 18,
     "metadata": {},
     "output_type": "execute_result"
    }
   ],
   "source": [
    "np_array1 > 50"
   ]
  },
  {
   "cell_type": "code",
   "execution_count": 21,
   "id": "76087bf2",
   "metadata": {},
   "outputs": [
    {
     "name": "stdout",
     "output_type": "stream",
     "text": [
      "Array Elements greater than 50 are - [52 99 82 75 83 51 69 99 68 67 62 87 79]\n",
      "Array Elements less than 30 are - [17 18 20 12 15]\n"
     ]
    }
   ],
   "source": [
    "print(\"Array Elements greater than 50 are -\", np_array1[np_array1>50])\n",
    "\n",
    "print(\"Array Elements less than 30 are -\", np_array1[np_array1<30])"
   ]
  },
  {
   "cell_type": "markdown",
   "id": "d24fe7c3",
   "metadata": {
    "id": "Rbc_yo5T8mmS"
   },
   "source": [
    "**Modifying the entries of an Array**"
   ]
  },
  {
   "cell_type": "code",
   "execution_count": 22,
   "id": "92808c41",
   "metadata": {
    "colab": {
     "base_uri": "https://localhost:8080/"
    },
    "id": "2P57NUFJ8mMA",
    "outputId": "4c6f5d19-95d7-4ccc-ff28-fe76e18228d7"
   },
   "outputs": [
    {
     "name": "stdout",
     "output_type": "stream",
     "text": [
      "[17 18 52 99 82 42 75 83 20 32 51 12 69 99 15 68 67 62 87 79]\n"
     ]
    }
   ],
   "source": [
    "print(np_array1)\n"
   ]
  },
  {
   "cell_type": "code",
   "execution_count": 23,
   "id": "f779aa0b",
   "metadata": {
    "colab": {
     "base_uri": "https://localhost:8080/"
    },
    "id": "5dTfDf2d-DF7",
    "outputId": "c9f149ef-4463-401e-cb3d-fd6df3f1c404"
   },
   "outputs": [
    {
     "name": "stdout",
     "output_type": "stream",
     "text": [
      "[ 17  18  52 -50 -50  42  75  83  20  32  51  12  69  99  15  68  67  62\n",
      "  87  79]\n"
     ]
    }
   ],
   "source": [
    "# let's change some values in an array!\n",
    "# changing the values of index value 3 and index value 4 to 5\n",
    "np_array1[3:5] = -50\n",
    "print(np_array1)"
   ]
  },
  {
   "cell_type": "code",
   "execution_count": 24,
   "id": "076a647d",
   "metadata": {
    "colab": {
     "base_uri": "https://localhost:8080/"
    },
    "id": "dC1yVJLT-H9H",
    "outputId": "cac466b1-e851-46d3-d939-e8071ad058e7"
   },
   "outputs": [
    {
     "name": "stdout",
     "output_type": "stream",
     "text": [
      "[-20 -50  52 -50 -50  42  75  83  20  32  51  12  69  99  15  68  67  62\n",
      "  87  79]\n"
     ]
    }
   ],
   "source": [
    "# changing the values of index value 0 and index value 1 to 2 and 3 respectively\n",
    "np_array1[0:2] = [-20,-50]\n",
    "print(np_array1)"
   ]
  },
  {
   "cell_type": "code",
   "execution_count": 25,
   "id": "a36edf59",
   "metadata": {
    "colab": {
     "base_uri": "https://localhost:8080/"
    },
    "id": "wT3ishttMugE",
    "outputId": "0201c43a-03b1-489b-ff70-dae97a8c0557"
   },
   "outputs": [
    {
     "name": "stdout",
     "output_type": "stream",
     "text": [
      "[-20 -50  65 -50 -50  65  65  65  65  65  65  65  65  65  65  65  65  65\n",
      "  65  65]\n"
     ]
    }
   ],
   "source": [
    "# modify entries using logical references\n",
    "np_array1[np_array1>0] = 65\n",
    "print(np_array1)"
   ]
  }
 ],
 "metadata": {
  "kernelspec": {
   "display_name": "Python 3",
   "language": "python",
   "name": "python3"
  },
  "language_info": {
   "codemirror_mode": {
    "name": "ipython",
    "version": 3
   },
   "file_extension": ".py",
   "mimetype": "text/x-python",
   "name": "python",
   "nbconvert_exporter": "python",
   "pygments_lexer": "ipython3",
   "version": "3.10.5"
  },
  "vscode": {
   "interpreter": {
    "hash": "e59e1cc31db9fab12357d479a0083146e6632a2ec9a920ad0cc1ad5f88c08e75"
   }
  }
 },
 "nbformat": 4,
 "nbformat_minor": 5
}
