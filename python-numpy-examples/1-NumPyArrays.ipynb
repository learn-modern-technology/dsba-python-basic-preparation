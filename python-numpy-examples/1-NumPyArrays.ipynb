{
 "cells": [
  {
   "cell_type": "code",
   "execution_count": 6,
   "id": "09875395",
   "metadata": {},
   "outputs": [],
   "source": [
    "# The first step of using numpy is to tell python to import it\n",
    "import numpy as np"
   ]
  },
  {
   "cell_type": "markdown",
   "id": "bcf5e0a7",
   "metadata": {},
   "source": [
    "### 2.1 NumPy Arrays"
   ]
  },
  {
   "cell_type": "markdown",
   "id": "c82df894",
   "metadata": {},
   "source": [
    "**NumPy Array**\n",
    "* An array is a data structure that stores values of same data type.\n",
    "* While python lists can contain values corresponding to different data types, arrays in python can only contain values corresponding to the same data type. \n",
    "* However python lists fail to deliver the performance required while computing large sets of numerical data. To address this issue we use NumPy arrays.\n",
    "* We can create NumPy arrays by converting a list to an array."
   ]
  },
  {
   "cell_type": "code",
   "execution_count": 7,
   "id": "6f278e81",
   "metadata": {},
   "outputs": [
    {
     "name": "stdout",
     "output_type": "stream",
     "text": [
      "['Mercedes', 'BMW', 'Audi', 'Ferrari', 'Tesla']\n"
     ]
    }
   ],
   "source": [
    "# defining  list of different car companies or string elements\n",
    "brands_array = ['Mercedes', 'BMW', 'Audi', 'Ferrari', 'Tesla']\n",
    "\n",
    "print(brands_array)"
   ]
  },
  {
   "cell_type": "code",
   "execution_count": 8,
   "id": "1d71d4b9",
   "metadata": {},
   "outputs": [
    {
     "name": "stdout",
     "output_type": "stream",
     "text": [
      "[5, 4, 6, 7, 3]\n"
     ]
    }
   ],
   "source": [
    "# defining a list of no of cylinders \n",
    "noofCylinder_array = [5, 4, 6, 7, 3]\n",
    "\n",
    "print(noofCylinder_array)"
   ]
  },
  {
   "cell_type": "code",
   "execution_count": 13,
   "id": "2542821b",
   "metadata": {},
   "outputs": [
    {
     "name": "stdout",
     "output_type": "stream",
     "text": [
      "NumPy Array of Brands array is ['Mercedes' 'BMW' 'Audi' 'Ferrari' 'Tesla']\n"
     ]
    }
   ],
   "source": [
    "# connverting the list arr_str to a NumPy array\n",
    "np_brands_array = np.array(brands_array)\n",
    "print(\"NumPy Array of Brands array is {}\".format(np_brands_array))"
   ]
  },
  {
   "cell_type": "code",
   "execution_count": 11,
   "id": "382faae8",
   "metadata": {},
   "outputs": [
    {
     "name": "stdout",
     "output_type": "stream",
     "text": [
      "NumPy Array of no of Cylinder is [5 4 6 7 3]\n"
     ]
    }
   ],
   "source": [
    "# converting the list noofCylinder_array to a NumPy array\n",
    "np_noofCylinder_array = np.array(noofCylinder_array)\n",
    "\n",
    "print(\"NumPy Array of no of Cylinder is {}\".format(np_noofCylinder_array))"
   ]
  },
  {
   "attachments": {},
   "cell_type": "markdown",
   "id": "3e211580",
   "metadata": {},
   "source": [
    "The resuts look similar to a list but arr_str and arr_num have been converted to NumPy arrays. Let's check the data type to confirm this."
   ]
  },
  {
   "cell_type": "code",
   "execution_count": 14,
   "id": "a873c2b0",
   "metadata": {},
   "outputs": [
    {
     "name": "stdout",
     "output_type": "stream",
     "text": [
      "Data Type of brands_array is <class 'list'>\n",
      "Data Type of noofCylinder_array is <class 'list'>\n",
      "Data Type of np_brands_array is <class 'numpy.ndarray'>\n",
      "Data Type of np_noofCylinder_array is <class 'numpy.ndarray'>\n"
     ]
    }
   ],
   "source": [
    "print(\"Data Type of brands_array is {}\".format(type(brands_array)))\n",
    "print(\"Data Type of noofCylinder_array is {}\".format(type(noofCylinder_array)))\n",
    "\n",
    "print(\"Data Type of np_brands_array is {}\".format(type(np_brands_array)))\n",
    "print(\"Data Type of np_noofCylinder_array is {}\".format(type(np_noofCylinder_array)))"
   ]
  },
  {
   "attachments": {},
   "cell_type": "markdown",
   "id": "44dcec0f",
   "metadata": {},
   "source": [
    "* The above output confirms that both the lists were successfully converted to arrays"
   ]
  }
 ],
 "metadata": {
  "kernelspec": {
   "display_name": "Python 3",
   "language": "python",
   "name": "python3"
  },
  "language_info": {
   "codemirror_mode": {
    "name": "ipython",
    "version": 3
   },
   "file_extension": ".py",
   "mimetype": "text/x-python",
   "name": "python",
   "nbconvert_exporter": "python",
   "pygments_lexer": "ipython3",
   "version": "3.10.5 (tags/v3.10.5:f377153, Jun  6 2022, 16:14:13) [MSC v.1929 64 bit (AMD64)]"
  },
  "vscode": {
   "interpreter": {
    "hash": "e59e1cc31db9fab12357d479a0083146e6632a2ec9a920ad0cc1ad5f88c08e75"
   }
  }
 },
 "nbformat": 4,
 "nbformat_minor": 5
}
