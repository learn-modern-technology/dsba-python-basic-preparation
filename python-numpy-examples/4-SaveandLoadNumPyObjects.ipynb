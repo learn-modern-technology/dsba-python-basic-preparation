{
  "cells": [
    {
      "cell_type": "markdown",
      "metadata": {
        "id": "Uhy7xJlW0aDT"
      },
      "source": [
        "### 2.4 Saving and Loading a NumPy array"
      ]
    },
    {
      "cell_type": "markdown",
      "metadata": {
        "id": "qlyONcw5FeSh"
      },
      "source": [
        "**Let's save some NumPy objects on the disk for use later!**"
      ]
    },
    {
      "cell_type": "code",
      "source": [
        "import numpy as np"
      ],
      "metadata": {
        "id": "PCDMDF4z8muY"
      },
      "execution_count": 2,
      "outputs": []
    },
    {
      "cell_type": "code",
      "execution_count": 3,
      "metadata": {
        "colab": {
          "base_uri": "https://localhost:8080/"
        },
        "id": "gikqL10PzrC1",
        "outputId": "8fb1c757-4b5b-4549-83c2-5e0844f6c95d"
      },
      "outputs": [
        {
          "output_type": "stream",
          "name": "stdout",
          "text": [
            "Drive already mounted at /content/drive; to attempt to forcibly remount, call drive.mount(\"/content/drive\", force_remount=True).\n"
          ]
        }
      ],
      "source": [
        "from google.colab import drive\n",
        "drive.mount('/content/drive')"
      ]
    },
    {
      "cell_type": "code",
      "execution_count": 4,
      "metadata": {
        "colab": {
          "base_uri": "https://localhost:8080/"
        },
        "id": "G_w4dYUtFzZO",
        "outputId": "fee2c46f-178f-4c5c-b72c-93ce825ea590"
      },
      "outputs": [
        {
          "output_type": "stream",
          "name": "stdout",
          "text": [
            "[[5 5 8 8 5]\n",
            " [2 1 1 6 8]]\n",
            "\n",
            "[[14 18 15 14 17]\n",
            " [16 10 12 12 11]]\n"
          ]
        }
      ],
      "source": [
        "# creating a random matrices\n",
        "randint_matrix1 = np.random.randint(1,10,10).reshape(2,5)\n",
        "print(randint_matrix1)\n",
        "print('')\n",
        "randint_matrix2 = np.random.randint(10,20,10).reshape(2,5)\n",
        "print(randint_matrix2)"
      ]
    },
    {
      "cell_type": "markdown",
      "metadata": {
        "id": "rysUk_pSFU1O"
      },
      "source": [
        "**Using np.save() function**"
      ]
    },
    {
      "cell_type": "code",
      "execution_count": 5,
      "metadata": {
        "id": "k9TyLFJ-tkU2"
      },
      "outputs": [],
      "source": [
        "np.save('/content/drive/MyDrive/Python-for-DSBA/random-matrix',randint_matrix1)"
      ]
    },
    {
      "cell_type": "markdown",
      "metadata": {
        "id": "VMfbQlc2FYNl"
      },
      "source": [
        "**Using np.savez() function**"
      ]
    },
    {
      "cell_type": "code",
      "execution_count": 6,
      "metadata": {
        "id": "dhtVPefIRfGP"
      },
      "outputs": [],
      "source": [
        "np.savez('/content/drive/MyDrive/Python-for-DSBA/random-matrix-multiple_files',randint_matrix1=randint_matrix1,randint_matrix2=randint_matrix2)"
      ]
    },
    {
      "cell_type": "markdown",
      "metadata": {
        "id": "hDbZNqdLDj35"
      },
      "source": [
        "* The files will be saved in the directory where the Jupyter Notebook is located.\n",
        "* With np.save() function, we can save an array/matrix to a NumPy .npy format.\n",
        "* np.savez() function has an advantage over np.save() function because with np.savez(), we can store several arrays/matrices into a single file in uncompressed .npz format."
      ]
    },
    {
      "cell_type": "code",
      "execution_count": 7,
      "metadata": {
        "id": "h7mYd86cZeTq",
        "colab": {
          "base_uri": "https://localhost:8080/"
        },
        "outputId": "499d9ee0-fbdb-4968-e28f-1e0271278b78"
      },
      "outputs": [
        {
          "output_type": "stream",
          "name": "stdout",
          "text": [
            "[[5 5 8 8 5]\n",
            " [2 1 1 6 8]]\n",
            "\n",
            "<numpy.lib.npyio.NpzFile object at 0x7f4bbaad3dc0>\n"
          ]
        }
      ],
      "source": [
        "# now let's load it\n",
        "loaded_arr = np.load('/content/drive/MyDrive/Python-for-DSBA/random-matrix.npy')\n",
        "loaded_multi = np.load('/content/drive/MyDrive/Python-for-DSBA/random-matrix-multiple_files.npz')\n",
        "\n",
        "print(loaded_arr)\n",
        "print('')\n",
        "print(loaded_multi)"
      ]
    },
    {
      "cell_type": "markdown",
      "metadata": {
        "id": "21XxghDDG69T"
      },
      "source": [
        "* We see that .npy file has been loaded but the .npz file is returning a memory location.\n",
        "* Let's see how to load the values stored in .npz file."
      ]
    },
    {
      "cell_type": "code",
      "execution_count": 8,
      "metadata": {
        "id": "VezEM4uPZeZk",
        "colab": {
          "base_uri": "https://localhost:8080/"
        },
        "outputId": "f85e956a-e6b8-4d5c-80a8-4f24d05621a8"
      },
      "outputs": [
        {
          "output_type": "stream",
          "name": "stdout",
          "text": [
            "1st Matrix: \n",
            " [[5 5 8 8 5]\n",
            " [2 1 1 6 8]]\n",
            "2nd Matrix: \n",
            " [[14 18 15 14 17]\n",
            " [16 10 12 12 11]]\n",
            "New Matrix: \n",
            " [[5 5 8 8 5]\n",
            " [2 1 1 6 8]]\n"
          ]
        }
      ],
      "source": [
        "print('1st Matrix: \\n',loaded_multi['randint_matrix1'])\n",
        "print('2nd Matrix: \\n',loaded_multi['randint_matrix2'])\n",
        "\n",
        "new_matrix  = loaded_multi['randint_matrix1']\n",
        "print('New Matrix: \\n',new_matrix)"
      ]
    },
    {
      "cell_type": "code",
      "execution_count": 9,
      "metadata": {
        "id": "AyyZjATxZefd",
        "colab": {
          "base_uri": "https://localhost:8080/"
        },
        "outputId": "e3af0a06-9314-46e9-9374-8f7a1b226bd4"
      },
      "outputs": [
        {
          "output_type": "stream",
          "name": "stdout",
          "text": [
            "[[5 5 8 8 5]\n",
            " [2 1 1 6 8]]\n",
            "\n",
            "[[5. 5. 8. 8. 5.]\n",
            " [2. 1. 1. 6. 8.]]\n"
          ]
        }
      ],
      "source": [
        "# we can also save/load text files...but only single variables\n",
        "np.savetxt('/content/drive/MyDrive/Python-for-DSBA/random-matrix-output.txt',randint_matrix1,delimiter=',')\n",
        "rand_mat_txt = np.loadtxt('/content/drive/MyDrive/Python-for-DSBA/random-matrix-output.txt',delimiter=',')\n",
        "print(randint_matrix1)\n",
        "print('')\n",
        "print(rand_mat_txt)"
      ]
    }
  ],
  "metadata": {
    "kernelspec": {
      "display_name": "Python 3",
      "language": "python",
      "name": "python3"
    },
    "language_info": {
      "name": "python",
      "version": "3.10.5 (tags/v3.10.5:f377153, Jun  6 2022, 16:14:13) [MSC v.1929 64 bit (AMD64)]"
    },
    "orig_nbformat": 4,
    "vscode": {
      "interpreter": {
        "hash": "e59e1cc31db9fab12357d479a0083146e6632a2ec9a920ad0cc1ad5f88c08e75"
      }
    },
    "colab": {
      "provenance": []
    }
  },
  "nbformat": 4,
  "nbformat_minor": 0
}