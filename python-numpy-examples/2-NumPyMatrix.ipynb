{
 "cells": [
  {
   "attachments": {},
   "cell_type": "markdown",
   "metadata": {},
   "source": [
    "**NumPy Matrix**"
   ]
  },
  {
   "cell_type": "markdown",
   "metadata": {
    "id": "8jy4YykQjICK"
   },
   "source": [
    "**Using np.ones()**\n",
    "\n",
    "* The np.ones() is another function for creating a matrix and performing matrix operations in NumPy. \n",
    "* It returns a matrix of given shape and type, filled with ones.\n",
    "* It has the following parameters:  \n",
    "  * shape : Number of rows and columns in the output matrix.\n",
    "  * dtype: data type of the elements in the matrix, by default the value is set to `float`."
   ]
  },
  {
   "cell_type": "code",
   "execution_count": null,
   "metadata": {
    "colab": {
     "base_uri": "https://localhost:8080/"
    },
    "id": "p-lZfDhUrb2b",
    "outputId": "4d0618b6-0d12-4f61-cf5a-b967db9bbe4c"
   },
   "outputs": [
    {
     "name": "stdout",
     "output_type": "stream",
     "text": [
      "[[1 2 3]\n",
      " [4 5 6]\n",
      " [7 8 9]]\n",
      "[[1. 0. 0.]\n",
      " [0. 1. 0.]\n",
      " [0. 0. 1.]]\n"
     ]
    }
   ],
   "source": [
    "matrix7 = np.arange(1,10).reshape(3,3)\n",
    "print(matrix7)\n",
    "\n",
    "matrix8 = np.eye(3)\n",
    "print(matrix8)"
   ]
  },
  {
   "cell_type": "code",
   "execution_count": null,
   "metadata": {
    "colab": {
     "base_uri": "https://localhost:8080/"
    },
    "id": "p-lZfDhUrb2b",
    "outputId": "4d0618b6-0d12-4f61-cf5a-b967db9bbe4c"
   },
   "outputs": [
    {
     "name": "stdout",
     "output_type": "stream",
     "text": [
      "[[1 2 3]\n",
      " [4 5 6]\n",
      " [7 8 9]]\n",
      "[[1. 0. 0.]\n",
      " [0. 1. 0.]\n",
      " [0. 0. 1.]]\n"
     ]
    }
   ],
   "source": [
    "matrix7 = np.arange(1,10).reshape(3,3)\n",
    "print(matrix7)\n",
    "\n",
    "matrix8 = np.eye(3)\n",
    "print(matrix8)"
   ]
  },
  {
   "cell_type": "code",
   "execution_count": 12,
   "metadata": {},
   "outputs": [],
   "source": [
    "import numpy as np"
   ]
  },
  {
   "attachments": {},
   "cell_type": "markdown",
   "metadata": {},
   "source": [
    "* A matrix is a two-dimensional data structure where elements are arranged into rows and columns.\n",
    "* A matrix can be created by using list of lists\n",
    "* We see that all the NumPy objects have data type as ndarray"
   ]
  },
  {
   "cell_type": "code",
   "execution_count": 13,
   "metadata": {},
   "outputs": [
    {
     "name": "stdout",
     "output_type": "stream",
     "text": [
      "[[1 2 1]\n",
      " [4 5 9]\n",
      " [1 8 9]]\n"
     ]
    }
   ],
   "source": [
    "# let's say we have information of different number of cylinders in a car and we want to display them in a matrix format\n",
    "matrix = np.array([[1,2,1],[4,5,9],[1,8,9]])\n",
    "print(matrix)"
   ]
  },
  {
   "cell_type": "code",
   "execution_count": 14,
   "metadata": {},
   "outputs": [
    {
     "name": "stdout",
     "output_type": "stream",
     "text": [
      "Data Type of Matrix is <class 'numpy.ndarray'>\n"
     ]
    }
   ],
   "source": [
    "print(\"Data Type of Matrix is {}\".format(type(matrix)))"
   ]
  },
  {
   "cell_type": "code",
   "execution_count": 15,
   "metadata": {},
   "outputs": [
    {
     "name": "stdout",
     "output_type": "stream",
     "text": [
      "[['English' 'Chemistry' 'Physics' 'Computer Science' 'Maths']\n",
      " ['80' '92' '92' '92' '95']\n",
      " ['73' '88' '92' '96' '90']\n",
      " ['79' '88' '72' '66' '89']\n",
      " ['52' '62' '92' '96' '100']\n",
      " ['96' '59' '100' '72' '90']]\n"
     ]
    }
   ],
   "source": [
    "# let's say we have information of Marks of 5 students in 5 subjects stored as list in a matrix format\n",
    "subject_list = ['English','Chemistry', 'Physics', 'Computer Science', 'Maths']\n",
    "student1_marks = [80, 92, 92, 92, 95]\n",
    "student2_marks = [73, 88, 92, 96, 90]\n",
    "student3_marks = [79, 88, 72, 66, 89]\n",
    "student4_marks = [52, 62, 92, 96, 100]\n",
    "student5_marks = [96, 59, 100, 72, 90]\n",
    "student_mark_matrix = np.array([subject_list, student1_marks, student2_marks, student3_marks, student4_marks, student5_marks])\n",
    "print(student_mark_matrix)\n"
   ]
  },
  {
   "cell_type": "code",
   "execution_count": 16,
   "metadata": {},
   "outputs": [
    {
     "name": "stdout",
     "output_type": "stream",
     "text": [
      "Marks for Subject Maths is - \n",
      "Student1 is 95\n",
      "Student2 is 90\n",
      "Student3 is 89\n",
      "Student4 is 100\n",
      "Student5 is 90\n"
     ]
    }
   ],
   "source": [
    "# To display a specific record or marks for a particular subject\n",
    "# Print Maths Marks for All Student\n",
    "\n",
    "def printMarksforSubject(subIndex):\n",
    "    print(\"Marks for Subject {} is - \".format(student_mark_matrix[0][subIndex]))\n",
    "    for i in range(len(subject_list)+1):\n",
    "        if i != 0:\n",
    "            print(\"Student{} is {}\".format(i, student_mark_matrix[i][subIndex]))\n",
    "\n",
    "printMarksforSubject(subIndex=4)     ## Prints Marks for Maths"
   ]
  },
  {
   "attachments": {},
   "cell_type": "markdown",
   "metadata": {},
   "source": [
    "**We can create matrices using the functions available in NumPy library**"
   ]
  },
  {
   "attachments": {},
   "cell_type": "markdown",
   "metadata": {},
   "source": [
    "**Using np.zeros()**\n",
    " \n",
    "* The np.zeros() is a function for creating a matrix and performing matrix operations in NumPy. \n",
    "* It returns a matrix filled with zeros of the given shape. \n",
    "* It has the following parameters:    \n",
    "  * shape : Number of rows and columns in the output matrix.\n",
    "  * dtype: data type of the elements in the matrix, by default the value is set to `float`."
   ]
  },
  {
   "cell_type": "code",
   "execution_count": 17,
   "metadata": {},
   "outputs": [
    {
     "name": "stdout",
     "output_type": "stream",
     "text": [
      "[[0. 0. 0. 0. 0.]\n",
      " [0. 0. 0. 0. 0.]\n",
      " [0. 0. 0. 0. 0.]]\n"
     ]
    }
   ],
   "source": [
    "matrix_zero = np.zeros([3,5])  ## Rows = 3 and Column = 5\n",
    "print(matrix_zero)"
   ]
  },
  {
   "attachments": {},
   "cell_type": "markdown",
   "metadata": {},
   "source": [
    "**Using np.ones()**\n",
    "\n",
    "* The np.ones() is another function for creating a matrix and performing matrix operations in NumPy. \n",
    "* It returns a matrix of given shape and type, filled with ones.\n",
    "* It has the following parameters:  \n",
    "  * shape : Number of rows and columns in the output matrix.\n",
    "  * dtype: data type of the elements in the matrix, by default the value is set to `float`."
   ]
  },
  {
   "cell_type": "code",
   "execution_count": 18,
   "metadata": {
    "colab": {
     "base_uri": "https://localhost:8080/"
    },
    "id": "JJ-hv5dcjRN1",
    "outputId": "36153c38-6165-452a-a1ac-d38a31f07661"
   },
   "outputs": [
    {
     "name": "stdout",
     "output_type": "stream",
     "text": [
      "[[1. 1. 1.]\n",
      " [1. 1. 1.]\n",
      " [1. 1. 1.]\n",
      " [1. 1. 1.]\n",
      " [1. 1. 1.]]\n"
     ]
    }
   ],
   "source": [
    "matrix_one = np.ones([5,3])\n",
    "print(matrix_one)"
   ]
  },
  {
   "cell_type": "markdown",
   "metadata": {
    "id": "ge-0i4W2jH4S"
   },
   "source": [
    "**Using np.eye()**\n",
    "* The np.eye() is a function for creating a matrix and performing matrix operations in NumPy. \n",
    "* It returns a matrix with ones on the diagonal and zeros elsewhere. \n",
    "* It has the following parameters:\n",
    "  * n: Number of rows and columns in the output matrix \n",
    "  * dtype: data type of the elements in the matrix, by default the value is set to `float`."
   ]
  },
  {
   "cell_type": "code",
   "execution_count": 19,
   "metadata": {},
   "outputs": [
    {
     "name": "stdout",
     "output_type": "stream",
     "text": [
      "[[1. 0. 0. 0. 0.]\n",
      " [0. 1. 0. 0. 0.]\n",
      " [0. 0. 1. 0. 0.]\n",
      " [0. 0. 0. 1. 0.]\n",
      " [0. 0. 0. 0. 1.]]\n"
     ]
    }
   ],
   "source": [
    "matrix_eye = np.eye(5)\n",
    "print(matrix_eye)"
   ]
  },
  {
   "cell_type": "code",
   "execution_count": null,
   "metadata": {},
   "outputs": [
    {
     "name": "stdout",
     "output_type": "stream",
     "text": [
      "[[1. 0. 0.]\n",
      " [0. 1. 0.]]\n"
     ]
    }
   ],
   "source": [
    "matrix_eye2 = np.eye(2,3)\n",
    "print(matrix_eye2)"
   ]
  },
  {
   "cell_type": "code",
   "execution_count": 20,
   "metadata": {},
   "outputs": [
    {
     "name": "stdout",
     "output_type": "stream",
     "text": [
      "[[1. 0. 0. 0. 0.]\n",
      " [0. 1. 0. 0. 0.]\n",
      " [0. 0. 1. 0. 0.]\n",
      " [0. 0. 0. 1. 0.]\n",
      " [0. 0. 0. 0. 1.]]\n"
     ]
    }
   ],
   "source": [
    "matrix_eye3 = np.eye(5,5)\n",
    "print(matrix_eye3)"
   ]
  },
  {
   "cell_type": "code",
   "execution_count": 21,
   "metadata": {},
   "outputs": [
    {
     "name": "stdout",
     "output_type": "stream",
     "text": [
      "[[1. 0. 0.]\n",
      " [0. 1. 0.]\n",
      " [0. 0. 1.]\n",
      " [0. 0. 0.]\n",
      " [0. 0. 0.]]\n"
     ]
    }
   ],
   "source": [
    "matrix_eye4 = np.eye(5,3)\n",
    "print(matrix_eye4)"
   ]
  },
  {
   "cell_type": "markdown",
   "metadata": {
    "id": "DkJp6gB1dgHl"
   },
   "source": [
    "**We can also convert a one dimension array to a matrix. This can be done by using the np.reshape() function.**"
   ]
  },
  {
   "cell_type": "markdown",
   "metadata": {
    "id": "ifxHtcyyuVsX"
   },
   "source": [
    "* The shape of an array basically tells the number of elements and dimensions of the array. Reshaping a Numpy array simply means changing the shape of the given array. \n",
    "* By reshaping an array we can add or remove dimensions or change number of elements in each dimension. \n",
    "* In order to reshape a NumPy array, we use the reshape method with the given array. \n",
    "* **Syntax:** array.reshape(shape) \n",
    "  * shape: a tuple given as input, the values in tuple will be the new shape of the array."
   ]
  },
  {
   "cell_type": "code",
   "execution_count": 23,
   "id": "60cd5133",
   "metadata": {},
   "outputs": [
    {
     "name": "stdout",
     "output_type": "stream",
     "text": [
      "[ 8  9 10 11 12 13 14 15 16 17 18 19]\n"
     ]
    }
   ],
   "source": [
    "array2 = np.arange(8,20)\n",
    "print(array2)"
   ]
  },
  {
   "cell_type": "code",
   "execution_count": 22,
   "metadata": {},
   "outputs": [
    {
     "name": "stdout",
     "output_type": "stream",
     "text": [
      "[20 25 30 35 40 45]\n"
     ]
    }
   ],
   "source": [
    "array4 = np.arange(start = 20, stop = 50, step = 5)\n",
    "print(array4)"
   ]
  },
  {
   "cell_type": "code",
   "execution_count": 25,
   "metadata": {},
   "outputs": [
    {
     "name": "stdout",
     "output_type": "stream",
     "text": [
      "[[ 8  9 10 11]\n",
      " [12 13 14 15]\n",
      " [16 17 18 19]]\n"
     ]
    }
   ],
   "source": [
    "array2_matrix = np.reshape(array2,(3,4))\n",
    "print(array2_matrix)"
   ]
  },
  {
   "cell_type": "code",
   "execution_count": 26,
   "metadata": {},
   "outputs": [
    {
     "name": "stdout",
     "output_type": "stream",
     "text": [
      "[[ 8  9 10]\n",
      " [11 12 13]\n",
      " [14 15 16]\n",
      " [17 18 19]]\n"
     ]
    }
   ],
   "source": [
    "array2_matrix_02 = array2.reshape(4,3)\n",
    "print(array2_matrix_02)"
   ]
  },
  {
   "cell_type": "code",
   "execution_count": 28,
   "metadata": {},
   "outputs": [
    {
     "ename": "ValueError",
     "evalue": "cannot reshape array of size 12 into shape (4,4)",
     "output_type": "error",
     "traceback": [
      "\u001b[1;31m---------------------------------------------------------------------------\u001b[0m",
      "\u001b[1;31mValueError\u001b[0m                                Traceback (most recent call last)",
      "Cell \u001b[1;32mIn [28], line 1\u001b[0m\n\u001b[1;32m----> 1\u001b[0m array2_matrix_03 \u001b[39m=\u001b[39m array2\u001b[39m.\u001b[39;49mreshape(\u001b[39m4\u001b[39;49m,\u001b[39m4\u001b[39;49m)\n\u001b[0;32m      2\u001b[0m \u001b[39mprint\u001b[39m(array2_matrix_03)\n",
      "\u001b[1;31mValueError\u001b[0m: cannot reshape array of size 12 into shape (4,4)"
     ]
    }
   ],
   "source": [
    "array2_matrix_03 = array2.reshape(4,4)\n",
    "print(array2_matrix_03)"
   ]
  },
  {
   "cell_type": "markdown",
   "metadata": {
    "id": "7DGMoYswCocf"
   },
   "source": [
    "* This did not work because we have 10 elements which we are trying to fit in a 2 X 6 shape which will require 12 elements."
   ]
  },
  {
   "cell_type": "markdown",
   "metadata": {
    "id": "SrE8fcrFtt7c"
   },
   "source": [
    "**Operations on Matrices**"
   ]
  },
  {
   "cell_type": "code",
   "execution_count": 29,
   "metadata": {
    "colab": {
     "base_uri": "https://localhost:8080/"
    },
    "id": "p-lZfDhUrb2b",
    "outputId": "4d0618b6-0d12-4f61-cf5a-b967db9bbe4c"
   },
   "outputs": [
    {
     "name": "stdout",
     "output_type": "stream",
     "text": [
      "[[1 2 3]\n",
      " [4 5 6]\n",
      " [7 8 9]]\n",
      "[[1. 0. 0.]\n",
      " [0. 1. 0.]\n",
      " [0. 0. 1.]]\n"
     ]
    }
   ],
   "source": [
    "matrix7 = np.arange(1,10).reshape(3,3)\n",
    "print(matrix7)\n",
    "\n",
    "matrix8 = np.eye(3)\n",
    "print(matrix8)"
   ]
  },
  {
   "cell_type": "code",
   "execution_count": 30,
   "metadata": {
    "colab": {
     "base_uri": "https://localhost:8080/"
    },
    "id": "VGBAxsUUtyts",
    "outputId": "cd1b0dd5-1b4f-4815-8192-7ff4c22970f3"
   },
   "outputs": [
    {
     "name": "stdout",
     "output_type": "stream",
     "text": [
      "Addition: \n",
      " [[ 2.  2.  3.]\n",
      " [ 4.  6.  6.]\n",
      " [ 7.  8. 10.]]\n",
      "Subtraction: \n",
      "  [[0. 2. 3.]\n",
      " [4. 4. 6.]\n",
      " [7. 8. 8.]]\n",
      "Multiplication: \n",
      " [[1. 0. 0.]\n",
      " [0. 5. 0.]\n",
      " [0. 0. 9.]]\n",
      "Division: \n",
      " [[ 1. inf inf]\n",
      " [inf  5. inf]\n",
      " [inf inf  9.]]\n"
     ]
    },
    {
     "name": "stderr",
     "output_type": "stream",
     "text": [
      "C:\\Users\\Sudhanshu\\AppData\\Local\\Temp\\ipykernel_7908\\2604038799.py:4: RuntimeWarning: divide by zero encountered in divide\n",
      "  print('Division: \\n', matrix7/matrix8)\n"
     ]
    }
   ],
   "source": [
    "# the first element of array 1 is operated along withv first element of array 2\n",
    "\n",
    "print('Addition: \\n', matrix7+matrix8)\n",
    "print('Subtraction: \\n ', matrix7-matrix8)\n",
    "print('Multiplication: \\n', matrix7*matrix8)\n",
    "print('Division: \\n', matrix7/matrix8)"
   ]
  },
  {
   "cell_type": "markdown",
   "metadata": {
    "id": "c7jHF8Od6mHH"
   },
   "source": [
    "* RuntimeWarning: Errors which occur during program execution(run-time) after successful compilation are called run-time errors. \n",
    "* One of the most common run-time error is division by zero also known as Division error. \n",
    "* Due to division by zero error, we are getting inf (infinity) values because 1/0 is not a defined operation."
   ]
  },
  {
   "cell_type": "markdown",
   "metadata": {
    "id": "3WYcA-OxyL9Y"
   },
   "source": [
    "**Linear algebra matrix multiplication**"
   ]
  },
  {
   "cell_type": "code",
   "execution_count": 31,
   "metadata": {
    "colab": {
     "base_uri": "https://localhost:8080/"
    },
    "id": "nc0PAuG3sM6A",
    "outputId": "114bbac2-1d8a-4c8d-fd87-d5d077b9058c"
   },
   "outputs": [
    {
     "name": "stdout",
     "output_type": "stream",
     "text": [
      "First Matrix: \n",
      " [[1 2 3]\n",
      " [4 5 6]\n",
      " [7 8 9]]\n",
      "Second Matrix: \n",
      " [[11 12 13]\n",
      " [14 15 16]\n",
      " [17 18 19]]\n",
      "\n",
      "Multiplication: \n",
      " [[ 90  96 102]\n",
      " [216 231 246]\n",
      " [342 366 390]]\n"
     ]
    }
   ],
   "source": [
    "matrix9 = np.arange(1,10).reshape(3,3)\n",
    "print('First Matrix: \\n',matrix9)\n",
    "\n",
    "matrix10 = np.arange(11,20).reshape(3,3)\n",
    "print('Second Matrix: \\n',matrix10)\n",
    "print('')\n",
    "# taking linear algebra matrix multiplication (some may have heard this called the dot product)\n",
    "print('Multiplication: \\n', matrix9 @ matrix10)"
   ]
  },
  {
   "cell_type": "markdown",
   "metadata": {
    "id": "LQVkMw7Iynfu"
   },
   "source": [
    "**Transpose of a matrix**"
   ]
  },
  {
   "cell_type": "code",
   "execution_count": 32,
   "metadata": {
    "colab": {
     "base_uri": "https://localhost:8080/"
    },
    "id": "DJp3NtsrsSM4",
    "outputId": "f4a31d84-dba8-4d9a-c2f1-22500d08f49a"
   },
   "outputs": [
    {
     "name": "stdout",
     "output_type": "stream",
     "text": [
      "[[1 2 3]\n",
      " [4 5 6]\n",
      " [7 8 9]]\n"
     ]
    }
   ],
   "source": [
    "print(matrix9)"
   ]
  },
  {
   "cell_type": "code",
   "execution_count": 33,
   "metadata": {
    "colab": {
     "base_uri": "https://localhost:8080/"
    },
    "id": "MDKJgUlptKet",
    "outputId": "02f933fe-5d15-4d9d-cbaf-f8128df10709"
   },
   "outputs": [
    {
     "data": {
      "text/plain": [
       "array([[1, 4, 7],\n",
       "       [2, 5, 8],\n",
       "       [3, 6, 9]])"
      ]
     },
     "execution_count": 33,
     "metadata": {},
     "output_type": "execute_result"
    }
   ],
   "source": [
    "# taking transpose of matrix\n",
    "np.transpose(matrix9)"
   ]
  },
  {
   "cell_type": "code",
   "execution_count": 34,
   "metadata": {
    "colab": {
     "base_uri": "https://localhost:8080/"
    },
    "id": "PwwpvruatMRj",
    "outputId": "c7e89f4b-1226-4664-c0a0-27793f54d1cc"
   },
   "outputs": [
    {
     "data": {
      "text/plain": [
       "array([[1, 4, 7],\n",
       "       [2, 5, 8],\n",
       "       [3, 6, 9]])"
      ]
     },
     "execution_count": 34,
     "metadata": {},
     "output_type": "execute_result"
    }
   ],
   "source": [
    "# another way of taking a transpose\n",
    "matrix9.T"
   ]
  },
  {
   "cell_type": "markdown",
   "metadata": {
    "id": "YSl_vQk70bCS"
   },
   "source": [
    "**Function to find minimum and maximum values**"
   ]
  },
  {
   "cell_type": "code",
   "execution_count": 35,
   "metadata": {
    "colab": {
     "base_uri": "https://localhost:8080/"
    },
    "id": "TmPZB7tu0a2c",
    "outputId": "d1829f3f-bcdc-4e7d-f162-7048d1bc7a8f"
   },
   "outputs": [
    {
     "name": "stdout",
     "output_type": "stream",
     "text": [
      "[[1 2 3]\n",
      " [4 5 6]\n",
      " [7 8 9]]\n"
     ]
    }
   ],
   "source": [
    "print(matrix9)"
   ]
  },
  {
   "cell_type": "code",
   "execution_count": 36,
   "metadata": {
    "colab": {
     "base_uri": "https://localhost:8080/"
    },
    "id": "394LL_BZ0alr",
    "outputId": "d941df07-08d5-41a8-e37b-deab1b4647e6"
   },
   "outputs": [
    {
     "name": "stdout",
     "output_type": "stream",
     "text": [
      "Minimum value:  1\n"
     ]
    }
   ],
   "source": [
    "print('Minimum value: ',np.min(matrix9))"
   ]
  },
  {
   "cell_type": "code",
   "execution_count": 37,
   "metadata": {
    "colab": {
     "base_uri": "https://localhost:8080/"
    },
    "id": "SVs2Zx0J0ac3",
    "outputId": "06454e1d-c4e5-4ecf-e9cf-755f93b56990"
   },
   "outputs": [
    {
     "name": "stdout",
     "output_type": "stream",
     "text": [
      "Maximum value:  9\n"
     ]
    }
   ],
   "source": [
    "print('Maximum value: ',np.max(matrix9))"
   ]
  },
  {
   "attachments": {},
   "cell_type": "markdown",
   "id": "98af0c7e",
   "metadata": {
    "id": "J-K_ecWJ6M6n"
   },
   "source": [
    "### 2.3 Accessing the entries of a Numpy Array - Matrix"
   ]
  },
  {
   "cell_type": "code",
   "execution_count": 39,
   "id": "6527cc00",
   "metadata": {},
   "outputs": [
    {
     "name": "stdout",
     "output_type": "stream",
     "text": [
      "rand_num -  32\n",
      "np_array1 - [36 28 61 68 68 46 31 13 92 86 83 57 87 95 20 41 66 45 66 13]\n",
      "np_matrix1 -\n",
      " [[ 97 148 164  95  11  80]\n",
      " [161  83  74  43  66  59]\n",
      " [ 70 133 127 197  31  73]\n",
      " [ 74 186 178  68  20  31]\n",
      " [109  73 138  47 133  92]\n",
      " [ 13  43  76 131 149  90]]\n"
     ]
    }
   ],
   "source": [
    "rand_num = np.random.randint(10,50)\n",
    "print(\"rand_num - \",rand_num)\n",
    "\n",
    "np_array1 = np.random.randint(10,100,20)\n",
    "print(\"np_array1 -\",np_array1)\n",
    "\n",
    "np_matrix1 = np.random.randint(10,200,[6,6])\n",
    "print(\"np_matrix1 -\\n\",np_matrix1)"
   ]
  },
  {
   "cell_type": "code",
   "execution_count": 46,
   "id": "97015e63",
   "metadata": {},
   "outputs": [
    {
     "name": "stdout",
     "output_type": "stream",
     "text": [
      "First Element of the Array - 36\n",
      "5th to 10th Element of the Array - [68 46 31 13 92 86]\n",
      "Last 5 Element of the Array - [41 66 45 66 13]\n",
      "First 5 Element of the Array - [36 28 61 68 68]\n",
      "First row of the Matrix - [ 97 148 164  95  11  80]\n",
      "First column of the Matrix - [ 97 161  70  74 109  13]\n",
      "Last row of the Matrix - [ 13  43  76 131 149  90]\n",
      "Last column of the Matrix - [80 59 73 31 92 90]\n",
      "Acessing third element of the second row 74\n",
      "Acessing third element of the second row 74\n",
      "Accessing first two rows with second and third column - \n",
      " [[148 164]\n",
      " [ 83  74]]\n"
     ]
    }
   ],
   "source": [
    "print(\"First Element of the Array -\", np_array1[0])\n",
    "\n",
    "print(\"5th to 10th Element of the Array -\", np_array1[4:10])\n",
    "\n",
    "print(\"Last 5 Element of the Array -\", np_array1[-5:])\n",
    "\n",
    "print(\"First 5 Element of the Array -\", np_array1[0:5])\n",
    "\n",
    "\n",
    "print(\"First row of the Matrix -\", np_matrix1[0])\n",
    "print(\"First column of the Matrix -\", np_matrix1[: ,0])\n",
    "\n",
    "print(\"Last row of the Matrix -\", np_matrix1[-1])\n",
    "print(\"Last column of the Matrix -\", np_matrix1[: ,-1])\n",
    "\n",
    "# \"acessing third element of the second row\", acessing third element of the second row\n",
    "print(\"Acessing third element of the second row\", np_matrix1[1][2])\n",
    "#or \n",
    "print(\"Acessing third element of the second row\",np_matrix1[1,2])\n",
    " \n",
    "print(\"Accessing first two rows with second and third column - \\n\",np_matrix1[0:2,1:3])"
   ]
  },
  {
   "cell_type": "code",
   "execution_count": 47,
   "id": "76087bf2",
   "metadata": {},
   "outputs": [
    {
     "name": "stdout",
     "output_type": "stream",
     "text": [
      "Array Elements greater than 50 are - [61 68 68 92 86 83 57 87 95 66 66]\n",
      "Array Elements less than 30 are - [28 13 20 13]\n",
      "Matrix Elements greater than 50 are - [148 164 161 133 127 197 186 178 109 138 133 131 149]\n",
      "Matrix Elements less than 30 are - [11 43 31 20 31 47 13 43]\n"
     ]
    }
   ],
   "source": [
    "print(\"Array Elements greater than 50 are -\", np_array1[np_array1>50])\n",
    "\n",
    "print(\"Array Elements less than 30 are -\", np_array1[np_array1<30])\n",
    "\n",
    "print(\"Matrix Elements greater than 50 are -\", np_matrix1[np_matrix1>100])\n",
    "\n",
    "print(\"Matrix Elements less than 30 are -\", np_matrix1[np_matrix1<50])"
   ]
  },
  {
   "cell_type": "markdown",
   "metadata": {
    "id": "lhoMit_Da8F4"
   },
   "source": [
    "**Modifying the entries of a Matrix**"
   ]
  },
  {
   "cell_type": "code",
   "execution_count": 48,
   "metadata": {
    "colab": {
     "base_uri": "https://localhost:8080/"
    },
    "id": "fJ02uz8obsqC",
    "outputId": "235baae0-f38e-4a43-9f8e-5e422b8973b7"
   },
   "outputs": [
    {
     "name": "stdout",
     "output_type": "stream",
     "text": [
      "[[ 97 148 164  95  11  80]\n",
      " [161  83  74  43  66  59]\n",
      " [ 70 133 127 197  31  73]\n",
      " [ 74 186 178  68  20  31]\n",
      " [109  73 138  47 133  92]\n",
      " [ 13  43  76 131 149  90]]\n"
     ]
    }
   ],
   "source": [
    "print(np_matrix1)"
   ]
  },
  {
   "cell_type": "code",
   "execution_count": 51,
   "metadata": {
    "colab": {
     "base_uri": "https://localhost:8080/"
    },
    "id": "dVNbm4oKNtkr",
    "outputId": "40ac65ce-41bd-4bc3-bc61-0ce7abad83c1"
   },
   "outputs": [
    {
     "name": "stdout",
     "output_type": "stream",
     "text": [
      "Matrix before modification: \n",
      " [[ 97 148 164  95  11  80]\n",
      " [161  83  74 -50 -50  59]\n",
      " [ 70 133 127 -50 -50  73]\n",
      " [ 74 186 178  68  20  31]\n",
      " [109  73 138  47 133  92]\n",
      " [ 13  43  76 131 149  90]]\n",
      "\n",
      " Matrix after modification: \n",
      " [[ 97 148 -50 -50 -50  80]\n",
      " [161  83 -50 -50 -50  59]\n",
      " [ 70 133 -50 -50 -50  73]\n",
      " [ 74 186 178  68  20  31]\n",
      " [109  73 138  47 133  92]\n",
      " [ 13  43  76 131 149  90]]\n"
     ]
    }
   ],
   "source": [
    "# changing the values of the 4th and 5th element of the second and third rows of the matrix to 0\n",
    "print('Matrix before modification: \\n',np_matrix1)\n",
    "np_matrix1[0:3,2:5] = -50\n",
    "print('\\n Matrix after modification: \\n',np_matrix1)"
   ]
  },
  {
   "cell_type": "code",
   "execution_count": 52,
   "metadata": {
    "colab": {
     "base_uri": "https://localhost:8080/"
    },
    "id": "uP3butowNtvp",
    "outputId": "3d35ab10-b02c-4d68-b62d-5cb6f870fc6a"
   },
   "outputs": [
    {
     "name": "stdout",
     "output_type": "stream",
     "text": [
      "[[-50 -50 -50]\n",
      " [-50 -50 -50]\n",
      " [178  68  20]]\n"
     ]
    }
   ],
   "source": [
    "# extracting the first 2 rows and first 3 columns from the matrix\n",
    "sub_matrix = np_matrix1[1:4,2:5]\n",
    "print(sub_matrix)"
   ]
  },
  {
   "cell_type": "code",
   "execution_count": 53,
   "metadata": {
    "colab": {
     "base_uri": "https://localhost:8080/"
    },
    "id": "3DgctOvENt14",
    "outputId": "a467bb0d-8290-4f93-d50c-3a23c634d70c"
   },
   "outputs": [
    {
     "name": "stdout",
     "output_type": "stream",
     "text": [
      "[[1 1 1]\n",
      " [1 1 1]\n",
      " [1 1 1]]\n"
     ]
    }
   ],
   "source": [
    "# changing all the values of the extracted matrix to 3\n",
    "sub_matrix[:] = 1\n",
    "print(sub_matrix)"
   ]
  },
  {
   "cell_type": "code",
   "execution_count": 54,
   "metadata": {
    "colab": {
     "base_uri": "https://localhost:8080/"
    },
    "id": "hskgV9vG9lxx",
    "outputId": "ec90a56c-2f27-485e-e7b4-ef3a82b942a2"
   },
   "outputs": [
    {
     "name": "stdout",
     "output_type": "stream",
     "text": [
      "[[ 97 148 -50 -50 -50  80]\n",
      " [161  83   1   1   1  59]\n",
      " [ 70 133   1   1   1  73]\n",
      " [ 74 186   1   1   1  31]\n",
      " [109  73 138  47 133  92]\n",
      " [ 13  43  76 131 149  90]]\n"
     ]
    }
   ],
   "source": [
    "# what happened to rand_mat when we change sub_mat?\n",
    "print(np_matrix1)"
   ]
  },
  {
   "cell_type": "code",
   "execution_count": 55,
   "metadata": {
    "colab": {
     "base_uri": "https://localhost:8080/"
    },
    "id": "PryCb2h29sHx",
    "outputId": "e1fdf33d-7740-4cf8-e99b-9d985643ef81"
   },
   "outputs": [
    {
     "name": "stdout",
     "output_type": "stream",
     "text": [
      "[[114 174  41  24  11  49]\n",
      " [ 74 132  11 184  78 106]\n",
      " [177 147 176 189 134  66]\n",
      " [ 36 128  64  65  74 112]\n",
      " [ 85  32 184  49  22 150]\n",
      " [197  86 176  19  47  73]]\n",
      "[[1 1 1]\n",
      " [1 1 1]\n",
      " [1 1 1]]\n",
      "\n",
      "\n",
      "[[114 174  41  24  11  49]\n",
      " [ 74 132  11 184  78 106]\n",
      " [177 147 176 189 134  66]\n",
      " [ 36 128  64  65  74 112]\n",
      " [ 85  32 184  49  22 150]\n",
      " [197  86 176  19  47  73]]\n"
     ]
    }
   ],
   "source": [
    "# to prevent this behavior we need to use the .copy() method when we assign sub_mat\n",
    "# this behavior is the source of MANY errors for early python users!!!\n",
    "\n",
    "np_matrix2 = np.random.randint(10,200,[6,6])\n",
    "print(np_matrix2)\n",
    "print(\"\\n\")\n",
    "sub_matrix2 = np_matrix2[1:4,2:5].copy()\n",
    "sub_matrix2[:] = 1\n",
    "print(sub_matrix2)\n",
    "print(\"\\n\")\n",
    "print(np_matrix2)"
   ]
  }
 ],
 "metadata": {
  "kernelspec": {
   "display_name": "Python 3",
   "language": "python",
   "name": "python3"
  },
  "language_info": {
   "codemirror_mode": {
    "name": "ipython",
    "version": 3
   },
   "file_extension": ".py",
   "mimetype": "text/x-python",
   "name": "python",
   "nbconvert_exporter": "python",
   "pygments_lexer": "ipython3",
   "version": "3.10.5"
  },
  "orig_nbformat": 4,
  "vscode": {
   "interpreter": {
    "hash": "e59e1cc31db9fab12357d479a0083146e6632a2ec9a920ad0cc1ad5f88c08e75"
   }
  }
 },
 "nbformat": 4,
 "nbformat_minor": 2
}
