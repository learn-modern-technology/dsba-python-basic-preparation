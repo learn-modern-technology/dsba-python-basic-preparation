{
 "cells": [
  {
   "attachments": {},
   "cell_type": "markdown",
   "metadata": {},
   "source": [
    "**NumPy Matrix**"
   ]
  },
  {
   "cell_type": "code",
   "execution_count": 6,
   "metadata": {},
   "outputs": [],
   "source": [
    "import numpy as np"
   ]
  },
  {
   "attachments": {},
   "cell_type": "markdown",
   "metadata": {},
   "source": [
    "* A matrix is a two-dimensional data structure where elements are arranged into rows and columns.\n",
    "* A matrix can be created by using list of lists\n",
    "* We see that all the NumPy objects have data type as ndarray"
   ]
  },
  {
   "cell_type": "code",
   "execution_count": 7,
   "metadata": {},
   "outputs": [
    {
     "name": "stdout",
     "output_type": "stream",
     "text": [
      "[[1 2 1]\n",
      " [4 5 9]\n",
      " [1 8 9]]\n"
     ]
    }
   ],
   "source": [
    "# let's say we have information of different number of cylinders in a car and we want to display them in a matrix format\n",
    "matrix = np.array([[1,2,1],[4,5,9],[1,8,9]])\n",
    "print(matrix)"
   ]
  },
  {
   "cell_type": "code",
   "execution_count": 11,
   "metadata": {},
   "outputs": [
    {
     "name": "stdout",
     "output_type": "stream",
     "text": [
      "Data Type of Matrix is <class 'numpy.ndarray'>\n"
     ]
    }
   ],
   "source": [
    "print(\"Data Type of Matrix is {}\".format(type(matrix)))"
   ]
  },
  {
   "cell_type": "code",
   "execution_count": 13,
   "metadata": {},
   "outputs": [
    {
     "name": "stdout",
     "output_type": "stream",
     "text": [
      "[['English' 'Chemistry' 'Physics' 'Computer Science' 'Maths']\n",
      " ['80' '92' '92' '92' '95']\n",
      " ['73' '88' '92' '96' '90']\n",
      " ['79' '88' '72' '66' '89']\n",
      " ['52' '62' '92' '96' '100']\n",
      " ['96' '59' '100' '72' '90']]\n"
     ]
    }
   ],
   "source": [
    "# let's say we have information of Marks of 5 students in 5 subjects stored as list in a matrix format\n",
    "subject_list = ['English','Chemistry', 'Physics', 'Computer Science', 'Maths']\n",
    "student1_marks = [80, 92, 92, 92, 95]\n",
    "student2_marks = [73, 88, 92, 96, 90]\n",
    "student3_marks = [79, 88, 72, 66, 89]\n",
    "student4_marks = [52, 62, 92, 96, 100]\n",
    "student5_marks = [96, 59, 100, 72, 90]\n",
    "student_mark_matrix = np.array([subject_list, student1_marks, student2_marks, student3_marks, student4_marks, student5_marks])\n",
    "print(student_mark_matrix)\n"
   ]
  },
  {
   "cell_type": "code",
   "execution_count": 32,
   "metadata": {},
   "outputs": [
    {
     "name": "stdout",
     "output_type": "stream",
     "text": [
      "Marks for Subject Maths is - \n",
      "Student1 is 95\n",
      "Student2 is 90\n",
      "Student3 is 89\n",
      "Student4 is 100\n",
      "Student5 is 90\n"
     ]
    }
   ],
   "source": [
    "# To display a specific record or marks for a particular subject\n",
    "# Print Maths Marks for All Student\n",
    "\n",
    "def printMarksforSubject(subIndex):\n",
    "    print(\"Marks for Subject {} is - \".format(student_mark_matrix[0][subIndex]))\n",
    "    for i in range(len(subject_list)+1):\n",
    "        if i != 0:\n",
    "            print(\"Student{} is {}\".format(i, student_mark_matrix[i][subIndex]))\n",
    "\n",
    "printMarksforSubject(subIndex=4)     ## Prints Marks for Maths"
   ]
  },
  {
   "cell_type": "code",
   "execution_count": null,
   "metadata": {},
   "outputs": [],
   "source": []
  }
 ],
 "metadata": {
  "kernelspec": {
   "display_name": "Python 3",
   "language": "python",
   "name": "python3"
  },
  "language_info": {
   "codemirror_mode": {
    "name": "ipython",
    "version": 3
   },
   "file_extension": ".py",
   "mimetype": "text/x-python",
   "name": "python",
   "nbconvert_exporter": "python",
   "pygments_lexer": "ipython3",
   "version": "3.10.5 (tags/v3.10.5:f377153, Jun  6 2022, 16:14:13) [MSC v.1929 64 bit (AMD64)]"
  },
  "orig_nbformat": 4,
  "vscode": {
   "interpreter": {
    "hash": "e59e1cc31db9fab12357d479a0083146e6632a2ec9a920ad0cc1ad5f88c08e75"
   }
  }
 },
 "nbformat": 4,
 "nbformat_minor": 2
}
