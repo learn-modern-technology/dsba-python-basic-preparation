{
 "cells": [
  {
   "cell_type": "markdown",
   "id": "0a03f10e-2659-4f21-b158-ee1f4dcfb916",
   "metadata": {
    "id": "crVFfqHF_7Qj"
   },
   "source": [
    "## Looping Statements\n"
   ]
  },
  {
   "cell_type": "markdown",
   "id": "3525b193-b38f-4541-b0da-4ea04d5b9bd6",
   "metadata": {
    "id": "02kfQy3pKSLz"
   },
   "source": [
    "\n",
    "\n",
    "\n",
    "Suppose the store wants to check the price of the Apple iPhone (4GB, 128GB) after providing 5%, 10%, 15%, and 20% discounts respectively. Instead of calculating the discounted prices multiple times, looping statements can be used to achieve this.\n",
    "\n",
    "Q. Write a code in Python that prints the discounted price for each of the above-mentioned discounts.\n"
   ]
  },
  {
   "cell_type": "markdown",
   "id": "7266321f-1d25-4309-b763-8e8faa8fd835",
   "metadata": {
    "id": "XimtS0PyirT9"
   },
   "source": [
    "Before jumping into the concept of looping, let's have a look at the **range()** function in Python.\n",
    "\n",
    "The **range()** method returns an **immutable sequence of numbers** between the given start integer to the stop integer."
   ]
  },
  {
   "cell_type": "code",
   "execution_count": 1,
   "id": "91fab9a7-2b24-473c-bbb4-c8f3bdd0e483",
   "metadata": {},
   "outputs": [
    {
     "data": {
      "text/plain": [
       "range(0, 6)"
      ]
     },
     "execution_count": 1,
     "metadata": {},
     "output_type": "execute_result"
    }
   ],
   "source": [
    "range(6)"
   ]
  },
  {
   "cell_type": "code",
   "execution_count": 2,
   "id": "9d760001-e182-40fa-876f-a14b214548f7",
   "metadata": {},
   "outputs": [
    {
     "data": {
      "text/plain": [
       "[0, 1, 2, 3, 4, 5]"
      ]
     },
     "execution_count": 2,
     "metadata": {},
     "output_type": "execute_result"
    }
   ],
   "source": [
    "list(range(6))"
   ]
  },
  {
   "cell_type": "code",
   "execution_count": 3,
   "id": "c97a6c40-b2d7-48bc-8491-380313249765",
   "metadata": {},
   "outputs": [
    {
     "name": "stdout",
     "output_type": "stream",
     "text": [
      "[0, 1, 2, 3, 4, 5]\n"
     ]
    }
   ],
   "source": [
    "print(list(range(0,6)))"
   ]
  },
  {
   "cell_type": "code",
   "execution_count": 4,
   "id": "7ae42491-3a47-42e4-b32d-3b4d97b98c25",
   "metadata": {},
   "outputs": [
    {
     "name": "stdout",
     "output_type": "stream",
     "text": [
      "[0, 4, 8, 12, 16, 20, 24, 28, 32]\n"
     ]
    }
   ],
   "source": [
    "print(list(range(0,36,4)))"
   ]
  },
  {
   "cell_type": "code",
   "execution_count": 5,
   "id": "d194438b-0b09-48ca-b07d-f570949fac85",
   "metadata": {},
   "outputs": [
    {
     "name": "stdout",
     "output_type": "stream",
     "text": [
      "[0, 3, 6, 9, 12, 15, 18, 21, 24, 27, 30, 33]\n"
     ]
    }
   ],
   "source": [
    "print(list(range(0,36,3)))"
   ]
  },
  {
   "cell_type": "code",
   "execution_count": 11,
   "id": "f62dcf0b-a1d1-4941-8f0a-a3586f749249",
   "metadata": {},
   "outputs": [
    {
     "name": "stdout",
     "output_type": "stream",
     "text": [
      "[0, 5, 10, 15, 20, 25, 30, 35]\n"
     ]
    }
   ],
   "source": [
    "print(list(range(0,36,5)))"
   ]
  },
  {
   "cell_type": "markdown",
   "id": "39e153e1-4126-4bef-b993-82046cccd466",
   "metadata": {
    "id": "wColSzouLhq7"
   },
   "source": [
    "Loops are used in Python to iterate over a sequence.\n",
    "\n",
    "The syntax of the 'for loop' is:\n",
    "\n",
    "```\n",
    "for iterator_var in sequence:\n",
    "    statements(s)\n",
    "```\n",
    "\n"
   ]
  },
  {
   "cell_type": "code",
   "execution_count": 8,
   "id": "7ed1f3cd-2aa2-41ad-838d-ba50a5b8940a",
   "metadata": {
    "colab": {
     "base_uri": "https://localhost:8080/"
    },
    "id": "_1yuJc2JAhqD",
    "outputId": "6c190a85-9c1a-4286-aeb9-acb60e5dfd08"
   },
   "outputs": [
    {
     "name": "stdout",
     "output_type": "stream",
     "text": [
      "The price after providing 5 percent discount is $855.0\n",
      "The price after providing 5 percent discount is $ 855.0\n",
      "The price after providing 10 percent discount is $810.0\n",
      "The price after providing 10 percent discount is $ 810.0\n",
      "The price after providing 15 percent discount is $765.0\n",
      "The price after providing 15 percent discount is $ 765.0\n",
      "The price after providing 20 percent discount is $720.0\n",
      "The price after providing 20 percent discount is $ 720.0\n"
     ]
    }
   ],
   "source": [
    "# store the price (in dollars) of the mobile in variable 'Price'.\n",
    "price = 900\n",
    "# start the for loop\n",
    "for i in range(5, 21, 5):\n",
    "  # calculate the discount amount\n",
    "  discount = price * (i / 100)\n",
    "  # calculate the discounted price\n",
    "  discounted_price = price - discount\n",
    "  # print the discounted price\n",
    "  print('The price after providing ', i, ' percent discount is $', discounted_price,sep='')\n",
    "  print('The price after providing', i, 'percent discount is $', discounted_price)"
   ]
  },
  {
   "cell_type": "markdown",
   "id": "cece0485-6caf-42ad-ba94-032783376fae",
   "metadata": {
    "id": "VtgR0jG1vuO7"
   },
   "source": [
    "We can also use the while loop to iterate over a sequence. The syntax of the 'while loop' is:\n",
    "\n",
    "```\n",
    "while condition:\n",
    "    statements(s)\n",
    "```\n",
    "\n",
    "Let's try to solve the above question using 'while' loops."
   ]
  },
  {
   "cell_type": "code",
   "execution_count": 9,
   "id": "65309bd7-0b6a-45bc-803e-3429239ae2b1",
   "metadata": {
    "colab": {
     "base_uri": "https://localhost:8080/"
    },
    "id": "9PYkcD-XQKfu",
    "outputId": "42103cbf-15a4-4c8d-d092-1af3040f7fb4"
   },
   "outputs": [
    {
     "name": "stdout",
     "output_type": "stream",
     "text": [
      "The price after providing 5 percent discount is $855.0\n",
      "The price after providing 10 percent discount is $810.0\n",
      "The price after providing 15 percent discount is $765.0\n",
      "The price after providing 20 percent discount is $720.0\n"
     ]
    }
   ],
   "source": [
    "# store the price (in dollars) of the mobile in variable 'Price'.\n",
    "Price = 900\n",
    "# set the value of i to 5\n",
    "i = 5\n",
    "# start the while loop\n",
    "while i <= 20:\n",
    "  # calculate the discount amount\n",
    "  discount = Price * (i / 100)\n",
    "  # calculate the discounted price\n",
    "  discounted_price = Price - discount\n",
    "  # print the discounted price\n",
    "  print('The price after providing ',i, ' percent discount is $', discounted_price,sep='')\n",
    "  # increase the value of i by 5\n",
    "  i += 5"
   ]
  },
  {
   "cell_type": "code",
   "execution_count": 10,
   "id": "b098dc59-516f-428c-80c3-74eb2d1296d5",
   "metadata": {},
   "outputs": [
    {
     "name": "stdout",
     "output_type": "stream",
     "text": [
      "i - 25\n"
     ]
    }
   ],
   "source": [
    "print(\"i -\",i)"
   ]
  },
  {
   "cell_type": "code",
   "execution_count": null,
   "id": "1a1e935a-5fd3-4aa5-8c8f-0424ac63bbdc",
   "metadata": {},
   "outputs": [],
   "source": []
  }
 ],
 "metadata": {
  "kernelspec": {
   "display_name": "Python 3 (ipykernel)",
   "language": "python",
   "name": "python3"
  },
  "language_info": {
   "codemirror_mode": {
    "name": "ipython",
    "version": 3
   },
   "file_extension": ".py",
   "mimetype": "text/x-python",
   "name": "python",
   "nbconvert_exporter": "python",
   "pygments_lexer": "ipython3",
   "version": "3.9.13"
  }
 },
 "nbformat": 4,
 "nbformat_minor": 5
}
