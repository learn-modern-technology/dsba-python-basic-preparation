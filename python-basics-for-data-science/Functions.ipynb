{
 "cells": [
  {
   "cell_type": "markdown",
   "id": "de5e4ff8-9e97-48af-9065-9e473d798428",
   "metadata": {
    "id": "xEPReYdxm-E5"
   },
   "source": [
    "## 1.6 Functions in Python"
   ]
  },
  {
   "cell_type": "markdown",
   "id": "1502783a-9251-4d81-995c-701886d38a72",
   "metadata": {
    "id": "XsVOy7oaoSXM"
   },
   "source": [
    "**What is a Function in Python?**\n",
    "\n",
    "In Python, a function is a block of instructions that performs a specific task.\n",
    "\n",
    "We have already seen a few functions in python.  min and max were functions that found the minimum and maximum numbers in a list!\n",
    "\n",
    "In Python, we can also define our own functions! We don't have to rely on the ones that are already there.\n",
    "\n",
    "Functions break the program into modular chunks which can be reused later. Functions are used to make the program more organized and manageable.\n",
    "\n",
    "\n",
    "**Syntax of a function**\n",
    "\n",
    "Functions that users define themselves to a particular task are referred to as user-defined functions.\n",
    "\n",
    "```\n",
    "def function_name(parameters):\n",
    "\t'''explain what a function does'''\n",
    "\tstatement(s)\n",
    "```\n",
    "\n"
   ]
  },
  {
   "cell_type": "markdown",
   "id": "5612e35c-61d7-4265-a681-d6a3f6fcee0b",
   "metadata": {
    "id": "kMUsQDMVpgHh"
   },
   "source": [
    "Let's say the store wants to market the Apple iPhone by displaying its attributes to each customer.\n",
    "\n",
    "Q. Write a function in Python that displays the attributes of the Apple iPhone."
   ]
  },
  {
   "cell_type": "code",
   "execution_count": 2,
   "id": "5e1fb01a-19a8-4f35-84d4-f0343e417004",
   "metadata": {
    "id": "2qdL41zapfT5"
   },
   "outputs": [],
   "source": [
    "# write the function\n",
    "def display_iphone_attributes():\n",
    "    '''\n",
    "    This function displays\n",
    "    the stored attributes of\n",
    "    the Apple iPhone\n",
    "    '''\n",
    "    # store the price (in dollars) of the mobile in variable 'price'\n",
    "    price = 900\n",
    "    # store the RAM (in GB) of the mobile in variable 'ram'.\n",
    "    ram = 4\n",
    "    # store the internal storage (in GB) of the mobile in variable 'storage'.\n",
    "    storage = 128\n",
    "    # display the details\n",
    "    print('The Apple iPhone has ', ram, ' GB RAM and ', storage, ' GB internal storage and it costs $', price, sep='')"
   ]
  },
  {
   "cell_type": "markdown",
   "id": "98adaf95-33c5-4313-b50a-792140125980",
   "metadata": {
    "id": "8SQoJ4wWr-1g"
   },
   "source": [
    "**How to call a function in python?**\n",
    "\n",
    "Once the function is defined, we can simply call the function by writing the function name with appropriate parameters. The function definition must always be written before the function call. Else, we will get an error."
   ]
  },
  {
   "cell_type": "code",
   "execution_count": 3,
   "id": "72e8d330-00f3-40bf-8205-c504d37e7380",
   "metadata": {
    "id": "qmSi4POvsYTM"
   },
   "outputs": [
    {
     "name": "stdout",
     "output_type": "stream",
     "text": [
      "The Apple iPhone has 4 GB RAM and 128 GB internal storage and it costs $900\n"
     ]
    }
   ],
   "source": [
    "# call the function\n",
    "display_iphone_attributes()"
   ]
  },
  {
   "cell_type": "markdown",
   "id": "f0492ad8-2d7d-4ee8-a530-05d102c438ca",
   "metadata": {
    "id": "8bKo7D3JtjlK"
   },
   "source": [
    "**How to write a Python function with arguments?**\n",
    "\n",
    "In Python, you can also define a function that takes a variable number of arguments. Let's try an example!\n",
    "\n",
    "Q. Write a function in Python that displays the attributes of a phone.\n",
    "\n"
   ]
  },
  {
   "cell_type": "code",
   "execution_count": 4,
   "id": "9bcba0c7-1fe7-41dd-aade-a8df8a8e226b",
   "metadata": {
    "id": "do-AAwmitijp"
   },
   "outputs": [],
   "source": [
    "# write the function\n",
    "def display_phone_attributes(brand, price, ram, storage):\n",
    "    \"\"\"\n",
    "    This function displays\n",
    "    the stored attributes of\n",
    "    any phone\n",
    "    \"\"\"\n",
    "    # display the details\n",
    "    print('The ', brand, ' phone has ', ram, ' GB RAM and ', storage,' GB internal storage and it costs $',price,sep='')"
   ]
  },
  {
   "cell_type": "code",
   "execution_count": 5,
   "id": "02d4a7ac-c9aa-4a78-8863-c03012ee9724",
   "metadata": {
    "id": "YHqgx5GWwZGT"
   },
   "outputs": [
    {
     "name": "stdout",
     "output_type": "stream",
     "text": [
      "The samsung phone has 12 GB RAM and 128 GB internal storage and it costs $899\n"
     ]
    }
   ],
   "source": [
    "# call the function\n",
    "display_phone_attributes('samsung', 899, 12, 128)"
   ]
  },
  {
   "cell_type": "markdown",
   "id": "8b8d78e9-3943-46c7-84bd-53eb85ca4e11",
   "metadata": {
    "id": "Dpqah3c3xcuO"
   },
   "source": [
    "Since we have called the function with the appropriate number of arguments, it runs smoothly without any error. The interpreter will show an error message in case we call it with a different number of arguments.\n",
    "\n",
    "Let's try calling the function with 3 arguments."
   ]
  },
  {
   "cell_type": "code",
   "execution_count": 6,
   "id": "786d8abb-61ca-45f2-aeb9-dd4c76b67bc1",
   "metadata": {
    "id": "sLwV4-39xzDA"
   },
   "outputs": [
    {
     "ename": "TypeError",
     "evalue": "display_phone_attributes() missing 1 required positional argument: 'storage'",
     "output_type": "error",
     "traceback": [
      "\u001b[1;31m---------------------------------------------------------------------------\u001b[0m",
      "\u001b[1;31mTypeError\u001b[0m                                 Traceback (most recent call last)",
      "\u001b[1;32m~\\AppData\\Local\\Temp\\ipykernel_14924\\3516429667.py\u001b[0m in \u001b[0;36m<module>\u001b[1;34m\u001b[0m\n\u001b[0;32m      1\u001b[0m \u001b[1;31m# call the function with 3 arguments\u001b[0m\u001b[1;33m\u001b[0m\u001b[1;33m\u001b[0m\u001b[0m\n\u001b[1;32m----> 2\u001b[1;33m \u001b[0mdisplay_phone_attributes\u001b[0m\u001b[1;33m(\u001b[0m\u001b[1;34m'samsung'\u001b[0m\u001b[1;33m,\u001b[0m \u001b[1;36m899\u001b[0m\u001b[1;33m,\u001b[0m \u001b[1;36m12\u001b[0m\u001b[1;33m)\u001b[0m\u001b[1;33m\u001b[0m\u001b[1;33m\u001b[0m\u001b[0m\n\u001b[0m",
      "\u001b[1;31mTypeError\u001b[0m: display_phone_attributes() missing 1 required positional argument: 'storage'"
     ]
    }
   ],
   "source": [
    "# call the function with 3 arguments\n",
    "display_phone_attributes('samsung', 899, 12)"
   ]
  },
  {
   "cell_type": "markdown",
   "id": "136b2dcd-bbf3-4565-b214-6c1a77ee71e4",
   "metadata": {
    "id": "es8xsN4dx8wG"
   },
   "source": [
    "**What is a return statement?**\n",
    "\n",
    "The return statement is used to exit a function and also returns the output.\n",
    "\n",
    "Q. Write a function in Python that takes the discount percentage as input and returns the discounted price of an Apple iPhone."
   ]
  },
  {
   "cell_type": "code",
   "execution_count": 7,
   "id": "03bb1d03-020d-424a-97f7-442404709b53",
   "metadata": {
    "id": "gHOoGYQzyjYw"
   },
   "outputs": [],
   "source": [
    "# write the function\n",
    "def dis_price(discount):\n",
    "    \"\"\"\n",
    "    This function takes the discount \n",
    "    percentage as input and \n",
    "    returns the discounted price of Apple iPhone\n",
    "    \"\"\"\n",
    "    # store the price (in dollars) of the mobile in variable 'price'\n",
    "    price = 900\n",
    "    # calculate the price after discount\n",
    "    discounted_price = price - price * (discount / 100)\n",
    "    # return the discounted price\n",
    "    return discounted_price"
   ]
  },
  {
   "cell_type": "code",
   "execution_count": 8,
   "id": "80c1e27d-4e4d-4fac-b0b8-0c857f4830f5",
   "metadata": {
    "id": "kfxk0YnjzIdu"
   },
   "outputs": [
    {
     "data": {
      "text/plain": [
       "810.0"
      ]
     },
     "execution_count": 8,
     "metadata": {},
     "output_type": "execute_result"
    }
   ],
   "source": [
    "# call the function with discount = 10%\n",
    "dp = dis_price(10)\n",
    "dp"
   ]
  },
  {
   "cell_type": "markdown",
   "id": "41977140-5abc-4407-9c13-b9938d645441",
   "metadata": {
    "id": "_IPo7Bjiz7T0"
   },
   "source": [
    "In Python, lambda function are functions a different way to define a function \n",
    "\n",
    "* User-defined functions are defined using the def keyword, whereas lambda functions are defined using the lambda keyword.\n",
    "* We generally use them when we require an anonymous function for a small task\n",
    "* We cannot use a return statement with lambda functions.\n",
    "\n",
    "Let's try to get the discounted price using lambda function."
   ]
  },
  {
   "cell_type": "code",
   "execution_count": 9,
   "id": "04ed727c-522e-450b-98be-4ff31b0f3c82",
   "metadata": {
    "id": "DggmBW-X0xxa"
   },
   "outputs": [],
   "source": [
    "# lambda functions\n",
    "dis_price_lambda = lambda discount : 900 - ( 900 * (discount / 100) ) "
   ]
  },
  {
   "cell_type": "code",
   "execution_count": 10,
   "id": "7e7102f6-b46a-47f1-b24f-b56d04e8c257",
   "metadata": {
    "id": "0ptZLkjR1ER6"
   },
   "outputs": [
    {
     "data": {
      "text/plain": [
       "810.0"
      ]
     },
     "execution_count": 10,
     "metadata": {},
     "output_type": "execute_result"
    }
   ],
   "source": [
    "# call the function with discount = 10%\n",
    "dis_price_lambda(10)"
   ]
  },
  {
   "cell_type": "code",
   "execution_count": null,
   "id": "28594e7f-7d0c-4e2b-b4f9-f5be6f033a23",
   "metadata": {},
   "outputs": [],
   "source": []
  }
 ],
 "metadata": {
  "kernelspec": {
   "display_name": "Python 3 (ipykernel)",
   "language": "python",
   "name": "python3"
  },
  "language_info": {
   "codemirror_mode": {
    "name": "ipython",
    "version": 3
   },
   "file_extension": ".py",
   "mimetype": "text/x-python",
   "name": "python",
   "nbconvert_exporter": "python",
   "pygments_lexer": "ipython3",
   "version": "3.9.13"
  }
 },
 "nbformat": 4,
 "nbformat_minor": 5
}
