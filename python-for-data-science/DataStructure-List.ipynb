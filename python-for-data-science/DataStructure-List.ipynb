{
 "cells": [
  {
   "cell_type": "markdown",
   "id": "fec95675-d2b0-4b3e-9f67-e8e28e8fe760",
   "metadata": {},
   "source": [
    "# Data Structures\n",
    "\n"
   ]
  },
  {
   "cell_type": "markdown",
   "id": "54892a23-196c-42fe-987b-776fc37d677b",
   "metadata": {},
   "source": [
    "**MobiWorld store has provided a snapshot of the details of mobile phones sold by them.**\n"
   ]
  },
  {
   "cell_type": "markdown",
   "id": "35c1b0b8-486d-4351-b832-92d36770fbc6",
   "metadata": {},
   "source": [
    "| Brand | RAM (in GB) | Memory (in GB) | Price (in dollars) |\n",
    "| --- | --- | --- | --- |\n",
    "| Apple | 4 | 128 | 900 |\n",
    "| Samsung | 12 | 128 | 899 |\n",
    "| LG | 8 | 64 | 600 |\n",
    "| Apple | 8 | 128 | 1000 |\n"
   ]
  },
  {
   "cell_type": "markdown",
   "id": "2da6907e-02d7-4722-ab39-7f2679fc5ed1",
   "metadata": {},
   "source": [
    "We know how to create a variable to store the brand name."
   ]
  },
  {
   "cell_type": "code",
   "execution_count": 33,
   "id": "453e57a0-987d-4805-9fe2-529891cb071e",
   "metadata": {},
   "outputs": [
    {
     "name": "stdout",
     "output_type": "stream",
     "text": [
      "Apple\n"
     ]
    }
   ],
   "source": [
    "Brand = 'Apple'\n",
    "print(Brand)"
   ]
  },
  {
   "cell_type": "markdown",
   "id": "571fda8d-01e9-4b32-9ed5-e77169bc3e2b",
   "metadata": {},
   "source": [
    "## List"
   ]
  },
  {
   "cell_type": "markdown",
   "id": "c5c51102-ae7b-457d-b122-4ad12fc1b7db",
   "metadata": {},
   "source": [
    "Let's create a variable that will store all the brand names given in the above table. This can be achieved using the 'list' data struture in Python. \n",
    "\n",
    "Lists are used to store the data items inside square brackets [] where each data item is separated by a comma (,)"
   ]
  },
  {
   "cell_type": "code",
   "execution_count": 23,
   "id": "cb85736a-f5b0-4f99-aa68-0f1907d9f5ad",
   "metadata": {},
   "outputs": [
    {
     "name": "stdout",
     "output_type": "stream",
     "text": [
      "brand_list -  ['Apple', 'Samsung', 'LG', 'Apple']\n"
     ]
    }
   ],
   "source": [
    "# create a list \n",
    "brand_list = ['Apple', 'Samsung', 'LG', 'Apple']\n",
    "\n",
    "print(\"brand_list - \", brand_list)"
   ]
  },
  {
   "cell_type": "code",
   "execution_count": 10,
   "id": "46f97a2a-8117-4523-9f99-3c9940564cf0",
   "metadata": {},
   "outputs": [
    {
     "data": {
      "text/plain": [
       "['Apple', 'Samsung', 'LG', 'Apple']"
      ]
     },
     "execution_count": 10,
     "metadata": {},
     "output_type": "execute_result"
    }
   ],
   "source": [
    "brand_list"
   ]
  },
  {
   "cell_type": "code",
   "execution_count": 11,
   "id": "7ae443b7-8148-4257-adff-cf66eceebdff",
   "metadata": {},
   "outputs": [
    {
     "data": {
      "text/plain": [
       "list"
      ]
     },
     "execution_count": 11,
     "metadata": {},
     "output_type": "execute_result"
    }
   ],
   "source": [
    "# check the type of the variable 'brand_list'\n",
    "type(brand_list)"
   ]
  },
  {
   "cell_type": "markdown",
   "id": "ab0ba284-02be-4af8-8033-5aa504b5689f",
   "metadata": {},
   "source": [
    "Let's create lists for other attributes as well."
   ]
  },
  {
   "cell_type": "code",
   "execution_count": 12,
   "id": "1ba686d8-c8ee-4eb9-8b82-0581a9d26720",
   "metadata": {},
   "outputs": [],
   "source": [
    "ram_list = [4, 12, 8, 8]\n",
    "storage_list = [128, 128, 64, 128, 256, 512, 1024, 2048, 4096]\n",
    "price_list = [900, 899, 600, 1000, 800, 105, 329, 415]"
   ]
  },
  {
   "cell_type": "code",
   "execution_count": 13,
   "id": "74926eed-0e18-4e1d-9902-8bcc3cde9289",
   "metadata": {},
   "outputs": [
    {
     "name": "stdout",
     "output_type": "stream",
     "text": [
      "RAM List: [4, 12, 8, 8]\n",
      "Storage List: [128, 128, 64, 128, 256, 512, 1024, 2048, 4096]\n",
      "Price List: [900, 899, 600, 1000, 800, 105, 329, 415]\n"
     ]
    }
   ],
   "source": [
    "# let's print the lists we created\n",
    "print('RAM List:', ram_list)\n",
    "print('Storage List:', storage_list)\n",
    "print('Price List:', price_list)"
   ]
  },
  {
   "cell_type": "markdown",
   "id": "fd5bc873-2f1e-4e1f-aa12-4ee9a142d365",
   "metadata": {},
   "source": [
    "Now, we have created lists for all attributes with the provided data. There are various operations that can be performed on lists to extract information from the data. Let's understand a few important methods by answering some questions."
   ]
  },
  {
   "cell_type": "markdown",
   "id": "ddfeb5d4-5c91-410d-81c1-451c8684c357",
   "metadata": {},
   "source": [
    "Q. How many records are stored in the above decalred list ?"
   ]
  },
  {
   "cell_type": "markdown",
   "id": "e860f48b-45c5-4a2a-bf5a-5d10caf702d1",
   "metadata": {},
   "source": [
    "\n",
    "\n",
    "* len() is an in-built function in Python that provides the count of elements inside a list. In-built functions are functions that are already defined in the Python framework to perform a task."
   ]
  },
  {
   "cell_type": "code",
   "execution_count": 15,
   "id": "a78e42d9-7150-4f6b-8888-e2ea1a10d8c8",
   "metadata": {},
   "outputs": [
    {
     "data": {
      "text/plain": [
       "4"
      ]
     },
     "execution_count": 15,
     "metadata": {},
     "output_type": "execute_result"
    }
   ],
   "source": [
    "len(brand_list)"
   ]
  },
  {
   "cell_type": "code",
   "execution_count": 16,
   "id": "5924c1f8-782d-4e54-af05-37886f149f81",
   "metadata": {},
   "outputs": [
    {
     "data": {
      "text/plain": [
       "8"
      ]
     },
     "execution_count": 16,
     "metadata": {},
     "output_type": "execute_result"
    }
   ],
   "source": [
    "len(price_list)"
   ]
  },
  {
   "cell_type": "code",
   "execution_count": 17,
   "id": "5fcb23aa-86d8-4a5e-b128-78d67fe7cce2",
   "metadata": {},
   "outputs": [
    {
     "data": {
      "text/plain": [
       "9"
      ]
     },
     "execution_count": 17,
     "metadata": {},
     "output_type": "execute_result"
    }
   ],
   "source": [
    "len(storage_list)"
   ]
  },
  {
   "cell_type": "code",
   "execution_count": 18,
   "id": "fd1a9e2b-42f3-40b9-9fe8-b72d5763bb1c",
   "metadata": {},
   "outputs": [
    {
     "data": {
      "text/plain": [
       "4"
      ]
     },
     "execution_count": 18,
     "metadata": {},
     "output_type": "execute_result"
    }
   ],
   "source": [
    "len(ram_list)"
   ]
  },
  {
   "cell_type": "markdown",
   "id": "d1ea7429-94fe-417b-a55d-7f54bde96f55",
   "metadata": {},
   "source": [
    "Q. Find the minimum and maximum price among the mobile phones sold by the store."
   ]
  },
  {
   "cell_type": "markdown",
   "id": "267cf616-36c1-44a2-b595-10f7c1806974",
   "metadata": {},
   "source": [
    "* min() and max() are in-built functions in Python that calculates the minimum and maximum values among the items in a list (or some other data types)."
   ]
  },
  {
   "cell_type": "code",
   "execution_count": 19,
   "id": "2ec52f59-1c4e-41bc-bfe6-4a6a02d452bd",
   "metadata": {},
   "outputs": [
    {
     "name": "stdout",
     "output_type": "stream",
     "text": [
      "The minimum price is $105\n",
      "The maximum price is $1000\n"
     ]
    }
   ],
   "source": [
    "# minimum price\n",
    "min_price = min(price_list)\n",
    "print('The minimum price is $' + str(min_price))\n",
    "# maximum price\n",
    "max_price = max(price_list)\n",
    "print('The maximum price is $' + str(max_price))"
   ]
  },
  {
   "cell_type": "markdown",
   "id": "983d59d2-5e63-42c4-82ac-b8c2ee20d823",
   "metadata": {},
   "source": [
    "* The minimum and maximum prices are 105 and 1000 respectively."
   ]
  },
  {
   "cell_type": "markdown",
   "id": "5cfcf0b0-3cc1-40a9-b3e9-acf5cdfa3413",
   "metadata": {
    "id": "XNuquyGf5CPM"
   },
   "source": [
    "As a list may contain a large number of items in it, there should be a way to access the item that we want. This is achieved by indexing the list to access the required item.\n",
    "\n",
    "Q. Print the third item in the list ram_list."
   ]
  },
  {
   "cell_type": "markdown",
   "id": "9c032026-6002-4893-90c0-5ab433d8e3c6",
   "metadata": {
    "id": "uqHY5ehU5HKQ"
   },
   "source": [
    "* Indexing in list is done by specifying the index inside square brackets. In python, indexing starts with 0. That is, the first item has the index 0, the second has the index 1 and so on."
   ]
  },
  {
   "cell_type": "code",
   "execution_count": 20,
   "id": "ad99aa5f-5ea6-45c1-b04a-146123aa3c71",
   "metadata": {
    "colab": {
     "base_uri": "https://localhost:8080/"
    },
    "id": "_amZFVGQ5LzK",
    "outputId": "aef376d3-497b-4b4d-f9a8-3178c61cd997"
   },
   "outputs": [
    {
     "name": "stdout",
     "output_type": "stream",
     "text": [
      "8\n"
     ]
    }
   ],
   "source": [
    "# indexing to get the third item in ram_list\n",
    "print(ram_list[2])"
   ]
  },
  {
   "cell_type": "markdown",
   "id": "7c98f947-ee89-4095-98f4-9f293b0790ef",
   "metadata": {
    "id": "010MLnYv5RF5"
   },
   "source": [
    "Q. Print the first three items from the list price_list."
   ]
  },
  {
   "cell_type": "markdown",
   "id": "daac49eb-e4e1-4530-ae90-385486a70533",
   "metadata": {
    "id": "a5WRJWAz5T3q"
   },
   "source": [
    "* We can also select a range of indices to access more than 1 item. This can be done by using a colon (:) between the start and stop index"
   ]
  },
  {
   "cell_type": "code",
   "execution_count": 45,
   "id": "f2975edc-50d9-4b32-a3ed-9021f7b0c8ca",
   "metadata": {
    "colab": {
     "base_uri": "https://localhost:8080/"
    },
    "id": "31v2bdjK5fsV",
    "outputId": "61ef189c-e807-454f-fe90-12462daff060"
   },
   "outputs": [
    {
     "name": "stdout",
     "output_type": "stream",
     "text": [
      "[900, 899, 600]\n"
     ]
    }
   ],
   "source": [
    "# first three items in price_list\n",
    "print(price_list[0:3])"
   ]
  },
  {
   "cell_type": "markdown",
   "id": "d22d530d-c0d3-4fda-aa12-c409610977c3",
   "metadata": {
    "id": "Y-UXUhxZ5jPL"
   },
   "source": [
    "Notice that in such an indexing, the output includes the item at the start index (index 0) but excludes the item at the stop index (index 3). The index [0:3] has included the items at indices 0, 1 and 2"
   ]
  },
  {
   "cell_type": "markdown",
   "id": "6d1826b0-ac56-4ca5-b86e-57d4c8ad7845",
   "metadata": {
    "id": "IQ7KaeJE5m7U"
   },
   "source": [
    "Q. Print the last item in the list brand_list."
   ]
  },
  {
   "cell_type": "markdown",
   "id": "76bb8d01-8842-4731-b87e-6610150c7bd8",
   "metadata": {
    "id": "KSsQP0g75p2K"
   },
   "source": [
    "* The last item can also be accessed using its index. But, if the list is too large, counting the index for the last item may not be the best way. Here's how the last item can be accessed for any list."
   ]
  },
  {
   "cell_type": "code",
   "execution_count": 32,
   "id": "6e03035e-8218-49ee-9431-3dc0125d320d",
   "metadata": {
    "colab": {
     "base_uri": "https://localhost:8080/"
    },
    "id": "NwovAGAn5rzu",
    "outputId": "3fa51aa1-662c-48a7-e1c5-5a618a5acef1"
   },
   "outputs": [
    {
     "name": "stdout",
     "output_type": "stream",
     "text": [
      "Motorola\n",
      "Motorola\n"
     ]
    }
   ],
   "source": [
    "# last item in brand_list\n",
    "print(brand_list[-1])\n",
    "\n",
    "print(brand_list[len(brand_list)-1])"
   ]
  },
  {
   "cell_type": "markdown",
   "id": "9c764473-b560-4629-9420-1516a7f77c3f",
   "metadata": {
    "id": "f1Omoi3ThWZS"
   },
   "source": [
    "The Store finds out that for the last record in the data, the brand name provided was not correct. \n",
    "\n",
    "Q. Remove the last element from the list brand_list."
   ]
  },
  {
   "cell_type": "markdown",
   "id": "6e10e17f-314e-427f-a3e4-c15d584dfd21",
   "metadata": {
    "id": "3PLiR1eriB0r"
   },
   "source": [
    "* pop() is a list method that removes the item at the given index and returns the removed item . If the index is not specified, by default, it removes the last element. To confirm we can check the list again."
   ]
  },
  {
   "cell_type": "code",
   "execution_count": 24,
   "id": "a827c603-8b9e-4b5f-8b4a-7ae456abbe5a",
   "metadata": {},
   "outputs": [
    {
     "data": {
      "text/plain": [
       "['Apple', 'Samsung', 'LG', 'Apple']"
      ]
     },
     "execution_count": 24,
     "metadata": {},
     "output_type": "execute_result"
    }
   ],
   "source": [
    "brand_list"
   ]
  },
  {
   "cell_type": "code",
   "execution_count": 25,
   "id": "9ef1578a-70ba-40ca-a1ff-415a98a418a5",
   "metadata": {
    "colab": {
     "base_uri": "https://localhost:8080/",
     "height": 35
    },
    "id": "GLU8d4VLhgBo",
    "outputId": "d5bcf8cb-8ed1-4e68-c9ec-5def63f622d2"
   },
   "outputs": [
    {
     "data": {
      "text/plain": [
       "'Apple'"
      ]
     },
     "execution_count": 25,
     "metadata": {},
     "output_type": "execute_result"
    }
   ],
   "source": [
    "brand_list.pop()"
   ]
  },
  {
   "cell_type": "code",
   "execution_count": 26,
   "id": "1a0872ca-07ec-46cb-bf82-d1566beec5b8",
   "metadata": {
    "colab": {
     "base_uri": "https://localhost:8080/"
    },
    "id": "GKlrRebCkcSl",
    "outputId": "3897ee66-6568-4dc5-9ad8-5751c7309c35"
   },
   "outputs": [
    {
     "data": {
      "text/plain": [
       "['Apple', 'Samsung', 'LG']"
      ]
     },
     "execution_count": 26,
     "metadata": {},
     "output_type": "execute_result"
    }
   ],
   "source": [
    "brand_list"
   ]
  },
  {
   "cell_type": "markdown",
   "id": "5d7548e4-1f8d-4014-8a83-1e43d07fe3b9",
   "metadata": {},
   "source": [
    "As we can see the last element got removed. Now, the Store informs that the correct brand name should be \"Motorola'.\n",
    "\n",
    "Q. Insert 'Motorola' to the list brand_list"
   ]
  },
  {
   "cell_type": "markdown",
   "id": "3715e9e6-288a-44a8-af3e-11d29b3c0783",
   "metadata": {
    "tags": []
   },
   "source": [
    "* The append() method adds a single item to an existing list."
   ]
  },
  {
   "cell_type": "code",
   "execution_count": 31,
   "id": "6e2db3fa-7b55-480c-8590-9642ad2667d2",
   "metadata": {
    "colab": {
     "base_uri": "https://localhost:8080/"
    },
    "id": "OWRzQJ5FmJMq",
    "outputId": "420ce930-77c6-44cb-e5f2-f17dcd188367"
   },
   "outputs": [
    {
     "data": {
      "text/plain": [
       "['Apple', 'Samsung', 'LG', 'Apple', 'Motorola']"
      ]
     },
     "execution_count": 31,
     "metadata": {},
     "output_type": "execute_result"
    }
   ],
   "source": [
    "brand_list.append('Motorola')\n",
    "brand_list"
   ]
  },
  {
   "cell_type": "code",
   "execution_count": 30,
   "id": "f848d383-e059-4c64-9f3b-a18d08977111",
   "metadata": {
    "colab": {
     "base_uri": "https://localhost:8080/"
    },
    "id": "qxGjoIqOAm-l",
    "outputId": "494c820b-d60c-4880-b4db-f0db13ffe338"
   },
   "outputs": [
    {
     "name": "stdout",
     "output_type": "stream",
     "text": [
      "['Apple', 'Samsung', 'LG', 'Apple']\n"
     ]
    }
   ],
   "source": [
    "brand_list[3] = 'Apple'\n",
    "print(brand_list)"
   ]
  },
  {
   "cell_type": "code",
   "execution_count": 34,
   "id": "da5b5933-89aa-426c-ba81-dc4de5d6fac6",
   "metadata": {
    "colab": {
     "base_uri": "https://localhost:8080/"
    },
    "id": "ogGGnKahAzr8",
    "outputId": "224569fb-d03f-4d0b-d21a-458b08a70440"
   },
   "outputs": [
    {
     "data": {
      "text/plain": [
       "['Apple', 'Samsung', 'LG', 'Motorola', 'Motorola']"
      ]
     },
     "execution_count": 34,
     "metadata": {},
     "output_type": "execute_result"
    }
   ],
   "source": [
    "brand_list[3] = 'Motorola'\n",
    "brand_list"
   ]
  },
  {
   "cell_type": "code",
   "execution_count": 35,
   "id": "6bdd8511-95b6-45a8-bdfe-f4ed39d4000e",
   "metadata": {
    "colab": {
     "base_uri": "https://localhost:8080/"
    },
    "id": "ogGGnKahAzr8",
    "outputId": "224569fb-d03f-4d0b-d21a-458b08a70440"
   },
   "outputs": [
    {
     "data": {
      "text/plain": [
       "['LG', 'Motorola']"
      ]
     },
     "execution_count": 35,
     "metadata": {},
     "output_type": "execute_result"
    }
   ],
   "source": [
    "brand_list[2:4]"
   ]
  },
  {
   "cell_type": "markdown",
   "id": "66b53a25-f165-4713-9dd0-45c8c5012409",
   "metadata": {},
   "source": [
    "We have succesfully corrected the list now."
   ]
  }
 ],
 "metadata": {
  "kernelspec": {
   "display_name": "Python 3 (ipykernel)",
   "language": "python",
   "name": "python3"
  },
  "language_info": {
   "codemirror_mode": {
    "name": "ipython",
    "version": 3
   },
   "file_extension": ".py",
   "mimetype": "text/x-python",
   "name": "python",
   "nbconvert_exporter": "python",
   "pygments_lexer": "ipython3",
   "version": "3.9.13"
  }
 },
 "nbformat": 4,
 "nbformat_minor": 5
}
