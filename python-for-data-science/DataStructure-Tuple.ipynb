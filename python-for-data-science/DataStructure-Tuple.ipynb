{
 "cells": [
  {
   "cell_type": "markdown",
   "id": "40168825-ca6c-437f-a657-0f598562f62c",
   "metadata": {},
   "source": [
    "# Data Structures\n",
    "\n"
   ]
  },
  {
   "cell_type": "markdown",
   "id": "4921024e-de4b-4457-84db-1e026eba88d9",
   "metadata": {},
   "source": [
    "**MobiWorld store has provided a snapshot of the details of mobile phones sold by them.**\n"
   ]
  },
  {
   "cell_type": "markdown",
   "id": "8cef328e-5af2-4cce-93fc-0d5793c611ab",
   "metadata": {},
   "source": [
    "| Brand | RAM (in GB) | Memory (in GB) | Price (in dollars) |\n",
    "| --- | --- | --- | --- |\n",
    "| Apple | 4 | 128 | 900 |\n",
    "| Samsung | 12 | 128 | 899 |\n",
    "| LG | 8 | 64 | 600 |\n",
    "| Apple | 8 | 128 | 1000 |\n"
   ]
  },
  {
   "cell_type": "markdown",
   "id": "580e7789-503d-4670-a1fd-3995bb3472a3",
   "metadata": {},
   "source": [
    "## Tuple"
   ]
  },
  {
   "cell_type": "markdown",
   "id": "fc070543-dce3-4e00-b2b2-c06bdde454f6",
   "metadata": {
    "id": "cCG1aiFWFXcY"
   },
   "source": [
    "Now that you have learned about lists, you know that data can be modified and altered in a list, making it a mutable data structure. Sometimes, you might want to store data which should not be altered, for example storage. The storage in a mobile phone is in terms of powers of 2, that is, 32 GB, 64 GB, 128 GB, etc. You do not want to alter the number 32 and change it to 30.\n",
    "\n",
    "Q. Store the storage specifications 32/64/128/256 as an immutable variable."
   ]
  },
  {
   "cell_type": "code",
   "execution_count": 1,
   "id": "7e3350fb-f8d8-449a-9056-dcd260830a59",
   "metadata": {
    "colab": {
     "base_uri": "https://localhost:8080/"
    },
    "id": "asSlUBP6Iep3",
    "outputId": "43d33f87-2e62-434a-90b0-d94f8f68047f"
   },
   "outputs": [
    {
     "name": "stdout",
     "output_type": "stream",
     "text": [
      "(32, 64, 128, 256, 512, 1024)\n"
     ]
    }
   ],
   "source": [
    "storage = (32,64,128,256,512,1024)\n",
    "print(storage)"
   ]
  },
  {
   "cell_type": "code",
   "execution_count": 3,
   "id": "6be9e6a0-e6d4-4539-a09b-5a2cee4ac890",
   "metadata": {
    "colab": {
     "base_uri": "https://localhost:8080/"
    },
    "id": "5HOrggg8JBBx",
    "outputId": "b29fadd6-9955-46ce-93c8-ec45cb3bcd60"
   },
   "outputs": [
    {
     "data": {
      "text/plain": [
       "tuple"
      ]
     },
     "execution_count": 3,
     "metadata": {},
     "output_type": "execute_result"
    }
   ],
   "source": [
    "type(storage)"
   ]
  },
  {
   "cell_type": "markdown",
   "id": "9f9bf589-26ac-47a6-a654-e2bd511c5e10",
   "metadata": {
    "id": "RkusDTP8I4FJ"
   },
   "source": [
    "* The above data structure structure is called a tuple. A tuple in Python is similar to a list. The difference between the two is that unlike lists we cannot change the elements of a tuple once it is assigned. "
   ]
  },
  {
   "cell_type": "code",
   "execution_count": 4,
   "id": "6bc1610b-5fde-460e-9adf-761a0db7c8ea",
   "metadata": {},
   "outputs": [
    {
     "data": {
      "text/plain": [
       "6"
      ]
     },
     "execution_count": 4,
     "metadata": {},
     "output_type": "execute_result"
    }
   ],
   "source": [
    "len(storage)"
   ]
  },
  {
   "cell_type": "markdown",
   "id": "f4bf8751-df7e-48a8-bfa6-148f7ae8926b",
   "metadata": {
    "id": "PXRJO7GCJqp3"
   },
   "source": [
    "Indexing in tuple is similar to indexing in lists. \n",
    "\n",
    "Q. Print the second item in the tuple **storage**"
   ]
  },
  {
   "cell_type": "code",
   "execution_count": 5,
   "id": "dbb76ab6-caa3-4a27-95ad-7c171ec2dab2",
   "metadata": {
    "colab": {
     "base_uri": "https://localhost:8080/"
    },
    "id": "MPV67Nb7J1xC",
    "outputId": "25ed3947-a421-4754-86ef-ebda2a3462a6"
   },
   "outputs": [
    {
     "name": "stdout",
     "output_type": "stream",
     "text": [
      "64\n"
     ]
    }
   ],
   "source": [
    "print(storage[1])"
   ]
  },
  {
   "cell_type": "code",
   "execution_count": 6,
   "id": "c2e81644-0298-4bc8-90e8-394242ffa7d7",
   "metadata": {
    "colab": {
     "base_uri": "https://localhost:8080/",
     "height": 183
    },
    "id": "dBOc6JBkMnjD",
    "outputId": "34a4dbea-4302-4698-bb06-284584ac5304"
   },
   "outputs": [
    {
     "ename": "TypeError",
     "evalue": "'tuple' object does not support item assignment",
     "output_type": "error",
     "traceback": [
      "\u001b[1;31m---------------------------------------------------------------------------\u001b[0m",
      "\u001b[1;31mTypeError\u001b[0m                                 Traceback (most recent call last)",
      "\u001b[1;32m~\\AppData\\Local\\Temp\\ipykernel_3504\\865013016.py\u001b[0m in \u001b[0;36m<module>\u001b[1;34m\u001b[0m\n\u001b[0;32m      1\u001b[0m \u001b[1;31m# try changing an item in a tuple\u001b[0m\u001b[1;33m\u001b[0m\u001b[1;33m\u001b[0m\u001b[0m\n\u001b[1;32m----> 2\u001b[1;33m \u001b[0mstorage\u001b[0m\u001b[1;33m[\u001b[0m\u001b[1;36m1\u001b[0m\u001b[1;33m]\u001b[0m\u001b[1;33m=\u001b[0m\u001b[1;36m60\u001b[0m\u001b[1;33m\u001b[0m\u001b[1;33m\u001b[0m\u001b[0m\n\u001b[0m",
      "\u001b[1;31mTypeError\u001b[0m: 'tuple' object does not support item assignment"
     ]
    }
   ],
   "source": [
    "# try changing an item in a tuple\n",
    "storage[1]=60"
   ]
  },
  {
   "cell_type": "markdown",
   "id": "ead66c23-2700-47d6-ad83-02ce5262be33",
   "metadata": {},
   "source": [
    "As can be seen from the TypeError, items cannot be altered in a tuple."
   ]
  },
  {
   "cell_type": "code",
   "execution_count": null,
   "id": "d66deff2-125f-41ea-b390-aceb2e1ef406",
   "metadata": {},
   "outputs": [],
   "source": []
  }
 ],
 "metadata": {
  "kernelspec": {
   "display_name": "Python 3 (ipykernel)",
   "language": "python",
   "name": "python3"
  },
  "language_info": {
   "codemirror_mode": {
    "name": "ipython",
    "version": 3
   },
   "file_extension": ".py",
   "mimetype": "text/x-python",
   "name": "python",
   "nbconvert_exporter": "python",
   "pygments_lexer": "ipython3",
   "version": "3.9.13"
  }
 },
 "nbformat": 4,
 "nbformat_minor": 5
}
