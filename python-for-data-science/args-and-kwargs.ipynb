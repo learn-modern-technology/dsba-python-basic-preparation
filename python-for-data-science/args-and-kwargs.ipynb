{
 "cells": [
  {
   "cell_type": "markdown",
   "id": "e2e99005-c317-4ed0-a37f-2819d3f8fa92",
   "metadata": {
    "id": "JE2FLBCIejeA"
   },
   "source": [
    "##  \\*args and \\**kwargs"
   ]
  },
  {
   "cell_type": "markdown",
   "id": "207d022e-ce24-4b44-b857-6d0b124fb78d",
   "metadata": {
    "id": "DssVB5yJiDpe"
   },
   "source": [
    "A customer has placed an order for 5 mobile phones with MobiWorld. The store wants to generate the total amount for the order.\n",
    "\n",
    "We can define a function with 5 arguments (one each for the price of the mobile phone ordered) to compute the total amount."
   ]
  },
  {
   "cell_type": "code",
   "execution_count": 15,
   "id": "d444687e-166d-471d-853e-cd224069b4bc",
   "metadata": {
    "id": "QWd7asLjivuh"
   },
   "outputs": [],
   "source": [
    "def total_amount(price1, price2, price3, price4, price5):\n",
    "    \"\"\"\n",
    "    This function takes the price of five phones ordered\n",
    "    and returns the total order amount.\n",
    "    \"\"\"\n",
    "    # computing the total order amount\n",
    "    total = price1 + price2 + price3 + price4 + price5\n",
    "\n",
    "    # return the total amount\n",
    "    return total"
   ]
  },
  {
   "cell_type": "code",
   "execution_count": 16,
   "id": "396c40d1-db24-43a5-9d97-93f8a31917ca",
   "metadata": {
    "colab": {
     "base_uri": "https://localhost:8080/"
    },
    "id": "RujDjojrkGBk",
    "outputId": "b1706933-2c3e-4de9-d9c6-e5c6eb0f4a1d"
   },
   "outputs": [
    {
     "name": "stdout",
     "output_type": "stream",
     "text": [
      "Total order amount: 3669\n"
     ]
    }
   ],
   "source": [
    "print('Total order amount:', total_amount(700, 599, 650, 900, 820))"
   ]
  },
  {
   "cell_type": "markdown",
   "id": "4e62d48a-103e-46a7-b55c-e0e0367565bf",
   "metadata": {
    "id": "nswSW0-9k7gz"
   },
   "source": [
    "This works as we have a small number of items in the order placed. What if the customer decides to add 5 more phones to his order? It will become tedious to keep adding an argument to the function for each new addition.\n",
    "\n",
    "* In some cases, we might not even want any constraints on the number of arguments for the function."
   ]
  },
  {
   "cell_type": "markdown",
   "id": "43ac8d48-58de-4066-bf25-fbe7d9af8f77",
   "metadata": {
    "id": "yCj_GaLAgpLn"
   },
   "source": [
    "**Python allows us flexibility in terms of the number of arguments passed to a function by using \\*args.**"
   ]
  },
  {
   "cell_type": "code",
   "execution_count": 19,
   "id": "938eeb46-8288-4d3f-a084-9bb97f6ef255",
   "metadata": {
    "id": "Kp20hXTbel28"
   },
   "outputs": [],
   "source": [
    "def total_amount(*args):\n",
    "    \"\"\"\n",
    "    This function takes the prices of phones ordered\n",
    "    and returns the total order amount.\n",
    "    \"\"\"\n",
    "    total = 0\n",
    "    # computing the total order amount\n",
    "    for arg in args:\n",
    "        total += arg\n",
    "\n",
    "    # return the total amount\n",
    "    return total"
   ]
  },
  {
   "cell_type": "markdown",
   "id": "9a9ff375-db35-4e9d-981e-014715fcc624",
   "metadata": {
    "id": "iotLTjjAnehn"
   },
   "source": [
    "Let's compute the total amount for 5 phones."
   ]
  },
  {
   "cell_type": "code",
   "execution_count": 20,
   "id": "00a64ed6-b0c0-443b-aed2-626b4ed21e4e",
   "metadata": {
    "colab": {
     "base_uri": "https://localhost:8080/"
    },
    "id": "QTkUyHYJnc0I",
    "outputId": "407ac174-7ed6-4d34-d72e-f1d63fbb4f4f"
   },
   "outputs": [
    {
     "name": "stdout",
     "output_type": "stream",
     "text": [
      "Total order amount: 3669\n"
     ]
    }
   ],
   "source": [
    "print('Total order amount:', total_amount(700, 599, 650, 900, 820))"
   ]
  },
  {
   "cell_type": "markdown",
   "id": "db98df5c-61c2-4e95-9025-3866271a4e52",
   "metadata": {
    "id": "FWyaI_WqnriO"
   },
   "source": [
    "Now, let's compute the total amount for 10 phones."
   ]
  },
  {
   "cell_type": "code",
   "execution_count": 21,
   "id": "24b1c347-88e4-4bd5-9540-7954eab0d187",
   "metadata": {
    "colab": {
     "base_uri": "https://localhost:8080/"
    },
    "id": "2ZsZt-FLnxcp",
    "outputId": "0837e21a-84fd-47c8-c3a5-273e26f6a1c1"
   },
   "outputs": [
    {
     "name": "stdout",
     "output_type": "stream",
     "text": [
      "Total order amount: 7457\n"
     ]
    }
   ],
   "source": [
    "print('Total order amount:', total_amount(700, 599, 650, 900, 820, 630, 520, 799, 999, 840))"
   ]
  },
  {
   "cell_type": "markdown",
   "id": "2d895cf5-514b-42ec-9faf-7c07dfc55eab",
   "metadata": {
    "id": "DMovmVM2nHVR"
   },
   "source": [
    "We can also use any other text in place of *args*."
   ]
  },
  {
   "cell_type": "code",
   "execution_count": 22,
   "id": "0c27da42-e47c-4ade-b729-97d04673fd11",
   "metadata": {
    "id": "ylVGHrXfnHKR"
   },
   "outputs": [],
   "source": [
    "def total_amount(*prices):\n",
    "    \"\"\"\n",
    "    This function takes the prices of phones ordered\n",
    "    and returns the total order amount.\n",
    "    \"\"\"\n",
    "    total = 0\n",
    "    # computing the total order amount\n",
    "    for price in prices:\n",
    "        total += price\n",
    "\n",
    "    # return the total amount\n",
    "    return total"
   ]
  },
  {
   "cell_type": "code",
   "execution_count": 23,
   "id": "25a96d93-99ee-4881-9bb8-e3e9d62f698c",
   "metadata": {
    "colab": {
     "base_uri": "https://localhost:8080/"
    },
    "id": "RKzMj2jrnHIC",
    "outputId": "fd480e47-fafa-4451-af18-95548b2a8435"
   },
   "outputs": [
    {
     "name": "stdout",
     "output_type": "stream",
     "text": [
      "Total order amount: 7457\n"
     ]
    }
   ],
   "source": [
    "print('Total order amount:', total_amount(700, 599, 650, 900, 820, 630, 520, 799, 999, 840))"
   ]
  },
  {
   "cell_type": "markdown",
   "id": "1c110cd5-67d4-4655-ae48-6f7236164a83",
   "metadata": {
    "id": "V3o5ByDooLFN"
   },
   "source": [
    "Till now, the arguments we have passed to our functions have been declared by names only, like brand, ram, price1. These types of arguments are called **positional arguments**.\n",
    "\n",
    "Another type of argument in Python is **called keyword argument**, which is declared using both a name and a default value."
   ]
  },
  {
   "cell_type": "markdown",
   "id": "af05c994-2e18-4b6f-ba8e-982e4c763345",
   "metadata": {
    "id": "tIDDR7GqpRzj"
   },
   "source": [
    "Let us consider the festive season sale, where the store is offering a discount of 5% on all its products. Outside the sale period, there will be no discount for the products.\n",
    "\n",
    "Let's create a new function to compute the total discounted price for an order of one or more phones placed by a customer."
   ]
  },
  {
   "cell_type": "code",
   "execution_count": 10,
   "id": "b0173436-8d03-4b9b-b43c-859f31b351d8",
   "metadata": {
    "id": "KwFVie38nHFl"
   },
   "outputs": [],
   "source": [
    "def total_discounted_amount(*prices, discount=0.0):\n",
    "    \"\"\"\n",
    "    This function takes the prices of phones ordered\n",
    "    and the discount percentage\n",
    "    and returns the total discounted order amount.\n",
    "    \"\"\"\n",
    "    total = 0\n",
    "    # computing the total order amount\n",
    "    for price in prices:\n",
    "        total += price\n",
    "\n",
    "    total_discounted_price = total - discount*total\n",
    "    \n",
    "    # return the total amount\n",
    "    return total_discounted_price"
   ]
  },
  {
   "cell_type": "code",
   "execution_count": 11,
   "id": "76cab0ae-b5cb-4260-b57f-dabeafa9ac52",
   "metadata": {
    "colab": {
     "base_uri": "https://localhost:8080/"
    },
    "id": "eAoxq0-arNT-",
    "outputId": "ac9cd419-6d38-41af-bb12-5c30d47da1ab"
   },
   "outputs": [
    {
     "name": "stdout",
     "output_type": "stream",
     "text": [
      "Total discounted order amount: 7457.0\n"
     ]
    }
   ],
   "source": [
    "print('Total discounted order amount:', total_discounted_amount(700, 599, 650, 900, 820, 630, 520, 799, 999, 840))"
   ]
  },
  {
   "cell_type": "markdown",
   "id": "ec05c93f-1a2d-4d47-94a2-634cbc30425a",
   "metadata": {
    "id": "e3fU3p0trmSz"
   },
   "source": [
    "The discount percentage during the festive season sale will be 5%, which we can specify by setting the keyword argument *discount* to 0.05."
   ]
  },
  {
   "cell_type": "code",
   "execution_count": 12,
   "id": "77be1f64-a439-4c16-8f5d-eae1a05179a8",
   "metadata": {
    "colab": {
     "base_uri": "https://localhost:8080/"
    },
    "id": "NY1oWOAWrNR2",
    "outputId": "af230853-2e86-4bab-bbf0-7b97d80c7bf6"
   },
   "outputs": [
    {
     "name": "stdout",
     "output_type": "stream",
     "text": [
      "Total discounted order amount (during festive season): 7084.15\n"
     ]
    }
   ],
   "source": [
    "print('Total discounted order amount (during festive season):', total_discounted_amount(700, 599, 650, 900, 820, 630, 520, 799, 999, 840, discount=0.05))"
   ]
  },
  {
   "cell_type": "markdown",
   "id": "d852ee1d-c16e-4c2c-863f-a26c3eecad97",
   "metadata": {
    "id": "cMvR2qXc-3ZH"
   },
   "source": [
    "**Note**: In Python, keyword arguments should be declared after the positional arguments."
   ]
  },
  {
   "cell_type": "code",
   "execution_count": 24,
   "id": "fd7e6bf6-4b67-4a82-b2de-78c44f04d4cf",
   "metadata": {
    "id": "P8jWyqxT-21L"
   },
   "outputs": [],
   "source": [
    "def total_discounted_amount(discount=0.0, *prices):\n",
    "    \"\"\"\n",
    "    This function takes the prices of phones ordered\n",
    "    and the discount percentage\n",
    "    and returns the total discounted order amount.\n",
    "    \"\"\"\n",
    "    total = 0\n",
    "    # computing the total order amount\n",
    "    for price in prices:\n",
    "        total += price\n",
    "\n",
    "    total_discounted_price = total - discount*total\n",
    "    \n",
    "    # return the total amount\n",
    "    return total_discounted_price"
   ]
  },
  {
   "cell_type": "code",
   "execution_count": 25,
   "id": "64ff9557-48f7-4b71-9149-49802758fabf",
   "metadata": {
    "colab": {
     "base_uri": "https://localhost:8080/",
     "height": 149
    },
    "id": "cOGENuPH_Byi",
    "outputId": "1b14cf76-ea01-4d6c-e2cf-4e37d5043932"
   },
   "outputs": [
    {
     "ename": "SyntaxError",
     "evalue": "positional argument follows keyword argument (4283913846.py, line 1)",
     "output_type": "error",
     "traceback": [
      "\u001b[1;36m  File \u001b[1;32m\"C:\\Users\\Sudhanshu\\AppData\\Local\\Temp\\ipykernel_12404\\4283913846.py\"\u001b[1;36m, line \u001b[1;32m1\u001b[0m\n\u001b[1;33m    print('Total discounted order amount (during festive season):', total_discounted_amount(discount=0.05, 700, 599, 650, 900, 820, 630, 520, 799, 999, 840))\u001b[0m\n\u001b[1;37m                                                                                                                                                           ^\u001b[0m\n\u001b[1;31mSyntaxError\u001b[0m\u001b[1;31m:\u001b[0m positional argument follows keyword argument\n"
     ]
    }
   ],
   "source": [
    "print('Total discounted order amount (during festive season):', total_discounted_amount(discount=0.05, 700, 599, 650, 900, 820, 630, 520, 799, 999, 840))"
   ]
  },
  {
   "cell_type": "markdown",
   "id": "412049ca-67e1-4a47-be86-e17cf60f0ecd",
   "metadata": {
    "id": "9bfBORmP_B9Z"
   },
   "source": [
    "If we assign a value to a positional argument, it becomes a keyword argument. Since it is followed by positional arguments, we get a SyntaxError."
   ]
  },
  {
   "cell_type": "markdown",
   "id": "56bf6914-c1bc-46bb-930d-a709f91ada21",
   "metadata": {
    "id": "zy1c9pLdsC4I"
   },
   "source": [
    "Just like \\*args helped us remove the constraint on the number of positional arguments, \\**kwargs helps us remove the constraint on the number of keyword arguments.\n",
    "\n",
    "The \\**kwargs argument passed while calling the function must be a mapping, such as a dictionary."
   ]
  },
  {
   "cell_type": "markdown",
   "id": "968b85c9-f822-40ec-9837-8b112b469692",
   "metadata": {
    "id": "V1GvvsqZszot"
   },
   "source": [
    "MobiWorld has decided to offer a \\$5 cashback on all the products on top of the 5% discount for the last day of the festive season sale. Let's create a function to compute the customer's net spend."
   ]
  },
  {
   "cell_type": "code",
   "execution_count": 26,
   "id": "2becc26f-2ef9-4e76-a95d-aee26b42e4a0",
   "metadata": {
    "id": "FXpSsvqErNM-"
   },
   "outputs": [],
   "source": [
    "def customer_net_spend(*prices, discount=0.0, **kwargs):\n",
    "    \"\"\"\n",
    "    This function takes the prices of phones ordered,\n",
    "    the discount percentage, and any other cost additions/subtractions,\n",
    "    and returns the customer's net spend on the order.\n",
    "    \"\"\"\n",
    "    total = 0\n",
    "    # computing the total order amount\n",
    "    for price in prices:\n",
    "        total += price\n",
    "\n",
    "    total_discounted_price = total - discount*total\n",
    "\n",
    "    net_spend = total_discounted_price - kwargs['cashback']\n",
    "    \n",
    "    # return the total amount\n",
    "    return net_spend"
   ]
  },
  {
   "cell_type": "code",
   "execution_count": 27,
   "id": "4e3fd581-bb3e-46ea-aa6f-93fd2e620c2a",
   "metadata": {
    "colab": {
     "base_uri": "https://localhost:8080/"
    },
    "id": "EIsAtDpxvu6K",
    "outputId": "ab4b1c23-6ab5-45f7-e5fd-85cc0b445e6f"
   },
   "outputs": [
    {
     "name": "stdout",
     "output_type": "stream",
     "text": [
      "Customer net spend (during last day of festive season): 1846.55\n"
     ]
    }
   ],
   "source": [
    "additionals = {'cashback': 5}\n",
    "print('Customer net spend (during last day of festive season):', customer_net_spend(700, 599, 650, discount=0.05, **additionals))"
   ]
  },
  {
   "cell_type": "markdown",
   "id": "8aaee091-137c-448a-999a-05c37aa61d29",
   "metadata": {
    "id": "N1JbP5cP_jCR"
   },
   "source": [
    "MobiWorld plans to introduce a reward-point system based on the total order amount. Reward points will be given as per the following scheme:\n",
    "\n",
    "* Total Amount >= 2000: 100 Reward Points\n",
    "* Total Amount >= 5000: 200 Reward Points\n",
    "* Total Amount >= 10000: 300 Reward Points\n",
    "\n",
    "Let's define a function that will return the total amount, net spend, and rewards points earned for the order."
   ]
  },
  {
   "cell_type": "code",
   "execution_count": 85,
   "id": "9d9a71ff-7915-44f2-9eec-2600d2d448b5",
   "metadata": {
    "id": "1ANWNzPLDMpW"
   },
   "outputs": [],
   "source": [
    "def order_summary(*prices, **additionals):\n",
    "    \"\"\"\n",
    "    This function takes the prices of phones ordered\n",
    "    and any other cost additions/subtractions,\n",
    "    and returns the total amount, net spend,\n",
    "    and rewards points earned for the order.\n",
    "    \"\"\"\n",
    "    total = 0\n",
    "    # computing the total order amount\n",
    "    for price in prices:\n",
    "        total += price\n",
    "\n",
    "    net_spend = total - additionals['discount']*total - additionals['cashback']\n",
    "\n",
    "    if total >= 10000:\n",
    "        reward_points = 300\n",
    "    elif total >= 5000:\n",
    "        reward_points = 200\n",
    "    elif total >= 2000:\n",
    "        reward_points = 100\n",
    "    else:\n",
    "        reward_points = 0\n",
    "    \n",
    "    # return the total amount\n",
    "    return total, net_spend, reward_points"
   ]
  },
  {
   "cell_type": "code",
   "execution_count": 2,
   "id": "31c30848-dbd7-4d5f-a89e-9b122cccdc89",
   "metadata": {
    "colab": {
     "base_uri": "https://localhost:8080/"
    },
    "id": "CttK_RKoDMlA",
    "outputId": "f65b27e5-e0b2-4ce6-ac4a-0e195399da5c"
   },
   "outputs": [
    {
     "ename": "NameError",
     "evalue": "name 'order_summary' is not defined",
     "output_type": "error",
     "traceback": [
      "\u001b[1;31m---------------------------------------------------------------------------\u001b[0m",
      "\u001b[1;31mNameError\u001b[0m                                 Traceback (most recent call last)",
      "\u001b[1;32m~\\AppData\\Local\\Temp\\ipykernel_12404\\264220108.py\u001b[0m in \u001b[0;36m<module>\u001b[1;34m\u001b[0m\n\u001b[0;32m      1\u001b[0m \u001b[0madditionals\u001b[0m \u001b[1;33m=\u001b[0m \u001b[1;33m{\u001b[0m\u001b[1;34m'discount'\u001b[0m\u001b[1;33m:\u001b[0m\u001b[1;36m0.05\u001b[0m\u001b[1;33m,\u001b[0m \u001b[1;34m'cashback'\u001b[0m\u001b[1;33m:\u001b[0m \u001b[1;36m5\u001b[0m\u001b[1;33m}\u001b[0m\u001b[1;33m\u001b[0m\u001b[1;33m\u001b[0m\u001b[0m\n\u001b[1;32m----> 2\u001b[1;33m \u001b[0mta\u001b[0m\u001b[1;33m,\u001b[0m \u001b[0mns\u001b[0m\u001b[1;33m,\u001b[0m \u001b[0mrp\u001b[0m \u001b[1;33m=\u001b[0m \u001b[0morder_summary\u001b[0m\u001b[1;33m(\u001b[0m\u001b[1;36m700\u001b[0m\u001b[1;33m,\u001b[0m \u001b[1;36m599\u001b[0m\u001b[1;33m,\u001b[0m \u001b[1;36m750\u001b[0m\u001b[1;33m,\u001b[0m \u001b[1;33m**\u001b[0m\u001b[0madditionals\u001b[0m\u001b[1;33m)\u001b[0m\u001b[1;33m\u001b[0m\u001b[1;33m\u001b[0m\u001b[0m\n\u001b[0m\u001b[0;32m      3\u001b[0m \u001b[0mprint\u001b[0m\u001b[1;33m(\u001b[0m\u001b[1;34m'Customer Order Summary:\\n'\u001b[0m\u001b[1;33m,\u001b[0m \u001b[1;34m'\\nTotal Amount:'\u001b[0m\u001b[1;33m,\u001b[0m \u001b[0mta\u001b[0m\u001b[1;33m,\u001b[0m \u001b[1;34m'\\nTotal Discounted Amount:'\u001b[0m\u001b[1;33m,\u001b[0m \u001b[0mns\u001b[0m\u001b[1;33m,\u001b[0m \u001b[1;34m'\\nReward Points Earned:'\u001b[0m\u001b[1;33m,\u001b[0m \u001b[0mrp\u001b[0m\u001b[1;33m)\u001b[0m\u001b[1;33m\u001b[0m\u001b[1;33m\u001b[0m\u001b[0m\n",
      "\u001b[1;31mNameError\u001b[0m: name 'order_summary' is not defined"
     ]
    }
   ],
   "source": [
    "additionals = {'discount':0.05, 'cashback': 5}\n",
    "ta, ns, rp = order_summary(700, 599, 750, **additionals)\n",
    "print('Customer Order Summary:\\n', '\\nTotal Amount:', ta, '\\nTotal Discounted Amount:', ns, '\\nReward Points Earned:', rp)"
   ]
  },
  {
   "cell_type": "code",
   "execution_count": null,
   "id": "313f07d5-0f39-409c-ab59-ec1d346aef5e",
   "metadata": {},
   "outputs": [],
   "source": []
  }
 ],
 "metadata": {
  "kernelspec": {
   "display_name": "Python 3 (ipykernel)",
   "language": "python",
   "name": "python3"
  },
  "language_info": {
   "codemirror_mode": {
    "name": "ipython",
    "version": 3
   },
   "file_extension": ".py",
   "mimetype": "text/x-python",
   "name": "python",
   "nbconvert_exporter": "python",
   "pygments_lexer": "ipython3",
   "version": "3.9.13"
  }
 },
 "nbformat": 4,
 "nbformat_minor": 5
}
