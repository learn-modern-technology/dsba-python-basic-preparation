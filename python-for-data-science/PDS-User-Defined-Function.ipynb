{
 "cells": [
  {
   "cell_type": "markdown",
   "metadata": {},
   "source": [
    "## User Defined Functions"
   ]
  },
  {
   "cell_type": "markdown",
   "metadata": {},
   "source": [
    "##### A. Write a function to add and subtract two variables"
   ]
  },
  {
   "cell_type": "code",
   "execution_count": 1,
   "metadata": {},
   "outputs": [
    {
     "data": {
      "text/plain": [
       "(6, 2)"
      ]
     },
     "execution_count": 1,
     "metadata": {},
     "output_type": "execute_result"
    }
   ],
   "source": [
    "def math_fun(x,y):\n",
    "    add = x + y\n",
    "    sub = x-y\n",
    "    return add,sub\n",
    "\n",
    "## Call the function to execute the function\n",
    "math_fun(4,2)"
   ]
  },
  {
   "cell_type": "markdown",
   "metadata": {},
   "source": [
    "## 1) Write a UDF that returns true if the input is a prime number and False otherwise.\n"
   ]
  },
  {
   "cell_type": "code",
   "execution_count": 6,
   "metadata": {},
   "outputs": [
    {
     "name": "stdout",
     "output_type": "stream",
     "text": [
      "Number 3 is Prime ? - True\n"
     ]
    }
   ],
   "source": [
    "def check_prime(n):\n",
    "    if n < 0:\n",
    "        print(\"Invalid Prime number\")\n",
    "    elif n == 0:\n",
    "        return False\n",
    "    elif n == 1:\n",
    "        return False\n",
    "    else:\n",
    "        temp = n\n",
    "        i = 2\n",
    "        flag = 0\n",
    "        for i in range(2,n+1):\n",
    "            if n % i == 0:\n",
    "                flag = -1\n",
    "                break\n",
    "        if (temp == i and flag == -1):\n",
    "            return True\n",
    "        else:\n",
    "            return False\n",
    "\n",
    "num = 3\n",
    "result = check_prime(num)\n",
    "print(f\"Number {num} is Prime ? - {result}\")"
   ]
  },
  {
   "cell_type": "code",
   "execution_count": null,
   "metadata": {},
   "outputs": [],
   "source": []
  },
  {
   "cell_type": "markdown",
   "metadata": {},
   "source": [
    "## 2) Write a UDF that takes as input a List and returns the count of Prime numbers in it.\n"
   ]
  },
  {
   "cell_type": "code",
   "execution_count": 4,
   "metadata": {},
   "outputs": [],
   "source": []
  },
  {
   "cell_type": "markdown",
   "metadata": {},
   "source": [
    "## 3) Write a UDF that takes a list as input and returns the reverse list.\n"
   ]
  },
  {
   "cell_type": "code",
   "execution_count": 6,
   "metadata": {},
   "outputs": [
    {
     "name": "stdout",
     "output_type": "stream",
     "text": [
      "[55, 54, 53, 52, 51, 50]\n"
     ]
    }
   ],
   "source": [
    "# using reversed()\n",
    "def Reversing(list):\n",
    "    return [x for x in reversed(list)]\n",
    "      \n",
    "# Driver Code\n",
    "list = [50, 51, 52, 53, 54, 55]\n",
    "print(Reversing(list))"
   ]
  },
  {
   "cell_type": "code",
   "execution_count": 8,
   "metadata": {},
   "outputs": [
    {
     "name": "stdout",
     "output_type": "stream",
     "text": [
      "[55, 54, 53, 52, 51, 50]\n"
     ]
    }
   ],
   "source": [
    "# other way\n",
    "def Reverse(list):\n",
    "    new_list = list[::-1]\n",
    "    return new_list\n",
    "      \n",
    "list = [50, 51, 52, 53, 54, 55]\n",
    "print(Reverse(list))"
   ]
  },
  {
   "cell_type": "code",
   "execution_count": 10,
   "metadata": {
    "scrolled": true
   },
   "outputs": [
    {
     "name": "stdout",
     "output_type": "stream",
     "text": [
      "[55, 54, 53, 52, 51, 50]\n"
     ]
    }
   ],
   "source": [
    "# Using reverse()\n",
    "\n",
    "def Reversing(listing):\n",
    "    listing.reverse()\n",
    "    return lst\n",
    "      \n",
    "lst = [50, 51, 52, 53, 54, 55]\n",
    "print(Reversing(lst))"
   ]
  },
  {
   "cell_type": "markdown",
   "metadata": {},
   "source": [
    "## 4) Write a UDF that takes a list and returns a list with only unique elements.¶"
   ]
  },
  {
   "cell_type": "code",
   "execution_count": 11,
   "metadata": {},
   "outputs": [],
   "source": [
    "def unique(My_list):\n",
    " \n",
    "    # initialize a null list\n",
    "    unique_list = []\n",
    "     \n",
    "    # traverse for all elements\n",
    "    for x in My_list:\n",
    "        # check if exists in unique_list or not\n",
    "        if x not in unique_list:\n",
    "            unique_list.append(x)\n",
    "    # print list\n",
    "    for x in unique_list:\n",
    "        print(x)\n",
    "    "
   ]
  },
  {
   "cell_type": "code",
   "execution_count": 12,
   "metadata": {},
   "outputs": [
    {
     "name": "stdout",
     "output_type": "stream",
     "text": [
      "Unique values\n",
      "11\n",
      "13\n",
      "10\n",
      "14\n",
      "17\n",
      "18\n",
      "12\n"
     ]
    }
   ],
   "source": [
    "\n",
    "My_list = [11, 13, 10, 13, 14, 10, 17, 18, 12, 12, 13]\n",
    "print(\"Unique values\")\n",
    "unique(My_list)\n"
   ]
  },
  {
   "cell_type": "markdown",
   "metadata": {},
   "source": [
    "## 5) Write a UDF that takes a list and returns a dictionary as output with the keys being the elements of the input and values being the number of times they are present.\n",
    "e.g. if you pass [2,4,2,3,6,4] it will return {2:2,3:1,4:2,6:1}\n",
    "\n"
   ]
  },
  {
   "cell_type": "code",
   "execution_count": 13,
   "metadata": {},
   "outputs": [],
   "source": [
    "def Countnumpresent(dict_list):\n",
    " \n",
    "    # Creating an empty dictionary\n",
    "    dict = {}\n",
    "    for items in dict_list:\n",
    "        if (items in dict):\n",
    "            dict[items] += 1\n",
    "        else:\n",
    "            dict[items] = 1\n",
    " \n",
    "    for key, value in dict.items():\n",
    "        print (\"% d : % d\"%(key, value))\n",
    " "
   ]
  },
  {
   "cell_type": "code",
   "execution_count": 14,
   "metadata": {},
   "outputs": [
    {
     "name": "stdout",
     "output_type": "stream",
     "text": [
      "dictionary which shows count of numbers\n",
      " 2 :  3\n",
      " 3 :  5\n",
      " 4 :  3\n",
      " 1 :  3\n",
      " 5 :  1\n",
      " 6 :  1\n",
      " 7 :  1\n"
     ]
    }
   ],
   "source": [
    "if __name__ == \"__main__\":\n",
    "    dict_list =[2, 3, 4, 2, 3, 4, 1, 2, 3, 1, 4, 3, 3, 1, 5, 6, 7]\n",
    "    print(\"dictionary which shows count of numbers\")\n",
    "    Countnumpresent(dict_list)\n",
    "    "
   ]
  }
 ],
 "metadata": {
  "kernelspec": {
   "display_name": "Python 3 (ipykernel)",
   "language": "python",
   "name": "python3"
  },
  "language_info": {
   "codemirror_mode": {
    "name": "ipython",
    "version": 3
   },
   "file_extension": ".py",
   "mimetype": "text/x-python",
   "name": "python",
   "nbconvert_exporter": "python",
   "pygments_lexer": "ipython3",
   "version": "3.9.13"
  },
  "toc": {
   "base_numbering": 1,
   "nav_menu": {},
   "number_sections": true,
   "sideBar": true,
   "skip_h1_title": false,
   "title_cell": "Table of Contents",
   "title_sidebar": "Contents",
   "toc_cell": false,
   "toc_position": {},
   "toc_section_display": true,
   "toc_window_display": false
  },
  "varInspector": {
   "cols": {
    "lenName": 16,
    "lenType": 16,
    "lenVar": 40
   },
   "kernels_config": {
    "python": {
     "delete_cmd_postfix": "",
     "delete_cmd_prefix": "del ",
     "library": "var_list.py",
     "varRefreshCmd": "print(var_dic_list())"
    },
    "r": {
     "delete_cmd_postfix": ") ",
     "delete_cmd_prefix": "rm(",
     "library": "var_list.r",
     "varRefreshCmd": "cat(var_dic_list()) "
    }
   },
   "types_to_exclude": [
    "module",
    "function",
    "builtin_function_or_method",
    "instance",
    "_Feature"
   ],
   "window_display": false
  }
 },
 "nbformat": 4,
 "nbformat_minor": 4
}
