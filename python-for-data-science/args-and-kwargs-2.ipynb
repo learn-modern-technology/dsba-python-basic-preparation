{
 "cells": [
  {
   "cell_type": "markdown",
   "id": "e3256c22-467a-42b1-add4-dd5fc7c5cb21",
   "metadata": {
    "id": "JE2FLBCIejeA"
   },
   "source": [
    "##  \\*args and \\**kwargs"
   ]
  },
  {
   "cell_type": "markdown",
   "id": "036919a1-0e5d-446e-8654-cb73049431b8",
   "metadata": {},
   "source": [
    "### The asterisk takes all the arguments and packs them into a tuple.\n",
    "### The asterisk can be used to unpack sequences into arguments too!"
   ]
  },
  {
   "cell_type": "code",
   "execution_count": 3,
   "id": "57fffa10-1f57-46ea-9c8b-c6ca3455818e",
   "metadata": {},
   "outputs": [],
   "source": [
    "def multiply(*args):\n",
    "    print(args)\n",
    "    total = 1\n",
    "    for arg in args:\n",
    "        total = total * arg\n",
    "    return total"
   ]
  },
  {
   "cell_type": "code",
   "execution_count": 9,
   "id": "c6d13371-5120-4356-86e0-0429c10c8207",
   "metadata": {},
   "outputs": [
    {
     "name": "stdout",
     "output_type": "stream",
     "text": [
      "(1, 3, 5)\n",
      "Product is 15\n"
     ]
    }
   ],
   "source": [
    "product = multiply(1,3,5)\n",
    "print(f\"Product is {product}\")"
   ]
  },
  {
   "cell_type": "code",
   "execution_count": null,
   "id": "2d6dd3c9-e80b-42f7-a2f9-a70acc9d99f7",
   "metadata": {},
   "outputs": [],
   "source": []
  },
  {
   "cell_type": "code",
   "execution_count": 35,
   "id": "f069e956-6339-4a90-ac6b-f48f5a4a01d7",
   "metadata": {},
   "outputs": [],
   "source": [
    "def add(a, b, c, d, e):\n",
    "    return a + b + c + d + e"
   ]
  },
  {
   "cell_type": "code",
   "execution_count": 36,
   "id": "1901544b-3e88-4c98-b15c-8eff5690d620",
   "metadata": {},
   "outputs": [
    {
     "name": "stdout",
     "output_type": "stream",
     "text": [
      "*number - 10 20 30 40 50\n",
      "number - [10, 20, 30, 40, 50]\n",
      "sum of numbers [10, 20, 30, 40, 50] is 150\n"
     ]
    }
   ],
   "source": [
    "number = [10, 20, 30, 40, 50]\n",
    "sum_of_num = add(*number)\n",
    "print(\"*number -\",*number)\n",
    "print(\"number -\",number)\n",
    "print(f\"sum of numbers {number} is {sum_of_num}\")"
   ]
  },
  {
   "cell_type": "code",
   "execution_count": null,
   "id": "3939f507-45b1-470f-9f5c-cf8494f83cd2",
   "metadata": {},
   "outputs": [],
   "source": []
  },
  {
   "cell_type": "code",
   "execution_count": 16,
   "id": "2f24cfab-6678-4ac0-8b67-37c9d66159ce",
   "metadata": {},
   "outputs": [],
   "source": [
    "def apply(*args, operator):\n",
    "    if operator == \"*\":\n",
    "        return multiply(*args)\n",
    "    elif operator == \"+\":\n",
    "        return sum(args)\n",
    "    else:\n",
    "        return \"Not a valid operator used\""
   ]
  },
  {
   "cell_type": "code",
   "execution_count": 17,
   "id": "dc53e9b4-7a39-46fd-9502-9cd7a96fb552",
   "metadata": {},
   "outputs": [
    {
     "name": "stdout",
     "output_type": "stream",
     "text": [
      "Added value is - 15\n"
     ]
    }
   ],
   "source": [
    "added_value = apply(1,2,3,4,5, operator= \"+\")\n",
    "print(f\"Added value is - {added_value}\")"
   ]
  },
  {
   "cell_type": "code",
   "execution_count": null,
   "id": "b5acf8ee-2a96-4fcd-be98-9751b042f7fe",
   "metadata": {},
   "outputs": [],
   "source": []
  },
  {
   "cell_type": "code",
   "execution_count": 23,
   "id": "3559ab99-9884-447c-8736-491f6a0b712e",
   "metadata": {},
   "outputs": [],
   "source": [
    "def add(x, y):\n",
    "    print(\"x - \",x)\n",
    "    print(\"y - \",y)\n",
    "    return x + y"
   ]
  },
  {
   "cell_type": "code",
   "execution_count": 24,
   "id": "8803fe07-e515-49d4-80cd-869b35896187",
   "metadata": {},
   "outputs": [
    {
     "name": "stdout",
     "output_type": "stream",
     "text": [
      "x -  25\n",
      "y -  42\n",
      "sum of numbers {'x': 25, 'y': 42} is 67\n"
     ]
    }
   ],
   "source": [
    "nums = {\"x\": 25, \"y\": 42}\n",
    "sumofxy = add(**nums)\n",
    "print(f\"sum of numbers {nums} is {sumofxy}\")"
   ]
  },
  {
   "cell_type": "code",
   "execution_count": null,
   "id": "a82710a7-9929-4fed-8f79-c44755139ec1",
   "metadata": {},
   "outputs": [],
   "source": []
  },
  {
   "cell_type": "code",
   "execution_count": 51,
   "id": "04b258db-b718-4efb-976c-0e4496e9204b",
   "metadata": {},
   "outputs": [],
   "source": [
    "def add(a, b, c, d, e):\n",
    "    print(a)\n",
    "    print(b)\n",
    "    print(c)\n",
    "    print(d)\n",
    "    print(e)\n",
    "    return a + b + c + d + e"
   ]
  },
  {
   "cell_type": "code",
   "execution_count": 58,
   "id": "c3a9d33b-d64f-4730-a6ff-304f6d1c5a3b",
   "metadata": {},
   "outputs": [
    {
     "name": "stdout",
     "output_type": "stream",
     "text": [
      "*new_num -  a b c d e\n",
      "25\n",
      "42\n",
      "17\n",
      "73\n",
      "67\n",
      "sum of numbers {'a': 25, 'b': 42, 'c': 17, 'd': 73, 'e': 67} is 224\n"
     ]
    }
   ],
   "source": [
    "new_num = {\"a\": 25, \"b\": 42, \"c\": 17, \"d\": 73, \"e\": 67}\n",
    "print(\"*new_num - \", *new_num)\n",
    "## print(\"*new_num - \", **new_num) print() takes at most 4 keyword arguments (5 given)\n",
    "sum_of_kwargs = add(**new_num)\n",
    "print(f\"sum of numbers {new_num} is {sum_of_kwargs}\")"
   ]
  },
  {
   "cell_type": "code",
   "execution_count": null,
   "id": "df53e21b-3f89-4ac4-9919-48f614e2e5f1",
   "metadata": {},
   "outputs": [],
   "source": []
  },
  {
   "cell_type": "code",
   "execution_count": 66,
   "id": "0edd0548-2e0e-4f8a-9bb8-b79497f4057a",
   "metadata": {},
   "outputs": [],
   "source": [
    "def test_args_kwargs(*args, **kwargs):\n",
    "    print(\"*args -\", *args)\n",
    "    print(\"args -\", args)\n",
    "    print(\"kwargs -\", kwargs)\n",
    "    ## print(\"**kwargs -\", **kwargs)  ## TypeError: 'first' is an invalid keyword argument for print()"
   ]
  },
  {
   "cell_type": "code",
   "execution_count": 67,
   "id": "193ffd44-3733-4fcc-8e0b-8f409a1a75a7",
   "metadata": {},
   "outputs": [
    {
     "name": "stdout",
     "output_type": "stream",
     "text": [
      "*args - My name is Sudhanshu\n",
      "args - ('My', 'name', 'is', 'Sudhanshu')\n",
      "kwargs - {'first': 'I', 'mid': 'am not a', 'last': 'Terrorist'}\n"
     ]
    }
   ],
   "source": [
    "test_args_kwargs(\"My\", \"name\", \"is\", \"Sudhanshu\", first=\"I\", mid=\"am not a\", last=\"Terrorist\" )"
   ]
  },
  {
   "cell_type": "code",
   "execution_count": null,
   "id": "6274bd9c-67c8-4069-9279-0260edeeb38a",
   "metadata": {},
   "outputs": [],
   "source": []
  },
  {
   "cell_type": "code",
   "execution_count": null,
   "id": "baae6878-4899-4ba6-936f-246855ddafc2",
   "metadata": {},
   "outputs": [],
   "source": []
  },
  {
   "cell_type": "code",
   "execution_count": 68,
   "id": "73341b94-e346-4bdf-82ff-dc881312e0a0",
   "metadata": {},
   "outputs": [
    {
     "name": "stdout",
     "output_type": "stream",
     "text": [
      "{'name': 'Mohan', 'age': 35}\n"
     ]
    }
   ],
   "source": [
    "# -- Unpacking kwargs --\n",
    "def named(**kwargs):\n",
    "    print(kwargs)\n",
    "\n",
    "named(name=\"Mohan\", age =35)"
   ]
  },
  {
   "cell_type": "code",
   "execution_count": null,
   "id": "cc461818-1db9-4030-a6c4-32bf9d0fe32f",
   "metadata": {},
   "outputs": [],
   "source": []
  },
  {
   "cell_type": "code",
   "execution_count": 69,
   "id": "8fae5b86-c96b-43aa-a24e-799c79afa851",
   "metadata": {},
   "outputs": [
    {
     "name": "stdout",
     "output_type": "stream",
     "text": [
      "{'name': 'Rajamohan', 'age': 38}\n"
     ]
    }
   ],
   "source": [
    "details = { \"name\":\"Rajamohan\", \"age\": 38}\n",
    "\n",
    "named(**details)"
   ]
  },
  {
   "cell_type": "code",
   "execution_count": null,
   "id": "786f852f-24dd-482d-92b2-ab7142d0c95f",
   "metadata": {},
   "outputs": [],
   "source": []
  },
  {
   "cell_type": "code",
   "execution_count": 70,
   "id": "61d34f98-6575-42c8-b086-38adf33dafd3",
   "metadata": {},
   "outputs": [],
   "source": [
    "def print_nicely(**kwargs):\n",
    "    named(**kwargs)                     # Unpack the dictionary into keyword arguments.\n",
    "    for name, age in kwargs.items():    # kwargs is a dictionary that can be accessed by using items()\n",
    "        print(f\"{name} : {age}\")"
   ]
  },
  {
   "cell_type": "code",
   "execution_count": 71,
   "id": "46ece5e1-78e8-4fcc-8d09-db41ef19de82",
   "metadata": {},
   "outputs": [
    {
     "name": "stdout",
     "output_type": "stream",
     "text": [
      "{'name': 'Priyanka', 'age': 30}\n",
      "name : Priyanka\n",
      "age : 30\n"
     ]
    }
   ],
   "source": [
    "print_nicely(name=\"Priyanka\", age=30)"
   ]
  },
  {
   "cell_type": "code",
   "execution_count": null,
   "id": "87e0ed27-39ff-4482-9235-bda02c8c5d42",
   "metadata": {},
   "outputs": [],
   "source": []
  },
  {
   "cell_type": "code",
   "execution_count": 72,
   "id": "dffa57d6-d295-4b10-acf0-de765f1bcb1d",
   "metadata": {},
   "outputs": [
    {
     "name": "stdout",
     "output_type": "stream",
     "text": [
      "{'name': 'Rajshekar', 'age': 38}\n",
      "name : Rajshekar\n",
      "age : 38\n"
     ]
    }
   ],
   "source": [
    "details = { \"name\":\"Rajshekar\", \"age\": 38}\n",
    "print_nicely(**details)"
   ]
  },
  {
   "cell_type": "code",
   "execution_count": null,
   "id": "c818ffc9-ca74-4e0e-b8d7-17d02ac20892",
   "metadata": {},
   "outputs": [],
   "source": []
  },
  {
   "cell_type": "code",
   "execution_count": 73,
   "id": "4e582719-a390-4ac8-a255-eab3dd678710",
   "metadata": {},
   "outputs": [
    {
     "name": "stdout",
     "output_type": "stream",
     "text": [
      "args - (1, 2, 3, 4, 5, 6, 7, 8)\n",
      "kwargs - {'name': 'Chandini', 'age': 28}\n"
     ]
    }
   ],
   "source": [
    "def both(*args, **kwargs):\n",
    "    print(f\"args - {args}\")\n",
    "    print(f\"kwargs - {kwargs}\")\n",
    "\n",
    "both(1,2,3,4,5,6,7,8, name=\"Chandini\", age=28)"
   ]
  },
  {
   "cell_type": "code",
   "execution_count": null,
   "id": "ec3109c3-5fa2-4359-b9ee-f4fb7cdf62c0",
   "metadata": {},
   "outputs": [],
   "source": []
  }
 ],
 "metadata": {
  "kernelspec": {
   "display_name": "Python 3 (ipykernel)",
   "language": "python",
   "name": "python3"
  },
  "language_info": {
   "codemirror_mode": {
    "name": "ipython",
    "version": 3
   },
   "file_extension": ".py",
   "mimetype": "text/x-python",
   "name": "python",
   "nbconvert_exporter": "python",
   "pygments_lexer": "ipython3",
   "version": "3.9.13"
  }
 },
 "nbformat": 4,
 "nbformat_minor": 5
}
