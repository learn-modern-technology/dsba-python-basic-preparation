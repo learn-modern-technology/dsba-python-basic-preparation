{
 "cells": [
  {
   "cell_type": "markdown",
   "metadata": {
    "id": "SS1aONKU9FyM"
   },
   "source": [
    "These are called cells.  There are 2 types of cells: code and text. We can add more cells by clicking the + buttons above!\n",
    "\n",
    "In a code cell you can type some code and then you execute the code by pressing Shift + Enter\n",
    "\n",
    "In a text cell you can also format text!\n",
    "# Chapter 1!\n",
    "Sub text here!\n",
    "\n",
    "## Sub-Header\n",
    "\n",
    "### Sub-Sub-Header"
   ]
  },
  {
   "cell_type": "code",
   "execution_count": 1,
   "metadata": {
    "id": "zeoHP5FokIWM"
   },
   "outputs": [],
   "source": []
  },
  {
   "cell_type": "code",
   "execution_count": 1,
   "metadata": {
    "id": "FfYdhQ-fkI76"
   },
   "outputs": [],
   "source": []
  },
  {
   "cell_type": "code",
   "execution_count": 1,
   "metadata": {
    "id": "gw6grf6bkJPp"
   },
   "outputs": [],
   "source": []
  },
  {
   "cell_type": "markdown",
   "metadata": {
    "id": "bmIURVp3kLfB"
   },
   "source": []
  },
  {
   "cell_type": "code",
   "execution_count": 2,
   "metadata": {
    "colab": {
     "base_uri": "https://localhost:8080/"
    },
    "id": "wiVCBtg89Dz1",
    "outputId": "d625d75d-51e9-471a-c4a4-3d111c1b2aa8"
   },
   "outputs": [
    {
     "data": {
      "text/plain": [
       "4"
      ]
     },
     "execution_count": 2,
     "metadata": {},
     "output_type": "execute_result"
    }
   ],
   "source": [
    "2+2"
   ]
  },
  {
   "cell_type": "code",
   "execution_count": 3,
   "metadata": {
    "colab": {
     "base_uri": "https://localhost:8080/"
    },
    "id": "SBBED0rE6rxn",
    "outputId": "59d3f317-0a0f-4dd7-c617-52f37b52abb3"
   },
   "outputs": [
    {
     "data": {
      "text/plain": [
       "8"
      ]
     },
     "execution_count": 3,
     "metadata": {},
     "output_type": "execute_result"
    }
   ],
   "source": [
    "2+2\n",
    "4+4"
   ]
  },
  {
   "cell_type": "code",
   "execution_count": 4,
   "metadata": {
    "colab": {
     "base_uri": "https://localhost:8080/"
    },
    "id": "hSZ2aNVh6r3u",
    "outputId": "59e22b79-2a12-4d63-f7d4-93c3e4814c13"
   },
   "outputs": [
    {
     "name": "stdout",
     "output_type": "stream",
     "text": [
      "4\n",
      "8\n"
     ]
    }
   ],
   "source": [
    "print(2+2)\n",
    "print(4+4)"
   ]
  },
  {
   "cell_type": "code",
   "execution_count": 5,
   "metadata": {
    "colab": {
     "base_uri": "https://localhost:8080/"
    },
    "id": "9JkDnOvG6zsp",
    "outputId": "3f1a4557-3ecb-48d7-81cf-3969891917bb"
   },
   "outputs": [
    {
     "name": "stdout",
     "output_type": "stream",
     "text": [
      "hello world!\n"
     ]
    }
   ],
   "source": [
    "print('hello world!')"
   ]
  },
  {
   "cell_type": "code",
   "execution_count": 5,
   "metadata": {
    "id": "iFWtrUbJCiad"
   },
   "outputs": [],
   "source": []
  },
  {
   "cell_type": "code",
   "execution_count": 6,
   "metadata": {
    "colab": {
     "base_uri": "https://localhost:8080/"
    },
    "id": "isR8teAB6zu_",
    "outputId": "70668aee-bc05-4382-baf7-1d6a646b808d"
   },
   "outputs": [
    {
     "name": "stdout",
     "output_type": "stream",
     "text": [
      "hello world 4 this is python\n"
     ]
    }
   ],
   "source": [
    "print('hello world',2+2,'this is python')"
   ]
  },
  {
   "cell_type": "code",
   "execution_count": 7,
   "metadata": {
    "colab": {
     "base_uri": "https://localhost:8080/"
    },
    "id": "qS7VIsa37RKx",
    "outputId": "8c8eef92-d487-4cda-853c-8632d2e8bdb2"
   },
   "outputs": [
    {
     "name": "stdout",
     "output_type": "stream",
     "text": [
      "hello world4this is python\n"
     ]
    }
   ],
   "source": [
    "print('hello world',2+2,'this is python',sep='')"
   ]
  },
  {
   "cell_type": "code",
   "execution_count": 8,
   "metadata": {
    "colab": {
     "base_uri": "https://localhost:8080/"
    },
    "id": "xIoQO0ix6zxJ",
    "outputId": "73232415-f158-45ee-f62e-4515c3cebc7c"
   },
   "outputs": [
    {
     "data": {
      "text/plain": [
       "4"
      ]
     },
     "execution_count": 8,
     "metadata": {},
     "output_type": "execute_result"
    }
   ],
   "source": [
    "# everything to the right of a # is not run as code, this is called a comment!\n",
    "2+2 # this is adding two plus two"
   ]
  },
  {
   "cell_type": "code",
   "execution_count": 9,
   "metadata": {
    "colab": {
     "base_uri": "https://localhost:8080/"
    },
    "id": "TMuz1Mlc6zzv",
    "outputId": "ce9aef73-2ec3-4f36-d72f-12637f59f0a6"
   },
   "outputs": [
    {
     "name": "stdout",
     "output_type": "stream",
     "text": [
      "helloworld\n"
     ]
    }
   ],
   "source": [
    "# we can add strings together!\n",
    "print('hello'+'world')"
   ]
  },
  {
   "cell_type": "code",
   "execution_count": 10,
   "metadata": {
    "colab": {
     "base_uri": "https://localhost:8080/"
    },
    "id": "FfMWZGHRCtsz",
    "outputId": "49073001-1c35-4789-e280-06269cdb18c4"
   },
   "outputs": [
    {
     "name": "stdout",
     "output_type": "stream",
     "text": [
      "hello  world\n"
     ]
    }
   ],
   "source": [
    "print('hello ' + ' world')"
   ]
  },
  {
   "cell_type": "code",
   "execution_count": 11,
   "metadata": {
    "colab": {
     "base_uri": "https://localhost:8080/",
     "height": 166
    },
    "id": "i2VDUtLgCxPD",
    "outputId": "6945f455-ed96-4381-ebf9-a9ac520b7fd6"
   },
   "outputs": [
    {
     "ename": "TypeError",
     "evalue": "ignored",
     "output_type": "error",
     "traceback": [
      "\u001b[0;31m---------------------------------------------------------------------------\u001b[0m",
      "\u001b[0;31mTypeError\u001b[0m                                 Traceback (most recent call last)",
      "\u001b[0;32m<ipython-input-11-1f1168554856>\u001b[0m in \u001b[0;36m<module>\u001b[0;34m()\u001b[0m\n\u001b[0;32m----> 1\u001b[0;31m \u001b[0mprint\u001b[0m\u001b[0;34m(\u001b[0m\u001b[0;34m'hello'\u001b[0m\u001b[0;34m+\u001b[0m\u001b[0;36m5\u001b[0m\u001b[0;34m)\u001b[0m\u001b[0;34m\u001b[0m\u001b[0;34m\u001b[0m\u001b[0m\n\u001b[0m",
      "\u001b[0;31mTypeError\u001b[0m: can only concatenate str (not \"int\") to str"
     ]
    }
   ],
   "source": [
    "print('hello'+5)"
   ]
  },
  {
   "cell_type": "markdown",
   "metadata": {
    "id": "qA3wyngS6oI3"
   },
   "source": [
    "A mobile store MobiWorld sells different mobile phones to customers. For each order that is placed, the store keeps a record of various attributes related to the mobile, like Price, Brand, RAM (GB), and Internal Storage (GB).\n",
    "\n",
    "Let's learn Python using the context of the store's data.\n"
   ]
  },
  {
   "cell_type": "markdown",
   "metadata": {
    "id": "Zfms3DPGJbL-"
   },
   "source": [
    "## 1.1 Intro to Variables"
   ]
  },
  {
   "cell_type": "markdown",
   "metadata": {
    "id": "lJcCrrGLmUQL"
   },
   "source": [
    "First, we have to store our data to a variable that can be used to extract the stored information later. Let's take an example of how we can do that in Python.\n",
    "\n",
    "Q. Suppose the store sold an Apple iPhone (4GB, 128GB) for $900. Store this information in the variables **price**, **brand**, **ram**, and **storage**.\n"
   ]
  },
  {
   "cell_type": "code",
   "execution_count": 13,
   "metadata": {
    "colab": {
     "base_uri": "https://localhost:8080/"
    },
    "id": "QFfVcPv3nuNp",
    "outputId": "b617ebe1-f784-4546-ba07-cfbe465715ac"
   },
   "outputs": [
    {
     "name": "stdout",
     "output_type": "stream",
     "text": [
      "The price of the mobile is $900\n"
     ]
    }
   ],
   "source": [
    "# store the price (in dollars) of the mobile in variable 'price'\n",
    "price = 900\n",
    "# print the value saved in the variable 'price'\n",
    "print('The price of the mobile is $',price,sep='')"
   ]
  },
  {
   "cell_type": "code",
   "execution_count": 6,
   "metadata": {
    "colab": {
     "base_uri": "https://localhost:8080/"
    },
    "id": "PtM8OsxBpqjc",
    "outputId": "f3996ecc-9a95-42d5-e41e-e2e5dea438a7"
   },
   "outputs": [
    {
     "name": "stdout",
     "output_type": "stream",
     "text": [
      "The brand of the mobile is Apple\n"
     ]
    }
   ],
   "source": [
    "# store the brand name of the mobile in variable 'brand'.\n",
    "brand = 'Apple'\n",
    "# print the value saved in the variable 'brand'\n",
    "print('The brand of the mobile is',brand)"
   ]
  },
  {
   "cell_type": "code",
   "execution_count": 9,
   "metadata": {
    "colab": {
     "base_uri": "https://localhost:8080/"
    },
    "id": "YuF62kesqH4k",
    "outputId": "76fed9ae-2572-4eda-e084-394f2ad4ebe6"
   },
   "outputs": [
    {
     "name": "stdout",
     "output_type": "stream",
     "text": [
      "The RAM of the mobile is 4 GB\n"
     ]
    }
   ],
   "source": [
    "# store the RAM (in GB) of the mobile in variable 'ram'.\n",
    "ram = 4\n",
    "# print the value saved in the variable 'ram'\n",
    "print('The RAM of the mobile is', ram,'GB')"
   ]
  },
  {
   "cell_type": "code",
   "execution_count": 10,
   "metadata": {
    "colab": {
     "base_uri": "https://localhost:8080/"
    },
    "id": "km7ePn3WqUVk",
    "outputId": "fba88284-37e7-4e3c-a7ff-ec30a9f5d05b"
   },
   "outputs": [
    {
     "name": "stdout",
     "output_type": "stream",
     "text": [
      "The internal storage of the mobile is 128 GB\n"
     ]
    }
   ],
   "source": [
    "# store the internal storage (in GB) of the mobile in variable 'storage'.\n",
    "storage = 128\n",
    "# print the value saved in the variable 'Memory'\n",
    "print('The internal storage of the mobile is', storage, 'GB')"
   ]
  },
  {
   "cell_type": "markdown",
   "metadata": {
    "id": "6Hl1V6TfC3PN"
   },
   "source": [
    "Q. Let's say the store wants to save the information on the billing status of the above phone in a boolean variable. Write the code in Python to implement the same."
   ]
  },
  {
   "cell_type": "code",
   "execution_count": 11,
   "metadata": {
    "colab": {
     "base_uri": "https://localhost:8080/"
    },
    "id": "_jZ5ynflEGlJ",
    "outputId": "e14ebcc0-fd09-45ad-a5d6-6c1a23eebb3a"
   },
   "outputs": [
    {
     "name": "stdout",
     "output_type": "stream",
     "text": [
      "True\n"
     ]
    }
   ],
   "source": [
    "# a special type of variable stores just True/False values.  This is called a boolean variable.\n",
    "# create a boolean variable 'is_billed' to save the billing information\n",
    "is_billed = True\n",
    "print(is_billed)"
   ]
  },
  {
   "cell_type": "markdown",
   "metadata": {
    "id": "3V2CNbizt63k"
   },
   "source": [
    "The value that we store in a variable can be a number or a set of characters or a boolean variable (True/False). For example, a price is a number while the brand name is a set of characters which is also known as a string in python. Whenever we store a value in a variable, Python automatically assigns a data type to that variable based on the value. It also allows us to check the data type of the variable.\n",
    "\n",
    "Q. Check the data type of the variables **price**, **brand**, **ram**, and **storage**"
   ]
  },
  {
   "cell_type": "code",
   "execution_count": 12,
   "metadata": {
    "colab": {
     "base_uri": "https://localhost:8080/"
    },
    "id": "g4KOBpxyvbIR",
    "outputId": "97d5d8b1-dbf0-4af9-ea4d-c09bfb2591e5"
   },
   "outputs": [
    {
     "data": {
      "text/plain": [
       "int"
      ]
     },
     "execution_count": 12,
     "metadata": {},
     "output_type": "execute_result"
    }
   ],
   "source": [
    "# check the data-type using the type function\n",
    "type(price)"
   ]
  },
  {
   "cell_type": "code",
   "execution_count": 13,
   "metadata": {
    "colab": {
     "base_uri": "https://localhost:8080/"
    },
    "id": "M8vCNgGavtIw",
    "outputId": "74b15c50-043e-4936-fbf9-a1e0023f7cae"
   },
   "outputs": [
    {
     "data": {
      "text/plain": [
       "str"
      ]
     },
     "execution_count": 13,
     "metadata": {},
     "output_type": "execute_result"
    }
   ],
   "source": [
    "# check the data-type using the type function\n",
    "type(brand)"
   ]
  },
  {
   "cell_type": "code",
   "execution_count": 14,
   "metadata": {
    "colab": {
     "base_uri": "https://localhost:8080/"
    },
    "id": "4Tur0cIAwTxr",
    "outputId": "d9f0f2c8-f6a6-4cc3-8a19-d894c44b840a"
   },
   "outputs": [
    {
     "data": {
      "text/plain": [
       "int"
      ]
     },
     "execution_count": 14,
     "metadata": {},
     "output_type": "execute_result"
    }
   ],
   "source": [
    "# check the data-type using the type function\n",
    "type(ram)"
   ]
  },
  {
   "cell_type": "code",
   "execution_count": 15,
   "metadata": {
    "colab": {
     "base_uri": "https://localhost:8080/"
    },
    "id": "r0kULhRIwVbP",
    "outputId": "94c9d25b-2c12-4474-949d-166692d7a6ce"
   },
   "outputs": [
    {
     "data": {
      "text/plain": [
       "int"
      ]
     },
     "execution_count": 15,
     "metadata": {},
     "output_type": "execute_result"
    }
   ],
   "source": [
    "# check the data-type using the type function\n",
    "type(storage)"
   ]
  },
  {
   "cell_type": "code",
   "execution_count": 16,
   "metadata": {
    "colab": {
     "base_uri": "https://localhost:8080/"
    },
    "id": "Q_81HC3LFF8_",
    "outputId": "3f65f94d-2665-48e1-9eb5-504555baa225"
   },
   "outputs": [
    {
     "data": {
      "text/plain": [
       "bool"
      ]
     },
     "execution_count": 16,
     "metadata": {},
     "output_type": "execute_result"
    }
   ],
   "source": [
    "# check the data-type using the type function\n",
    "type(is_billed)"
   ]
  },
  {
   "cell_type": "markdown",
   "metadata": {
    "id": "MP4Csswyq1mG"
   },
   "source": [
    "Q. Let's say a customer buys two Apple iPhones (4GB, 128GB) at a price of $900 each. What will be the total bill that the customer has to pay?"
   ]
  },
  {
   "cell_type": "code",
   "execution_count": 17,
   "metadata": {
    "colab": {
     "base_uri": "https://localhost:8080/"
    },
    "id": "PUv9ztT6sG3i",
    "outputId": "ba06c164-32df-4a91-dc00-7fd53541e9e3"
   },
   "outputs": [
    {
     "name": "stdout",
     "output_type": "stream",
     "text": [
      "The bill amount is $1800\n"
     ]
    }
   ],
   "source": [
    "# calcuate the total bill and store it in variable 'bill'\n",
    "bill = price + price\n",
    "# the same result can be achieved by multiplication.\n",
    "bill = price*2\n",
    "print('The bill amount is $',bill,sep='')"
   ]
  },
  {
   "cell_type": "code",
   "execution_count": 18,
   "metadata": {},
   "outputs": [
    {
     "name": "stdout",
     "output_type": "stream",
     "text": [
      "The bill amount is $800\n",
      "The bill amount is $ 800\n"
     ]
    }
   ],
   "source": [
    "price = 400\n",
    "bill = price*2\n",
    "print('The bill amount is $',bill,sep='')\n",
    "print('The bill amount is $',bill)"
   ]
  },
  {
   "cell_type": "markdown",
   "metadata": {
    "id": "t9Xp42rvP5lJ"
   },
   "source": [
    "Q. Let's say the store provides a discount of \\$15 dollars on the Apple iPhone (4GB, 128GB) that costs $900. What will be the price of the iPhone after the discount?\n"
   ]
  },
  {
   "cell_type": "code",
   "execution_count": 19,
   "metadata": {
    "colab": {
     "base_uri": "https://localhost:8080/"
    },
    "id": "qjha3bvzQovj",
    "outputId": "e24b8c0c-b30e-4b16-a221-bf906075c8d1"
   },
   "outputs": [
    {
     "name": "stdout",
     "output_type": "stream",
     "text": [
      "The price of the iPhone after the discount is $885\n"
     ]
    }
   ],
   "source": [
    "# store the price (in dollars) of the mobile in variable 'price'\n",
    "price = 900\n",
    "# store the discount amount in variable 'discount'\n",
    "discount = 15\n",
    "# calculate the discounted price\n",
    "price_after_discount = price - discount\n",
    "print('The price of the iPhone after the discount is $',price_after_discount,sep='')"
   ]
  },
  {
   "cell_type": "markdown",
   "metadata": {
    "id": "zZvOG69cVKYA"
   },
   "source": [
    "Q. Let's say a customer buys two Apple iPhones (4GB, 128GB) and pays a total bill of \\$1800. Write the Python code to find the price of an Apple iPhone."
   ]
  },
  {
   "cell_type": "code",
   "execution_count": 20,
   "metadata": {
    "colab": {
     "base_uri": "https://localhost:8080/"
    },
    "id": "jd7Z5MDBWXkY",
    "outputId": "b19c4cbb-1ffa-4e13-bb34-d0ee08966d66"
   },
   "outputs": [
    {
     "name": "stdout",
     "output_type": "stream",
     "text": [
      "The price of an Apple iPhone is $900.0\n"
     ]
    }
   ],
   "source": [
    "# store the bill (in dollars) of the two mobiles in variable 'bill'\n",
    "bill = 1800\n",
    "# calculate the price of one mobile\n",
    "price = bill / 2\n",
    "print('The price of an Apple iPhone is $',price,sep='')"
   ]
  },
  {
   "cell_type": "markdown",
   "metadata": {
    "id": "G1LuAO-rRjhK"
   },
   "source": [
    "Q. Let's say a customer buys x numbers of Apple iPhones (4GB, 128GB) for $900 each. The total bill that the customer pays is \\$3600. Write the Python code to find the value of x."
   ]
  },
  {
   "cell_type": "code",
   "execution_count": 21,
   "metadata": {
    "colab": {
     "base_uri": "https://localhost:8080/"
    },
    "id": "UaiRRd3WReW6",
    "outputId": "dee71494-69a9-43a6-97c1-3d79efc0d1f1"
   },
   "outputs": [
    {
     "name": "stdout",
     "output_type": "stream",
     "text": [
      "The customer buys 4 Apple iPhones\n"
     ]
    }
   ],
   "source": [
    "# store the bill (in dollars) of the mobile in variable 'bill'\n",
    "bill = 3600\n",
    "# store the price (in dollars) of the mobile in variable 'price'\n",
    "price = 900\n",
    "# calculate the number of iPhones that the customer buys\n",
    "x = bill // price\n",
    "# double divided forces the answer to be an integer!\n",
    "print('The customer buys', x, 'Apple iPhones')"
   ]
  },
  {
   "cell_type": "markdown",
   "metadata": {
    "id": "cG-aP2YlFNzB"
   },
   "source": [
    "Q. Suppose the store plans to provide a 4.5% discount on the Apple iPhone. What will be the discounted price of the mobile?"
   ]
  },
  {
   "cell_type": "markdown",
   "metadata": {
    "id": "3fpYu_Z8Ndf0"
   },
   "source": [
    "**Type Conversion**: The process of converting one data type to another data type is called type conversion. \n",
    "\n",
    "In Python, we can perform two types of type conversion.\n",
    "\n",
    "1. Implicit Type Conversion - Here, Python automatically converts one data type to another in order to avoid data loss.\n",
    "\n",
    "2. Explicit Type Conversion - Here, the user can convert the data type of a variable to the required data type by using the in-built functions int(), float(), str(), etc.\n"
   ]
  },
  {
   "cell_type": "code",
   "execution_count": 22,
   "metadata": {
    "colab": {
     "base_uri": "https://localhost:8080/"
    },
    "id": "RmmOkRrwG6ac",
    "outputId": "89184212-8eb2-4a24-9f87-ac48387be698"
   },
   "outputs": [
    {
     "name": "stdout",
     "output_type": "stream",
     "text": [
      "The discounted price of the iPhone is 859.5\n"
     ]
    }
   ],
   "source": [
    "# store the price (in dollars) of the mobile in variable 'price'\n",
    "price = 900\n",
    "# calculate the discount amount\n",
    "discount = price * 0.045\n",
    "# calculate the discounted price\n",
    "discounted_price = price - discount\n",
    "print('The discounted price of the iPhone is ' + str(discounted_price))\n",
    "\n",
    "## It will throw TypeError: can only concatenate str (not \"float\") to str\n",
    "## print('The discounted price of the iPhone is ' + discounted_price)"
   ]
  },
  {
   "cell_type": "code",
   "execution_count": 28,
   "metadata": {
    "colab": {
     "base_uri": "https://localhost:8080/"
    },
    "id": "usYUYXiOCdVt",
    "outputId": "b999ecdf-ba6f-4fb0-dc30-3cbac0c5ac6a"
   },
   "outputs": [
    {
     "data": {
      "text/plain": [
       "float"
      ]
     },
     "execution_count": 28,
     "metadata": {},
     "output_type": "execute_result"
    }
   ],
   "source": [
    "type(discounted_price)"
   ]
  },
  {
   "cell_type": "markdown",
   "metadata": {
    "id": "2SrYvKgAZv2c"
   },
   "source": [
    "Now, let's check the data type of the variables 'discount' and 'price'"
   ]
  },
  {
   "cell_type": "code",
   "execution_count": 23,
   "metadata": {
    "colab": {
     "base_uri": "https://localhost:8080/"
    },
    "id": "5vU-mAkiZ92S",
    "outputId": "90eedeaa-9184-4592-d7ec-db9fe7493a62"
   },
   "outputs": [
    {
     "name": "stdout",
     "output_type": "stream",
     "text": [
      "The data type of variable price is <class 'int'>\n",
      "The data type of variable discount is <class 'float'>\n"
     ]
    }
   ],
   "source": [
    "print('The data type of variable price is',type(price))\n",
    "print('The data type of variable discount is',type(discount))"
   ]
  },
  {
   "cell_type": "markdown",
   "metadata": {
    "id": "q05dBOmTwXuE"
   },
   "source": [
    "As we can see, the data type of 'discount' is float as Python is implicitly converting the lower data type to a higher data type to avoid data loss.\n",
    "\n",
    "Suppose we want to add the variables **brand**, **ram**, and **storage**. \n",
    "\n",
    "Will the implicit conversion work?\n",
    "\n",
    "Let's try it!"
   ]
  },
  {
   "cell_type": "code",
   "execution_count": 24,
   "metadata": {
    "colab": {
     "base_uri": "https://localhost:8080/",
     "height": 166
    },
    "id": "F-JdovnFdDpu",
    "outputId": "856db8c1-437b-4ffd-d41a-15eaf6d255ab"
   },
   "outputs": [
    {
     "ename": "TypeError",
     "evalue": "can only concatenate str (not \"int\") to str",
     "output_type": "error",
     "traceback": [
      "\u001b[1;31m---------------------------------------------------------------------------\u001b[0m",
      "\u001b[1;31mTypeError\u001b[0m                                 Traceback (most recent call last)",
      "\u001b[1;32m~\\AppData\\Local\\Temp\\ipykernel_16496\\2294384540.py\u001b[0m in \u001b[0;36m<module>\u001b[1;34m\u001b[0m\n\u001b[1;32m----> 1\u001b[1;33m \u001b[0mprint\u001b[0m\u001b[1;33m(\u001b[0m\u001b[0mbrand\u001b[0m \u001b[1;33m+\u001b[0m \u001b[1;34m' '\u001b[0m \u001b[1;33m+\u001b[0m \u001b[0mram\u001b[0m \u001b[1;33m+\u001b[0m \u001b[1;34m'GB'\u001b[0m\u001b[1;33m)\u001b[0m\u001b[1;33m\u001b[0m\u001b[1;33m\u001b[0m\u001b[0m\n\u001b[0m",
      "\u001b[1;31mTypeError\u001b[0m: can only concatenate str (not \"int\") to str"
     ]
    }
   ],
   "source": [
    "print(brand + ' ' + ram + 'GB')"
   ]
  },
  {
   "cell_type": "markdown",
   "metadata": {
    "id": "R6NNDgIKdR8T"
   },
   "source": [
    "As we can see from the output, the TypeError is being raised which indicates that Python is not able to use Implicit Conversion in such conditions.\n",
    "\n",
    "But, we can do an explicit conversion for such cases."
   ]
  },
  {
   "cell_type": "code",
   "execution_count": 28,
   "metadata": {
    "colab": {
     "base_uri": "https://localhost:8080/",
     "height": 35
    },
    "id": "sSG3cdv0w630",
    "outputId": "4df36bfa-6f4c-4601-9123-bac029e87ce0"
   },
   "outputs": [
    {
     "data": {
      "text/plain": [
       "'Apple 4GB'"
      ]
     },
     "execution_count": 28,
     "metadata": {},
     "output_type": "execute_result"
    }
   ],
   "source": [
    "brand + ' ' + str(ram) + 'GB'"
   ]
  },
  {
   "cell_type": "code",
   "execution_count": 29,
   "metadata": {},
   "outputs": [
    {
     "ename": "TypeError",
     "evalue": "can only concatenate str (not \"int\") to str",
     "output_type": "error",
     "traceback": [
      "\u001b[1;31m---------------------------------------------------------------------------\u001b[0m",
      "\u001b[1;31mTypeError\u001b[0m                                 Traceback (most recent call last)",
      "\u001b[1;32m~\\AppData\\Local\\Temp\\ipykernel_16496\\2488526311.py\u001b[0m in \u001b[0;36m<module>\u001b[1;34m\u001b[0m\n\u001b[1;32m----> 1\u001b[1;33m \u001b[0mbrand\u001b[0m \u001b[1;33m+\u001b[0m \u001b[1;34m' '\u001b[0m \u001b[1;33m+\u001b[0m \u001b[0mram\u001b[0m \u001b[1;33m+\u001b[0m \u001b[1;34m'GB'\u001b[0m\u001b[1;33m\u001b[0m\u001b[1;33m\u001b[0m\u001b[0m\n\u001b[0m",
      "\u001b[1;31mTypeError\u001b[0m: can only concatenate str (not \"int\") to str"
     ]
    }
   ],
   "source": [
    "brand + ' ' + ram + 'GB'"
   ]
  },
  {
   "cell_type": "markdown",
   "metadata": {
    "id": "ucTw2ifG-glr"
   },
   "source": [
    "We have 4 records "
   ]
  }
 ],
 "metadata": {
  "colab": {
   "collapsed_sections": [
    "Zfms3DPGJbL-",
    "rhZuvfjORCEh",
    "rlcQJDLlFUuz",
    "kRjiRzYl9Xuy",
    "I3qwY_iVxkuX",
    "crVFfqHF_7Qj",
    "fRrO-BOOeUCE",
    "xEPReYdxm-E5"
   ],
   "name": "PythonForDataScience_intro.ipynb",
   "provenance": []
  },
  "kernelspec": {
   "display_name": "Python 3 (ipykernel)",
   "language": "python",
   "name": "python3"
  },
  "language_info": {
   "codemirror_mode": {
    "name": "ipython",
    "version": 3
   },
   "file_extension": ".py",
   "mimetype": "text/x-python",
   "name": "python",
   "nbconvert_exporter": "python",
   "pygments_lexer": "ipython3",
   "version": "3.9.13"
  },
  "vscode": {
   "interpreter": {
    "hash": "c261aea317cc0286b3b3261fbba9abdec21eaa57589985bb7a274bf54d6cc0a7"
   }
  }
 },
 "nbformat": 4,
 "nbformat_minor": 4
}
