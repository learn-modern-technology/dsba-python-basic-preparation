{
 "cells": [
  {
   "cell_type": "markdown",
   "id": "d277df29-c8b6-4da8-aed8-52bf1ed3cbb5",
   "metadata": {
    "id": "I3qwY_iVxkuX"
   },
   "source": [
    "## Conditional Statements"
   ]
  },
  {
   "cell_type": "markdown",
   "id": "d65d4098-7fce-4a74-a812-c801360836dd",
   "metadata": {
    "id": "cQo-OvN_ygtR"
   },
   "source": [
    "Suppose a customer is planning to buy a mobile phone but has a limited budget. Thus, his decision to buy is based on the condition that the price comes under his budget. Let's say his budget is $600.\n",
    "\n",
    "Q. Write a code in Python that prints whether the customer can buy the iPhone or not based on his budget."
   ]
  },
  {
   "cell_type": "markdown",
   "id": "fb8f6926-5248-4158-8ae9-fec2a8361f3e",
   "metadata": {
    "id": "qg2mxm6C2VEe"
   },
   "source": [
    "Sometimes we want to execute a block of code based on a particular condition.\n",
    "In these types of situations, we write conditional statements. \n",
    "\n",
    "The if-else statement in Python can be used for decision-making. The general syntax of an if-else statement is:\n",
    "\n",
    "```\n",
    "if (test expression):\n",
    "    Body of if\n",
    "else:\n",
    "    Body of else\n",
    "```\n",
    "\n",
    "Python is a tabbed based language, so we need to be VERY careful about tabs!!!\n"
   ]
  },
  {
   "cell_type": "code",
   "execution_count": 2,
   "id": "c5fa31ce-3ac9-4c39-a7ea-56b38741d8a2",
   "metadata": {},
   "outputs": [
    {
     "name": "stdin",
     "output_type": "stream",
     "text": [
      "Enter your budget(in dollars):  700\n"
     ]
    },
    {
     "name": "stdout",
     "output_type": "stream",
     "text": [
      "Congrats! You can buy the Iphone\n"
     ]
    }
   ],
   "source": [
    "# define the budget price\n",
    "budget = int(input('Enter your budget(in dollars): '))\n",
    "price = 500\n",
    "# if-else statement\n",
    "if price <= budget:\n",
    "  print('Congrats! You can buy the Iphone')\n",
    "else:\n",
    "  print('Sorry! The mobile price is more than your budget')"
   ]
  },
  {
   "cell_type": "markdown",
   "id": "a7d329db-d18a-4796-96dc-cce2623036f4",
   "metadata": {
    "id": "dUm645mL3xfe"
   },
   "source": [
    "If there are multiple conditions, we may use another conditional statement called if-elif-else statement. The general syntax of the if-elif-else statement is:\n",
    "\n",
    "```\n",
    "if (test expression):\n",
    "    Body of if\n",
    "elif (test expression):\n",
    "    Body of elif\n",
    "else: \n",
    "    Body of else\n",
    "```\n",
    "\n"
   ]
  },
  {
   "cell_type": "markdown",
   "id": "abbb7652-7763-4e53-8040-48290f1cb565",
   "metadata": {
    "id": "mBwaTNNJ97yi"
   },
   "source": [
    "Q. Suppose the price of the 32 GB, 64 GB, and 128 GB iPhones are \\$600, \\$700, and \\$900 respectively. Write a conditional statement to print the price based on the internal storage of the phone."
   ]
  },
  {
   "cell_type": "code",
   "execution_count": 3,
   "id": "1761cd4d-8a33-4d48-b5ec-c9afbcd7ae67",
   "metadata": {
    "colab": {
     "base_uri": "https://localhost:8080/"
    },
    "id": "QdJzMWMn_QTD",
    "outputId": "3e12980f-e011-4cbe-b6e3-66d7252651ee"
   },
   "outputs": [
    {
     "name": "stdin",
     "output_type": "stream",
     "text": [
      "Enter the memory:  32\n"
     ]
    },
    {
     "name": "stdout",
     "output_type": "stream",
     "text": [
      "The price of the phone is $600\n"
     ]
    }
   ],
   "source": [
    "Memory = int(input('Enter the memory: '))\n",
    "\n",
    "if Memory == 32:\n",
    "  print('The price of the phone is $600')\n",
    "elif Memory == 64:\n",
    "  print('The price of the phone is $700')\n",
    "elif Memory ==128:\n",
    "  print('The price of the phone is $900')\n",
    "else:\n",
    "  print('Please enter a valid memory requirement')"
   ]
  },
  {
   "cell_type": "code",
   "execution_count": null,
   "id": "45d0f44d-c03b-45ee-8d40-a5739d9d39d0",
   "metadata": {},
   "outputs": [],
   "source": []
  }
 ],
 "metadata": {
  "kernelspec": {
   "display_name": "Python 3 (ipykernel)",
   "language": "python",
   "name": "python3"
  },
  "language_info": {
   "codemirror_mode": {
    "name": "ipython",
    "version": 3
   },
   "file_extension": ".py",
   "mimetype": "text/x-python",
   "name": "python",
   "nbconvert_exporter": "python",
   "pygments_lexer": "ipython3",
   "version": "3.9.13"
  }
 },
 "nbformat": 4,
 "nbformat_minor": 5
}
