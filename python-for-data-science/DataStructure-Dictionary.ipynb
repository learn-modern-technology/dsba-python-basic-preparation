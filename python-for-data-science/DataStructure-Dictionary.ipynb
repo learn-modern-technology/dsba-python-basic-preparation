{
 "cells": [
  {
   "cell_type": "markdown",
   "id": "b655f7df-e703-40c1-b8ef-c0532fdbf98e",
   "metadata": {},
   "source": [
    "# Data Structures\n",
    "\n"
   ]
  },
  {
   "cell_type": "markdown",
   "id": "865f064e-f77f-46cd-ac39-a61a346032b6",
   "metadata": {},
   "source": [
    "**MobiWorld store has provided a snapshot of the details of mobile phones sold by them.**\n"
   ]
  },
  {
   "cell_type": "markdown",
   "id": "487dcada-e774-4761-8def-0d641b881b06",
   "metadata": {},
   "source": [
    "| Brand | RAM (in GB) | Memory (in GB) | Price (in dollars) |\n",
    "| --- | --- | --- | --- |\n",
    "| Apple | 16 | 128 | 900 |\n",
    "| Samsung | 12 | 128 | 899 |\n",
    "| LG | 8 | 64 | 600 |\n",
    "| Apple | 8 | 128 | 1000 |\n"
   ]
  },
  {
   "cell_type": "markdown",
   "id": "f83569fd-f492-4ee2-8731-ded4a5454209",
   "metadata": {},
   "source": [
    "## Dictionary"
   ]
  },
  {
   "cell_type": "markdown",
   "id": "b94900a0-6d57-49ec-ba39-ca5e6430305b",
   "metadata": {
    "id": "2sGaZr6V6xz-"
   },
   "source": [
    "Lists are great for storing data for a single attribute. But, we might want to add more information about the items in a variable. Suppose the store wants to store the attributes **brand, ram, storage,** and **price** in a single variable.\n",
    "\n",
    "Q. Store the attributes of an Apple iPhone (4GB, 128GB) of price of $800 in a single variable."
   ]
  },
  {
   "cell_type": "code",
   "execution_count": 2,
   "id": "e426b3b0-71ef-4271-bf68-faafa2ebff9b",
   "metadata": {},
   "outputs": [
    {
     "name": "stdout",
     "output_type": "stream",
     "text": [
      "{'Brand': 'Apple', 'RAM (in GB)': 16, 'Storage (in GB)': 128, 'Price (in $)': 800}\n"
     ]
    }
   ],
   "source": [
    "dict_attribute = {\n",
    "    'Brand': 'Apple',\n",
    "    'RAM (in GB)':16, \n",
    "    'Storage (in GB)':128, \n",
    "    'Price (in $)':800\n",
    "    }\n",
    "print(dict_attribute)"
   ]
  },
  {
   "cell_type": "code",
   "execution_count": 3,
   "id": "13f8ad24-276b-4310-ae09-df1f04b56f27",
   "metadata": {},
   "outputs": [
    {
     "data": {
      "text/plain": [
       "dict"
      ]
     },
     "execution_count": 3,
     "metadata": {},
     "output_type": "execute_result"
    }
   ],
   "source": [
    "type(dict_attribute)"
   ]
  },
  {
   "cell_type": "markdown",
   "id": "ba71375f-75df-4516-8569-7eca30cd8303",
   "metadata": {},
   "source": [
    "* The above data structure is called a dictionary. Dictionaries are used to store data values in key:value pairs. Dictionaries are written with curly brackets, and have keys and values"
   ]
  },
  {
   "cell_type": "markdown",
   "id": "0eb6de80-30d4-4669-8759-532552aaf099",
   "metadata": {},
   "source": [
    "Q. Extract the price from the dictionary attributes."
   ]
  },
  {
   "cell_type": "code",
   "execution_count": 7,
   "id": "a5498d7d-3089-4bb8-a3f1-cdd32f0de0b4",
   "metadata": {
    "colab": {
     "base_uri": "https://localhost:8080/"
    },
    "id": "CzHdoQlB6y3v",
    "outputId": "04e32d3b-3611-4730-de9c-817c12edee58"
   },
   "outputs": [
    {
     "name": "stdout",
     "output_type": "stream",
     "text": [
      "800\n"
     ]
    }
   ],
   "source": [
    "# extract information from dictionary\n",
    "print(dict_attribute['Price (in $)'])"
   ]
  },
  {
   "cell_type": "markdown",
   "id": "cbfc97c4-105e-4ce8-8c80-d54f5a50c580",
   "metadata": {
    "id": "6NIP3jxK6y74"
   },
   "source": [
    "* For the above pair, 'Price (in $)' is the key and 800 is the value. \n",
    "\n"
   ]
  },
  {
   "cell_type": "markdown",
   "id": "9370c386-76f4-46b7-a788-ed00a43c04d9",
   "metadata": {
    "id": "PCVO_dye6y_7"
   },
   "source": [
    "Dictionary items are ordered, changeable, and does not allow duplicates.\n",
    "\n",
    "Q. Change the price in attributes to 900"
   ]
  },
  {
   "cell_type": "code",
   "execution_count": 8,
   "id": "218fd406-dc62-45fc-b341-f290abf1f546",
   "metadata": {
    "colab": {
     "base_uri": "https://localhost:8080/"
    },
    "id": "TKkiBcId6zEe",
    "outputId": "d1147b12-0774-4bff-feac-c0d7adceb2a2"
   },
   "outputs": [
    {
     "name": "stdout",
     "output_type": "stream",
     "text": [
      "{'Brand': 'Apple', 'RAM (in GB)': 16, 'Storage (in GB)': 128, 'Price (in $)': 1050}\n"
     ]
    }
   ],
   "source": [
    "dict_attribute['Price (in $)'] = 1050\n",
    "print(dict_attribute)"
   ]
  },
  {
   "cell_type": "markdown",
   "id": "d109d49b-2900-45a2-871f-48f0b8750e74",
   "metadata": {
    "id": "45krqXL96zIl"
   },
   "source": [
    "Now, that you have learned how to create a dictionary, let's store data for multiple mobile phones in it. The values in a dictionary can also be a list to store information for more than one product.\n",
    "\n",
    "Q. Create a dictionary **products** for storing the attributes of 4 different mobile phones."
   ]
  },
  {
   "cell_type": "code",
   "execution_count": 9,
   "id": "f7ab6dd8-1106-403f-9d92-f123efe92ce6",
   "metadata": {},
   "outputs": [],
   "source": [
    "# create a list of brand\n",
    "brand_list = ['Apple', 'Samsung', 'LG', 'Apple']"
   ]
  },
  {
   "cell_type": "code",
   "execution_count": 10,
   "id": "78fd8c32-583e-4b44-a944-3bced468b934",
   "metadata": {},
   "outputs": [],
   "source": [
    "ram_list = [16, 12, 8, 8]\n",
    "storage_list = [128, 128, 64, 128]\n",
    "price_list = [900, 100, 200, 1000]"
   ]
  },
  {
   "cell_type": "code",
   "execution_count": 13,
   "id": "898cda14-f0f1-4e90-a213-331a065ad3c6",
   "metadata": {},
   "outputs": [
    {
     "name": "stdout",
     "output_type": "stream",
     "text": [
      "Brand List -  ['Apple', 'Samsung', 'LG', 'Apple']\n",
      "RAM List -  [16, 12, 8, 8]\n",
      "Storage List -  [128, 128, 64, 128]\n",
      "Price List -  [900, 100, 200, 1000]\n"
     ]
    }
   ],
   "source": [
    "print('Brand List - ',brand_list)\n",
    "print('RAM List - ',ram_list)\n",
    "print('Storage List - ',storage_list)\n",
    "print('Price List - ',price_list)"
   ]
  },
  {
   "cell_type": "code",
   "execution_count": 14,
   "id": "89ebb00d-ec58-473b-abc3-71fa40ef6642",
   "metadata": {},
   "outputs": [],
   "source": [
    "product_dict = {\n",
    "    'Brand': brand_list,\n",
    "    'RAM (in GB)': ram_list,\n",
    "    'Memory (in GB)': storage_list,\n",
    "    'Price (in $)': price_list\n",
    "}"
   ]
  },
  {
   "cell_type": "code",
   "execution_count": 15,
   "id": "f6c75b81-be70-447e-a1da-e99c10d2c747",
   "metadata": {},
   "outputs": [
    {
     "name": "stdout",
     "output_type": "stream",
     "text": [
      "{'Brand': ['Apple', 'Samsung', 'LG', 'Apple'], 'RAM (in GB)': [16, 12, 8, 8], 'Memory (in GB)': [128, 128, 64, 128], 'Price (in $)': [900, 100, 200, 1000]}\n"
     ]
    }
   ],
   "source": [
    "print(product_dict)"
   ]
  },
  {
   "cell_type": "code",
   "execution_count": 16,
   "id": "2123685e-18d5-43fe-9bcd-210f748f9db9",
   "metadata": {},
   "outputs": [
    {
     "data": {
      "text/plain": [
       "{'Brand': ['Apple', 'Samsung', 'LG', 'Apple'],\n",
       " 'RAM (in GB)': [16, 12, 8, 8],\n",
       " 'Memory (in GB)': [128, 128, 64, 128],\n",
       " 'Price (in $)': [900, 100, 200, 1000]}"
      ]
     },
     "execution_count": 16,
     "metadata": {},
     "output_type": "execute_result"
    }
   ],
   "source": [
    "product_dict"
   ]
  },
  {
   "cell_type": "markdown",
   "id": "7324fa18-d9fe-4e16-8d4a-6995220afd70",
   "metadata": {
    "id": "kKJpHALM7PXY"
   },
   "source": [
    "Using a dictionary, we have stored a lot of information in a single variable."
   ]
  },
  {
   "cell_type": "markdown",
   "id": "e63c5e75-d074-4a66-8bd1-939c54cb8ec5",
   "metadata": {
    "id": "hoJ8bnAC7O1L"
   },
   "source": [
    "Q. Extract the keys and values from the dictionary **products**"
   ]
  },
  {
   "cell_type": "markdown",
   "id": "703f3bfa-500f-463d-a232-1882eca0af4d",
   "metadata": {
    "id": "H49Xs3EL7V4T"
   },
   "source": [
    "* **keys()** and **values()** are **methods of a dictionary** to extract the lists of dictionary keys and dictionary values respectively."
   ]
  },
  {
   "cell_type": "code",
   "execution_count": 23,
   "id": "7d2fdfae-6ff3-41ad-8631-2582eb5fd8a8",
   "metadata": {},
   "outputs": [
    {
     "name": "stdout",
     "output_type": "stream",
     "text": [
      "dict_keys(['Brand', 'RAM (in GB)', 'Memory (in GB)', 'Price (in $)'])\n",
      "dict_keys(['Brand', 'RAM (in GB)', 'Memory (in GB)', 'Price (in $)'])\n"
     ]
    }
   ],
   "source": [
    "# Prints the keys of the Dictionaries\n",
    "print(product_dict.keys())\n",
    "\n",
    "product_keys = product_dict.keys()\n",
    "print(product_keys)"
   ]
  },
  {
   "cell_type": "code",
   "execution_count": 24,
   "id": "ac576e50-5dac-4638-8ae9-8710f93a319f",
   "metadata": {},
   "outputs": [
    {
     "name": "stdout",
     "output_type": "stream",
     "text": [
      "dict_values([['Apple', 'Samsung', 'LG', 'Apple'], [16, 12, 8, 8], [128, 128, 64, 128], [900, 100, 200, 1000]])\n"
     ]
    }
   ],
   "source": [
    "product_values = product_dict.values()\n",
    "print(product_values)"
   ]
  },
  {
   "cell_type": "code",
   "execution_count": 32,
   "id": "f9e14faf-6e1e-4d28-bd3b-1860849d5fd8",
   "metadata": {},
   "outputs": [
    {
     "data": {
      "text/plain": [
       "'Apple'"
      ]
     },
     "execution_count": 32,
     "metadata": {},
     "output_type": "execute_result"
    }
   ],
   "source": [
    "product_dict['Brand'][0]"
   ]
  },
  {
   "cell_type": "code",
   "execution_count": 33,
   "id": "94729083-e7a0-4675-8c19-4b329f313a8f",
   "metadata": {},
   "outputs": [
    {
     "data": {
      "text/plain": [
       "'Samsung'"
      ]
     },
     "execution_count": 33,
     "metadata": {},
     "output_type": "execute_result"
    }
   ],
   "source": [
    "product_dict['Brand'][1]"
   ]
  },
  {
   "cell_type": "code",
   "execution_count": 34,
   "id": "0d951432-c728-4ad4-96ca-e2f918363547",
   "metadata": {},
   "outputs": [
    {
     "data": {
      "text/plain": [
       "16"
      ]
     },
     "execution_count": 34,
     "metadata": {},
     "output_type": "execute_result"
    }
   ],
   "source": [
    "product_dict['RAM (in GB)'][0]"
   ]
  },
  {
   "cell_type": "code",
   "execution_count": 35,
   "id": "75b42265-780c-4e00-80fb-4feefda566c1",
   "metadata": {},
   "outputs": [
    {
     "data": {
      "text/plain": [
       "128"
      ]
     },
     "execution_count": 35,
     "metadata": {},
     "output_type": "execute_result"
    }
   ],
   "source": [
    "product_dict['Memory (in GB)'][0]"
   ]
  },
  {
   "cell_type": "code",
   "execution_count": 36,
   "id": "e0bd4ed6-a3a0-41ce-97cf-e94f86e03a53",
   "metadata": {},
   "outputs": [
    {
     "name": "stdout",
     "output_type": "stream",
     "text": [
      "{1: 'USA', 2: 'India', 3: 'Japan'}\n"
     ]
    }
   ],
   "source": [
    "dict_test={1:\"USA\", 2:\"India\", 3:\"China\"}\n",
    "dict_test.update({3:\"Japan\"})\n",
    "print(dict_test)"
   ]
  },
  {
   "cell_type": "code",
   "execution_count": 37,
   "id": "db667008-dd58-4ca1-9d4b-4168197ca45c",
   "metadata": {},
   "outputs": [
    {
     "name": "stdout",
     "output_type": "stream",
     "text": [
      "{1: 'USA', 3: 'Japan'}\n"
     ]
    }
   ],
   "source": [
    "dict_test.pop(2)\n",
    "print(dict_test)"
   ]
  },
  {
   "cell_type": "code",
   "execution_count": null,
   "id": "6712b179-5b6c-402b-84ce-9c2130b97a68",
   "metadata": {},
   "outputs": [],
   "source": []
  }
 ],
 "metadata": {
  "kernelspec": {
   "display_name": "Python 3 (ipykernel)",
   "language": "python",
   "name": "python3"
  },
  "language_info": {
   "codemirror_mode": {
    "name": "ipython",
    "version": 3
   },
   "file_extension": ".py",
   "mimetype": "text/x-python",
   "name": "python",
   "nbconvert_exporter": "python",
   "pygments_lexer": "ipython3",
   "version": "3.9.13"
  }
 },
 "nbformat": 4,
 "nbformat_minor": 5
}
