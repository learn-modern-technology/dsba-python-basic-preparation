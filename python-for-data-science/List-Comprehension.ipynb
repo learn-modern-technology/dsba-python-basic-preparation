{
 "cells": [
  {
   "cell_type": "markdown",
   "id": "24eaa80f-647b-40ba-9c9a-3cc5c94aeb2c",
   "metadata": {
    "id": "fRrO-BOOeUCE"
   },
   "source": [
    "## 1.5 List Comprehensions"
   ]
  },
  {
   "cell_type": "markdown",
   "id": "17e8a489-814a-4680-a9d0-768e5757ff1a",
   "metadata": {
    "id": "sBIOrOMSzXl9"
   },
   "source": [
    "MobiWorld has decided to provide an instant discount of 5% on all their products during the upcoming sale. We want to check the discounted prices of the products.\n",
    "\n",
    "We already have the `price_list` with us. Let's use it to get the discounted prices."
   ]
  },
  {
   "cell_type": "markdown",
   "id": "ca6c0300-96fa-4324-9794-38a27a547000",
   "metadata": {
    "id": "4q_35zrET3LJ"
   },
   "source": [
    "One way of creating a discounted price list is by looping over the elements of `price_list`, subtracting the discount from the price, and adding it one at a time to a new list `discounted_price_list`."
   ]
  },
  {
   "cell_type": "code",
   "execution_count": 2,
   "id": "9ebe87ec-f0e7-4c6b-afa9-f7385b00d065",
   "metadata": {
    "colab": {
     "base_uri": "https://localhost:8080/"
    },
    "id": "DahV8ZZcebRV",
    "outputId": "0ffbb97b-daf3-4d9c-dcce-61b57de2cacb"
   },
   "outputs": [
    {
     "name": "stdout",
     "output_type": "stream",
     "text": [
      "Price List: [900, 899, 600, 1000]\n",
      "[855.0, 854.05, 570.0, 950.0]\n"
     ]
    }
   ],
   "source": [
    "discounted_price_list=[]\n",
    "price_list = [900, 899, 600, 1000]\n",
    "print('Price List:', price_list)\n",
    "\n",
    "for x in price_list:\n",
    "  discounted_price = x - (x*(5/100))\n",
    "  discounted_price_list.append(discounted_price)\n",
    "\n",
    "print(discounted_price_list)"
   ]
  },
  {
   "cell_type": "markdown",
   "id": "8baa7720-357e-44cc-bf4c-c8bde52a64b3",
   "metadata": {
    "id": "F0iCJHIV1cx_"
   },
   "source": [
    "An equivalent way of obtaining the same result is by using **list comprehensions**.\n",
    "\n",
    "* List comprehension is a type of control structure for creating a list from an existing iterable (like tuples, strings, arrays, lists, etc).\n",
    "* They offer a shorter and more appealing syntax and are often faster than explicit for loops in creating a list from an existing iterable."
   ]
  },
  {
   "cell_type": "code",
   "execution_count": 4,
   "id": "a332dfae-3c9a-42e7-b22c-4cb3dcd174ad",
   "metadata": {
    "colab": {
     "base_uri": "https://localhost:8080/"
    },
    "id": "2rIb7zzcxTVI",
    "outputId": "4ba54a65-0ccc-437d-db82-125fe5df63e3"
   },
   "outputs": [
    {
     "name": "stdout",
     "output_type": "stream",
     "text": [
      "[855.0, 854.05, 570.0, 950.0]\n"
     ]
    }
   ],
   "source": [
    "discounted_price_list = [x - (x*(5/100)) for x in price_list]\n",
    "print(discounted_price_list)"
   ]
  },
  {
   "cell_type": "markdown",
   "id": "e77a13a8-688d-4c67-977a-0e4265e29119",
   "metadata": {
    "id": "0g10KPzb2hH1"
   },
   "source": [
    "Let's breakdown the syntax of the above list comprehension. There are three parts:\n",
    "1. `[ ]`: The outer square brackets tells that we are creating a list\n",
    "2. `x-(x*(5/100)`: The expression to evaluate or the computation to perform\n",
    "3. `for x in price_list`: The iterable from which elements (x) will be fetched"
   ]
  },
  {
   "cell_type": "markdown",
   "id": "17297d0e-3d71-400a-be2a-ee04a5dff06f",
   "metadata": {
    "id": "ePfWC4q44WBj"
   },
   "source": [
    "Customers often want to check whether any of the discounted prices during the sale are within their budget.\n",
    "\n",
    "Let's help the store display the same based on the budget mentioned by the customer by comparing the discounted price with the budget for each of the four mobile phone prices."
   ]
  },
  {
   "cell_type": "code",
   "execution_count": 5,
   "id": "d82949fc-17af-4d37-bf30-1f0e1c5870b3",
   "metadata": {
    "colab": {
     "base_uri": "https://localhost:8080/"
    },
    "id": "Pg0Ws8qz36Ce",
    "outputId": "ce7becf2-2ee2-4022-b627-523c1eb61569"
   },
   "outputs": [
    {
     "name": "stdin",
     "output_type": "stream",
     "text": [
      "Enter your budget(in dollars):  790\n"
     ]
    },
    {
     "name": "stdout",
     "output_type": "stream",
     "text": [
      "['No', 'No', 'Yes', 'No']\n"
     ]
    }
   ],
   "source": [
    "# asking for customer's budget\n",
    "budget = int(input('Enter your budget(in dollars): '))\n",
    "\n",
    "# creating a list of Yes/No based on budget and discounted prices\n",
    "within_budget = ['Yes' if x <= budget else 'No' for x in discounted_price_list]\n",
    "print(within_budget)"
   ]
  },
  {
   "cell_type": "markdown",
   "id": "55cd677c-4239-4ed7-921d-6b29f9fbc41c",
   "metadata": {
    "id": "lU5qWotf5EjH"
   },
   "source": [
    "To get more clarity on the way the list comprehension syntax is formulated, we can expand the list comprehension to the usual for and if statements and think of this in a reversed way."
   ]
  },
  {
   "cell_type": "code",
   "execution_count": 6,
   "id": "2e990821-6a78-4d72-8aa7-9c40a08b6450",
   "metadata": {
    "colab": {
     "base_uri": "https://localhost:8080/"
    },
    "id": "Q-bj32zx5h3z",
    "outputId": "a008b3ec-7264-41c7-dc41-c88875ce12e2"
   },
   "outputs": [
    {
     "name": "stdout",
     "output_type": "stream",
     "text": [
      "['No', 'No', 'Yes', 'No']\n"
     ]
    }
   ],
   "source": [
    "within_budget = []\n",
    "\n",
    "for x in discounted_price_list:\n",
    "  if x <= budget:\n",
    "    within_budget.append('Yes')\n",
    "  else:\n",
    "    within_budget.append('No')\n",
    "\n",
    "print(within_budget)"
   ]
  }
 ],
 "metadata": {
  "kernelspec": {
   "display_name": "Python 3 (ipykernel)",
   "language": "python",
   "name": "python3"
  },
  "language_info": {
   "codemirror_mode": {
    "name": "ipython",
    "version": 3
   },
   "file_extension": ".py",
   "mimetype": "text/x-python",
   "name": "python",
   "nbconvert_exporter": "python",
   "pygments_lexer": "ipython3",
   "version": "3.9.13"
  }
 },
 "nbformat": 4,
 "nbformat_minor": 5
}
