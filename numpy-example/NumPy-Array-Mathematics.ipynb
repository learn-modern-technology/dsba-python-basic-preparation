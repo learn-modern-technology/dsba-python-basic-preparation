{
 "cells": [
  {
   "cell_type": "code",
   "execution_count": 2,
   "id": "dfe7c1cf",
   "metadata": {},
   "outputs": [
    {
     "name": "stdout",
     "output_type": "stream",
     "text": [
      "result_sum 655\n"
     ]
    }
   ],
   "source": [
    "import numpy as np\n",
    "n1=np.array([10,20,30,40,50,60])\n",
    "n2=np.array([50,60,70,80,90,95])\n",
    "result_sum = np.sum([n1,n2])\n",
    "print(\"result_sum\",result_sum)"
   ]
  },
  {
   "cell_type": "code",
   "execution_count": 6,
   "id": "528fbbb4",
   "metadata": {},
   "outputs": [
    {
     "name": "stdout",
     "output_type": "stream",
     "text": [
      "result_sum_axis0 [ 60  80 100 120 140 155]\n"
     ]
    }
   ],
   "source": [
    "result_sum_axis0 = np.sum([n1,n2],axis=0)\n",
    "print(\"result_sum_axis0\",result_sum_axis0)"
   ]
  },
  {
   "cell_type": "code",
   "execution_count": 7,
   "id": "46301a40",
   "metadata": {},
   "outputs": [
    {
     "name": "stdout",
     "output_type": "stream",
     "text": [
      "result_sum_axis1 [210 445]\n"
     ]
    }
   ],
   "source": [
    "result_sum_axis1 = np.sum([n1,n2],axis=1)\n",
    "print(\"result_sum_axis1\",result_sum_axis1)"
   ]
  },
  {
   "cell_type": "code",
   "execution_count": 8,
   "id": "801da3ab",
   "metadata": {},
   "outputs": [
    {
     "name": "stdout",
     "output_type": "stream",
     "text": [
      "result_basic_sum [11 21 31 41 51 61]\n",
      "result_basic_sum [250 300 350 400 450 475]\n",
      "result_basic_sum [45 55 65 75 85 90]\n",
      "result_basic_sum [1. 2. 3. 4. 5. 6.]\n"
     ]
    }
   ],
   "source": [
    "import numpy as np\n",
    "n1=np.array([10,20,30,40,50,60])\n",
    "n2=np.array([50,60,70,80,90,95])\n",
    "result_basic_sum = n1 + 1\n",
    "result_basic_mul = n2 * 5\n",
    "result_basic_sub = n2 - 5\n",
    "result_basic_div = n1 / 10\n",
    "print(\"result_basic_sum\",result_basic_sum)\n",
    "print(\"result_basic_sum\",result_basic_mul)\n",
    "print(\"result_basic_sum\",result_basic_sub)\n",
    "print(\"result_basic_sum\",result_basic_div)"
   ]
  },
  {
   "cell_type": "code",
   "execution_count": 9,
   "id": "e1daa456",
   "metadata": {},
   "outputs": [
    {
     "name": "stdout",
     "output_type": "stream",
     "text": [
      "result_mean 74.16666666666667\n",
      "result_median 75.0\n",
      "result_std 15.920810978785667\n"
     ]
    }
   ],
   "source": [
    "import numpy as np\n",
    "n2=np.array([50,60,70,80,90,95])\n",
    "result_mean = np.mean(n2)\n",
    "result_median = np.median(n2)\n",
    "result_std = np.std(n2)\n",
    "print(\"result_mean\",result_mean)\n",
    "print(\"result_median\",result_median)\n",
    "print(\"result_std\",result_std)"
   ]
  },
  {
   "cell_type": "code",
   "execution_count": null,
   "id": "61678b3b",
   "metadata": {},
   "outputs": [],
   "source": []
  }
 ],
 "metadata": {
  "kernelspec": {
   "display_name": "Python 3 (ipykernel)",
   "language": "python",
   "name": "python3"
  },
  "language_info": {
   "codemirror_mode": {
    "name": "ipython",
    "version": 3
   },
   "file_extension": ".py",
   "mimetype": "text/x-python",
   "name": "python",
   "nbconvert_exporter": "python",
   "pygments_lexer": "ipython3",
   "version": "3.9.13"
  }
 },
 "nbformat": 4,
 "nbformat_minor": 5
}
