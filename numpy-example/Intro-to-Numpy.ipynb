{
 "cells": [
  {
   "cell_type": "code",
   "execution_count": 4,
   "id": "3bb77b72",
   "metadata": {},
   "outputs": [
    {
     "name": "stdout",
     "output_type": "stream",
     "text": [
      "[1 2 3 4 5 6 7 8 9]\n"
     ]
    },
    {
     "data": {
      "text/plain": [
       "array([1, 2, 3, 4, 5, 6, 7, 8, 9])"
      ]
     },
     "execution_count": 4,
     "metadata": {},
     "output_type": "execute_result"
    }
   ],
   "source": [
    "import numpy as np\n",
    "\n",
    "n1 = np.array([1,2,3,4,5,6,7,8,9])\n",
    "print(n1)\n",
    "n1"
   ]
  },
  {
   "cell_type": "code",
   "execution_count": 5,
   "id": "164c56c2",
   "metadata": {},
   "outputs": [
    {
     "data": {
      "text/plain": [
       "numpy.ndarray"
      ]
     },
     "execution_count": 5,
     "metadata": {},
     "output_type": "execute_result"
    }
   ],
   "source": [
    "type(n1)"
   ]
  },
  {
   "cell_type": "code",
   "execution_count": 12,
   "id": "b81a1d90",
   "metadata": {},
   "outputs": [
    {
     "name": "stdout",
     "output_type": "stream",
     "text": [
      "[[ 1  2  3  4  5]\n",
      " [10 20 30 40 50]]\n"
     ]
    },
    {
     "data": {
      "text/plain": [
       "numpy.ndarray"
      ]
     },
     "execution_count": 12,
     "metadata": {},
     "output_type": "execute_result"
    }
   ],
   "source": [
    "n2 = np.array([[1,2,3,4,5],[10,20,30,40,50]])\n",
    "print(n2)\n",
    "type(n2)"
   ]
  },
  {
   "cell_type": "code",
   "execution_count": 15,
   "id": "5d8fb822",
   "metadata": {},
   "outputs": [
    {
     "name": "stdout",
     "output_type": "stream",
     "text": [
      "[[0. 0. 0.]\n",
      " [0. 0. 0.]]\n"
     ]
    }
   ],
   "source": [
    "n3 = np.zeros((2,3))\n",
    "print(n3)"
   ]
  },
  {
   "cell_type": "code",
   "execution_count": 17,
   "id": "36b180a0",
   "metadata": {},
   "outputs": [
    {
     "name": "stdout",
     "output_type": "stream",
     "text": [
      "[[0. 0. 0. 0. 0.]\n",
      " [0. 0. 0. 0. 0.]\n",
      " [0. 0. 0. 0. 0.]\n",
      " [0. 0. 0. 0. 0.]\n",
      " [0. 0. 0. 0. 0.]\n",
      " [0. 0. 0. 0. 0.]]\n"
     ]
    }
   ],
   "source": [
    "n4 = np.zeros((6,5))\n",
    "print(n4)"
   ]
  },
  {
   "cell_type": "code",
   "execution_count": 19,
   "id": "38386562",
   "metadata": {},
   "outputs": [
    {
     "name": "stdout",
     "output_type": "stream",
     "text": [
      "[[29 29 29 29 29 29]\n",
      " [29 29 29 29 29 29]]\n"
     ]
    }
   ],
   "source": [
    "n5 = np.full((2,6),29)\n",
    "print(n5)"
   ]
  },
  {
   "cell_type": "code",
   "execution_count": 21,
   "id": "e025dbed",
   "metadata": {},
   "outputs": [
    {
     "name": "stdout",
     "output_type": "stream",
     "text": [
      "[[0 0 0 0 0 0]\n",
      " [0 0 0 0 0 0]]\n"
     ]
    }
   ],
   "source": [
    "n5b = np.full((2,6),0)\n",
    "print(n5b)"
   ]
  },
  {
   "cell_type": "code",
   "execution_count": 22,
   "id": "02d323f8",
   "metadata": {},
   "outputs": [
    {
     "name": "stdout",
     "output_type": "stream",
     "text": [
      "[10 11 12 13 14 15 16 17 18 19]\n"
     ]
    }
   ],
   "source": [
    "n6 = np.arange(10,20)\n",
    "print(n6)"
   ]
  },
  {
   "cell_type": "code",
   "execution_count": 23,
   "id": "263116a4",
   "metadata": {},
   "outputs": [
    {
     "name": "stdout",
     "output_type": "stream",
     "text": [
      "[10 15 20 25 30 35 40 45]\n"
     ]
    }
   ],
   "source": [
    "n7 = np.arange(10,50,5)   ## 5 is skip value\n",
    "print(n7)"
   ]
  },
  {
   "cell_type": "code",
   "execution_count": 28,
   "id": "60f6f95d",
   "metadata": {},
   "outputs": [
    {
     "name": "stdout",
     "output_type": "stream",
     "text": [
      "[74 28 11 62 41]\n"
     ]
    }
   ],
   "source": [
    "n8 = np.random.randint(10,100,5)  ## To get 5 random integers from 1 to 100\n",
    "print(n8)"
   ]
  },
  {
   "cell_type": "code",
   "execution_count": 32,
   "id": "8b526db2",
   "metadata": {},
   "outputs": [
    {
     "name": "stdout",
     "output_type": "stream",
     "text": [
      "[[10 20 30 40]\n",
      " [40 30 20 10]]\n",
      "(2, 4)\n",
      "[[10 20]\n",
      " [30 40]\n",
      " [40 30]\n",
      " [20 10]]\n",
      "(4, 2)\n"
     ]
    }
   ],
   "source": [
    "n9 = np.array([[10,20,30,40],[40,30,20,10]])\n",
    "print(n9)\n",
    "print(n9.shape)\n",
    "#n9.shape = (3,2)## cannot reshape array of size 8 into shape (3,2)\n",
    "#print(n9)\n",
    "#print(n9.shape)\n",
    "n9.shape = (4,2)\n",
    "print(n9)\n",
    "print(n9.shape)\n"
   ]
  },
  {
   "cell_type": "code",
   "execution_count": null,
   "id": "8392ac71",
   "metadata": {},
   "outputs": [],
   "source": []
  }
 ],
 "metadata": {
  "kernelspec": {
   "display_name": "Python 3 (ipykernel)",
   "language": "python",
   "name": "python3"
  },
  "language_info": {
   "codemirror_mode": {
    "name": "ipython",
    "version": 3
   },
   "file_extension": ".py",
   "mimetype": "text/x-python",
   "name": "python",
   "nbconvert_exporter": "python",
   "pygments_lexer": "ipython3",
   "version": "3.9.13"
  }
 },
 "nbformat": 4,
 "nbformat_minor": 5
}
