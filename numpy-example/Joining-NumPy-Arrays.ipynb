{
 "cells": [
  {
   "cell_type": "code",
   "execution_count": 8,
   "id": "daf983fc",
   "metadata": {},
   "outputs": [
    {
     "data": {
      "text/plain": [
       "array([[ 10,  12,  14,  16,  18,  20],\n",
       "       [100, 200, 300, 400, 500, 600]])"
      ]
     },
     "execution_count": 8,
     "metadata": {},
     "output_type": "execute_result"
    }
   ],
   "source": [
    "import numpy as np\n",
    "n1 = np.array([10,12,14,16,18,20])\n",
    "n2 = np.array([100,200,300,400,500,600])\n",
    "np.vstack((n1,n2))"
   ]
  },
  {
   "cell_type": "code",
   "execution_count": 15,
   "id": "d8c9d608",
   "metadata": {},
   "outputs": [
    {
     "name": "stdout",
     "output_type": "stream",
     "text": [
      "[[100 200 300 400 500 600]\n",
      " [ 10  12  14  16  18  20]]\n"
     ]
    }
   ],
   "source": [
    "np.vstack((n2,n1))\n",
    "vfinal = np.vstack((n2,n1))\n",
    "print(vfinal)"
   ]
  },
  {
   "cell_type": "code",
   "execution_count": 10,
   "id": "e2287778",
   "metadata": {},
   "outputs": [
    {
     "data": {
      "text/plain": [
       "array([ 10,  12,  14,  16,  18,  20, 100, 200, 300, 400, 500, 600])"
      ]
     },
     "execution_count": 10,
     "metadata": {},
     "output_type": "execute_result"
    }
   ],
   "source": [
    "import numpy as np\n",
    "n1 = np.array([10,12,14,16,18,20])\n",
    "n2 = np.array([100,200,300,400,500,600])\n",
    "np.hstack((n1,n2))"
   ]
  },
  {
   "cell_type": "code",
   "execution_count": 14,
   "id": "2060cd7c",
   "metadata": {},
   "outputs": [
    {
     "name": "stdout",
     "output_type": "stream",
     "text": [
      "[100 200 300 400 500 600  10  12  14  16  18  20]\n",
      "hfinal - [100 200 300 400 500 600  10  12  14  16  18  20]\n"
     ]
    }
   ],
   "source": [
    "np.hstack((n2,n1))\n",
    "print(np.hstack((n2,n1)))\n",
    "hfinal = np.hstack((n2,n1))\n",
    "print(\"hfinal -\",hfinal)"
   ]
  },
  {
   "cell_type": "code",
   "execution_count": 17,
   "id": "ab3cac20",
   "metadata": {},
   "outputs": [
    {
     "name": "stdout",
     "output_type": "stream",
     "text": [
      "[[ 10 100]\n",
      " [ 12 200]\n",
      " [ 14 300]\n",
      " [ 16 400]\n",
      " [ 18 500]\n",
      " [ 20 600]]\n"
     ]
    }
   ],
   "source": [
    "import numpy as np\n",
    "n1 = np.array([10,12,14,16,18,20])\n",
    "n2 = np.array([100,200,300,400,500,600])\n",
    "cfinal = np.column_stack((n1,n2))\n",
    "print(cfinal)"
   ]
  },
  {
   "cell_type": "code",
   "execution_count": null,
   "id": "747a3d63",
   "metadata": {},
   "outputs": [],
   "source": []
  }
 ],
 "metadata": {
  "kernelspec": {
   "display_name": "Python 3 (ipykernel)",
   "language": "python",
   "name": "python3"
  },
  "language_info": {
   "codemirror_mode": {
    "name": "ipython",
    "version": 3
   },
   "file_extension": ".py",
   "mimetype": "text/x-python",
   "name": "python",
   "nbconvert_exporter": "python",
   "pygments_lexer": "ipython3",
   "version": "3.9.13"
  }
 },
 "nbformat": 4,
 "nbformat_minor": 5
}
