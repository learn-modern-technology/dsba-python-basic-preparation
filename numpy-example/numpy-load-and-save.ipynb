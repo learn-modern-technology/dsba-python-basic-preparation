{
 "cells": [
  {
   "cell_type": "code",
   "execution_count": 1,
   "id": "02054da1",
   "metadata": {},
   "outputs": [],
   "source": [
    "import numpy as np\n",
    "n1=np.array([10,20,30,40,50,60])\n",
    "np.save('my_numpy',n1)"
   ]
  },
  {
   "cell_type": "code",
   "execution_count": 1,
   "id": "b0f79a22",
   "metadata": {},
   "outputs": [
    {
     "name": "stdout",
     "output_type": "stream",
     "text": [
      "[10 20 30 40 50 60]\n"
     ]
    }
   ],
   "source": [
    "import numpy as np\n",
    "n2=np.load('my_numpy.npy')\n",
    "print(n2)"
   ]
  },
  {
   "cell_type": "code",
   "execution_count": null,
   "id": "2e5322ab",
   "metadata": {},
   "outputs": [],
   "source": []
  }
 ],
 "metadata": {
  "kernelspec": {
   "display_name": "Python 3.10.5 64-bit",
   "language": "python",
   "name": "python3"
  },
  "language_info": {
   "codemirror_mode": {
    "name": "ipython",
    "version": 3
   },
   "file_extension": ".py",
   "mimetype": "text/x-python",
   "name": "python",
   "nbconvert_exporter": "python",
   "pygments_lexer": "ipython3",
   "version": "3.10.5"
  },
  "vscode": {
   "interpreter": {
    "hash": "e59e1cc31db9fab12357d479a0083146e6632a2ec9a920ad0cc1ad5f88c08e75"
   }
  }
 },
 "nbformat": 4,
 "nbformat_minor": 5
}
