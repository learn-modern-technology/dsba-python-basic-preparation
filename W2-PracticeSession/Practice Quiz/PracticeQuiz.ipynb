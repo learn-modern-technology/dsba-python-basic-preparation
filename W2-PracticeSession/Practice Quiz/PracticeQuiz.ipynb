{
 "cells": [
  {
   "cell_type": "code",
   "execution_count": 1,
   "id": "c939de00",
   "metadata": {},
   "outputs": [],
   "source": [
    "import numpy as np\n",
    "import pandas as pd\n",
    "import os"
   ]
  },
  {
   "cell_type": "code",
   "execution_count": 8,
   "id": "62c6f91f",
   "metadata": {},
   "outputs": [
    {
     "data": {
      "text/plain": [
       "array([101, 101, 101, 101, 101, 101, 101])"
      ]
     },
     "execution_count": 8,
     "metadata": {},
     "output_type": "execute_result"
    }
   ],
   "source": [
    "demo_array = np.arange(10,21)\n",
    "subset_demo_array = demo_array[0:7]\n",
    "subset_demo_array[:]= 101\n",
    "subset_demo_array"
   ]
  },
  {
   "cell_type": "code",
   "execution_count": 7,
   "id": "f9cf94c8",
   "metadata": {},
   "outputs": [
    {
     "data": {
      "text/plain": [
       "array([[35, 74],\n",
       "       [37, 37],\n",
       "       [39, 93]])"
      ]
     },
     "execution_count": 7,
     "metadata": {},
     "output_type": "execute_result"
    }
   ],
   "source": [
    "demo_matrix = np.array(([13,35,74,48], [23,37,37,38],[73,39,93,39]))\n",
    "demo_matrix[:, (1,2)]"
   ]
  },
  {
   "cell_type": "code",
   "execution_count": 2,
   "id": "07fbf680",
   "metadata": {},
   "outputs": [
    {
     "data": {
      "text/plain": [
       "'C:\\\\Users\\\\Sudhanshu\\\\gitrepository\\\\dsba-python-basic-preparation\\\\W2-PracticeSession\\\\Practice Quiz'"
      ]
     },
     "execution_count": 2,
     "metadata": {},
     "output_type": "execute_result"
    }
   ],
   "source": [
    "os.getcwd()"
   ]
  },
  {
   "cell_type": "code",
   "execution_count": 3,
   "id": "a37ee8d3",
   "metadata": {},
   "outputs": [],
   "source": [
    "df = pd.read_excel('GDP_Dataset.xlsx')"
   ]
  },
  {
   "cell_type": "code",
   "execution_count": 4,
   "id": "318b5bae",
   "metadata": {},
   "outputs": [
    {
     "name": "stdout",
     "output_type": "stream",
     "text": [
      "<class 'pandas.core.frame.DataFrame'>\n",
      "RangeIndex: 172 entries, 0 to 171\n",
      "Data columns (total 14 columns):\n",
      " #   Column                     Non-Null Count  Dtype  \n",
      "---  ------                     --------------  -----  \n",
      " 0   S.No                       172 non-null    int64  \n",
      " 1   Country                    172 non-null    object \n",
      " 2   Population                 172 non-null    int64  \n",
      " 3   Yearly_Change              172 non-null    float64\n",
      " 4   Land_Area                  172 non-null    int64  \n",
      " 5   Population_Density         172 non-null    float64\n",
      " 6   Migrants_Net               172 non-null    int64  \n",
      " 7   Median_Age                 172 non-null    int64  \n",
      " 8   Urban_Population           168 non-null    float64\n",
      " 9   World_Share_in_Population  172 non-null    float64\n",
      " 10  GDP                        172 non-null    float64\n",
      " 11  GDP_per_Capita             172 non-null    float64\n",
      " 12  Share_of_World_GDP         172 non-null    float64\n",
      " 13  Status                     172 non-null    object \n",
      "dtypes: float64(7), int64(5), object(2)\n",
      "memory usage: 18.9+ KB\n"
     ]
    }
   ],
   "source": [
    "df.info()"
   ]
  },
  {
   "cell_type": "code",
   "execution_count": 5,
   "id": "2f1e06a5",
   "metadata": {},
   "outputs": [
    {
     "data": {
      "text/html": [
       "<div>\n",
       "<style scoped>\n",
       "    .dataframe tbody tr th:only-of-type {\n",
       "        vertical-align: middle;\n",
       "    }\n",
       "\n",
       "    .dataframe tbody tr th {\n",
       "        vertical-align: top;\n",
       "    }\n",
       "\n",
       "    .dataframe thead th {\n",
       "        text-align: right;\n",
       "    }\n",
       "</style>\n",
       "<table border=\"1\" class=\"dataframe\">\n",
       "  <thead>\n",
       "    <tr style=\"text-align: right;\">\n",
       "      <th></th>\n",
       "      <th>S.No</th>\n",
       "      <th>Country</th>\n",
       "      <th>Population</th>\n",
       "      <th>Yearly_Change</th>\n",
       "      <th>Land_Area</th>\n",
       "      <th>Population_Density</th>\n",
       "      <th>Migrants_Net</th>\n",
       "      <th>Median_Age</th>\n",
       "      <th>Urban_Population</th>\n",
       "      <th>World_Share_in_Population</th>\n",
       "      <th>GDP</th>\n",
       "      <th>GDP_per_Capita</th>\n",
       "      <th>Share_of_World_GDP</th>\n",
       "      <th>Status</th>\n",
       "    </tr>\n",
       "  </thead>\n",
       "  <tbody>\n",
       "    <tr>\n",
       "      <th>0</th>\n",
       "      <td>1</td>\n",
       "      <td>China</td>\n",
       "      <td>1421021791</td>\n",
       "      <td>0.39</td>\n",
       "      <td>9388211</td>\n",
       "      <td>151.362362</td>\n",
       "      <td>-348399</td>\n",
       "      <td>38</td>\n",
       "      <td>61.0</td>\n",
       "      <td>18.47</td>\n",
       "      <td>12238.0</td>\n",
       "      <td>8.612113</td>\n",
       "      <td>15.12</td>\n",
       "      <td>Developing</td>\n",
       "    </tr>\n",
       "    <tr>\n",
       "      <th>1</th>\n",
       "      <td>2</td>\n",
       "      <td>India</td>\n",
       "      <td>1338676785</td>\n",
       "      <td>0.99</td>\n",
       "      <td>2973190</td>\n",
       "      <td>450.249323</td>\n",
       "      <td>-532687</td>\n",
       "      <td>28</td>\n",
       "      <td>35.0</td>\n",
       "      <td>17.70</td>\n",
       "      <td>2651.0</td>\n",
       "      <td>1.980314</td>\n",
       "      <td>3.28</td>\n",
       "      <td>Developing</td>\n",
       "    </tr>\n",
       "    <tr>\n",
       "      <th>2</th>\n",
       "      <td>3</td>\n",
       "      <td>United States</td>\n",
       "      <td>325084756</td>\n",
       "      <td>0.59</td>\n",
       "      <td>9147420</td>\n",
       "      <td>35.538409</td>\n",
       "      <td>954806</td>\n",
       "      <td>38</td>\n",
       "      <td>83.0</td>\n",
       "      <td>4.25</td>\n",
       "      <td>19485.0</td>\n",
       "      <td>59.938215</td>\n",
       "      <td>24.08</td>\n",
       "      <td>Developed</td>\n",
       "    </tr>\n",
       "    <tr>\n",
       "      <th>3</th>\n",
       "      <td>4</td>\n",
       "      <td>Indonesia</td>\n",
       "      <td>264650963</td>\n",
       "      <td>1.07</td>\n",
       "      <td>1811570</td>\n",
       "      <td>146.089283</td>\n",
       "      <td>-98955</td>\n",
       "      <td>30</td>\n",
       "      <td>56.0</td>\n",
       "      <td>3.51</td>\n",
       "      <td>1015.0</td>\n",
       "      <td>3.835240</td>\n",
       "      <td>1.25</td>\n",
       "      <td>Developing</td>\n",
       "    </tr>\n",
       "    <tr>\n",
       "      <th>4</th>\n",
       "      <td>5</td>\n",
       "      <td>Pakistan</td>\n",
       "      <td>207906209</td>\n",
       "      <td>2.00</td>\n",
       "      <td>770880</td>\n",
       "      <td>269.699835</td>\n",
       "      <td>-233379</td>\n",
       "      <td>23</td>\n",
       "      <td>35.0</td>\n",
       "      <td>2.83</td>\n",
       "      <td>305.0</td>\n",
       "      <td>1.467008</td>\n",
       "      <td>0.38</td>\n",
       "      <td>Developing</td>\n",
       "    </tr>\n",
       "  </tbody>\n",
       "</table>\n",
       "</div>"
      ],
      "text/plain": [
       "   S.No        Country  Population  Yearly_Change  Land_Area  \\\n",
       "0     1          China  1421021791           0.39    9388211   \n",
       "1     2          India  1338676785           0.99    2973190   \n",
       "2     3  United States   325084756           0.59    9147420   \n",
       "3     4      Indonesia   264650963           1.07    1811570   \n",
       "4     5       Pakistan   207906209           2.00     770880   \n",
       "\n",
       "   Population_Density  Migrants_Net  Median_Age  Urban_Population  \\\n",
       "0          151.362362       -348399          38              61.0   \n",
       "1          450.249323       -532687          28              35.0   \n",
       "2           35.538409        954806          38              83.0   \n",
       "3          146.089283        -98955          30              56.0   \n",
       "4          269.699835       -233379          23              35.0   \n",
       "\n",
       "   World_Share_in_Population      GDP  GDP_per_Capita  Share_of_World_GDP  \\\n",
       "0                      18.47  12238.0        8.612113               15.12   \n",
       "1                      17.70   2651.0        1.980314                3.28   \n",
       "2                       4.25  19485.0       59.938215               24.08   \n",
       "3                       3.51   1015.0        3.835240                1.25   \n",
       "4                       2.83    305.0        1.467008                0.38   \n",
       "\n",
       "       Status  \n",
       "0  Developing  \n",
       "1  Developing  \n",
       "2   Developed  \n",
       "3  Developing  \n",
       "4  Developing  "
      ]
     },
     "execution_count": 5,
     "metadata": {},
     "output_type": "execute_result"
    }
   ],
   "source": [
    "df.head()"
   ]
  },
  {
   "cell_type": "code",
   "execution_count": 9,
   "id": "95861630",
   "metadata": {},
   "outputs": [
    {
     "data": {
      "text/plain": [
       "Status\n",
       "Developed      34\n",
       "Developing    138\n",
       "Name: Country, dtype: int64"
      ]
     },
     "execution_count": 9,
     "metadata": {},
     "output_type": "execute_result"
    }
   ],
   "source": [
    "df.groupby(\"Status\")[\"Country\"].count()"
   ]
  },
  {
   "cell_type": "code",
   "execution_count": 10,
   "id": "c7f22375",
   "metadata": {},
   "outputs": [
    {
     "data": {
      "text/plain": [
       "7305446192"
      ]
     },
     "execution_count": 10,
     "metadata": {},
     "output_type": "execute_result"
    }
   ],
   "source": [
    "df[\"Population\"].sum()"
   ]
  },
  {
   "cell_type": "code",
   "execution_count": 19,
   "id": "4879496c",
   "metadata": {},
   "outputs": [
    {
     "data": {
      "text/html": [
       "<div>\n",
       "<style scoped>\n",
       "    .dataframe tbody tr th:only-of-type {\n",
       "        vertical-align: middle;\n",
       "    }\n",
       "\n",
       "    .dataframe tbody tr th {\n",
       "        vertical-align: top;\n",
       "    }\n",
       "\n",
       "    .dataframe thead th {\n",
       "        text-align: right;\n",
       "    }\n",
       "</style>\n",
       "<table border=\"1\" class=\"dataframe\">\n",
       "  <thead>\n",
       "    <tr style=\"text-align: right;\">\n",
       "      <th></th>\n",
       "      <th>Country</th>\n",
       "      <th>Median_Age</th>\n",
       "    </tr>\n",
       "  </thead>\n",
       "  <tbody>\n",
       "    <tr>\n",
       "      <th>10</th>\n",
       "      <td>Japan</td>\n",
       "      <td>48</td>\n",
       "    </tr>\n",
       "    <tr>\n",
       "      <th>22</th>\n",
       "      <td>Italy</td>\n",
       "      <td>47</td>\n",
       "    </tr>\n",
       "    <tr>\n",
       "      <th>82</th>\n",
       "      <td>Portugal</td>\n",
       "      <td>46</td>\n",
       "    </tr>\n",
       "    <tr>\n",
       "      <th>18</th>\n",
       "      <td>Germany</td>\n",
       "      <td>46</td>\n",
       "    </tr>\n",
       "    <tr>\n",
       "      <th>80</th>\n",
       "      <td>Greece</td>\n",
       "      <td>46</td>\n",
       "    </tr>\n",
       "  </tbody>\n",
       "</table>\n",
       "</div>"
      ],
      "text/plain": [
       "     Country  Median_Age\n",
       "10     Japan          48\n",
       "22     Italy          47\n",
       "82  Portugal          46\n",
       "18   Germany          46\n",
       "80    Greece          46"
      ]
     },
     "execution_count": 19,
     "metadata": {},
     "output_type": "execute_result"
    }
   ],
   "source": [
    "df[[\"Country\",\"Median_Age\"]].sort_values(by=\"Median_Age\",ascending=False).head()"
   ]
  },
  {
   "cell_type": "code",
   "execution_count": 22,
   "id": "ebe33ec3",
   "metadata": {},
   "outputs": [
    {
     "data": {
      "text/plain": [
       "10"
      ]
     },
     "execution_count": 22,
     "metadata": {},
     "output_type": "execute_result"
    }
   ],
   "source": [
    "df[df[\"Urban_Population\"]>90][\"Country\"].count()"
   ]
  },
  {
   "cell_type": "code",
   "execution_count": 24,
   "id": "04fa095a",
   "metadata": {},
   "outputs": [
    {
     "data": {
      "text/html": [
       "<div>\n",
       "<style scoped>\n",
       "    .dataframe tbody tr th:only-of-type {\n",
       "        vertical-align: middle;\n",
       "    }\n",
       "\n",
       "    .dataframe tbody tr th {\n",
       "        vertical-align: top;\n",
       "    }\n",
       "\n",
       "    .dataframe thead th {\n",
       "        text-align: right;\n",
       "    }\n",
       "</style>\n",
       "<table border=\"1\" class=\"dataframe\">\n",
       "  <thead>\n",
       "    <tr style=\"text-align: right;\">\n",
       "      <th></th>\n",
       "      <th>Country</th>\n",
       "      <th>Population_Density</th>\n",
       "    </tr>\n",
       "  </thead>\n",
       "  <tbody>\n",
       "    <tr>\n",
       "      <th>156</th>\n",
       "      <td>Macao</td>\n",
       "      <td>11146.433333</td>\n",
       "    </tr>\n",
       "    <tr>\n",
       "      <th>107</th>\n",
       "      <td>Singapore</td>\n",
       "      <td>7071.362857</td>\n",
       "    </tr>\n",
       "    <tr>\n",
       "      <th>97</th>\n",
       "      <td>Hong Kong</td>\n",
       "      <td>6083.929524</td>\n",
       "    </tr>\n",
       "  </tbody>\n",
       "</table>\n",
       "</div>"
      ],
      "text/plain": [
       "       Country  Population_Density\n",
       "156      Macao        11146.433333\n",
       "107  Singapore         7071.362857\n",
       "97   Hong Kong         6083.929524"
      ]
     },
     "execution_count": 24,
     "metadata": {},
     "output_type": "execute_result"
    }
   ],
   "source": [
    "df[[\"Country\",\"Population_Density\"]].sort_values(by=\"Population_Density\", ascending=False).head(3)"
   ]
  },
  {
   "cell_type": "code",
   "execution_count": 28,
   "id": "c5565481",
   "metadata": {},
   "outputs": [
    {
     "data": {
      "text/plain": [
       "1    2651.0\n",
       "Name: GDP, dtype: float64"
      ]
     },
     "execution_count": 28,
     "metadata": {},
     "output_type": "execute_result"
    }
   ],
   "source": [
    "df[df[\"Country\"]==\"India\"][\"GDP\"]"
   ]
  },
  {
   "cell_type": "code",
   "execution_count": 32,
   "id": "9ea469e6",
   "metadata": {},
   "outputs": [
    {
     "data": {
      "text/html": [
       "<div>\n",
       "<style scoped>\n",
       "    .dataframe tbody tr th:only-of-type {\n",
       "        vertical-align: middle;\n",
       "    }\n",
       "\n",
       "    .dataframe tbody tr th {\n",
       "        vertical-align: top;\n",
       "    }\n",
       "\n",
       "    .dataframe thead th {\n",
       "        text-align: right;\n",
       "    }\n",
       "</style>\n",
       "<table border=\"1\" class=\"dataframe\">\n",
       "  <thead>\n",
       "    <tr style=\"text-align: right;\">\n",
       "      <th></th>\n",
       "      <th>Country</th>\n",
       "      <th>GDP</th>\n",
       "    </tr>\n",
       "  </thead>\n",
       "  <tbody>\n",
       "    <tr>\n",
       "      <th>2</th>\n",
       "      <td>United States</td>\n",
       "      <td>19485.000</td>\n",
       "    </tr>\n",
       "    <tr>\n",
       "      <th>0</th>\n",
       "      <td>China</td>\n",
       "      <td>12238.000</td>\n",
       "    </tr>\n",
       "    <tr>\n",
       "      <th>10</th>\n",
       "      <td>Japan</td>\n",
       "      <td>4872.000</td>\n",
       "    </tr>\n",
       "    <tr>\n",
       "      <th>18</th>\n",
       "      <td>Germany</td>\n",
       "      <td>3693.000</td>\n",
       "    </tr>\n",
       "    <tr>\n",
       "      <th>1</th>\n",
       "      <td>India</td>\n",
       "      <td>2651.000</td>\n",
       "    </tr>\n",
       "    <tr>\n",
       "      <th>...</th>\n",
       "      <td>...</td>\n",
       "      <td>...</td>\n",
       "    </tr>\n",
       "    <tr>\n",
       "      <th>155</th>\n",
       "      <td>Solomon Islands</td>\n",
       "      <td>1.300</td>\n",
       "    </tr>\n",
       "    <tr>\n",
       "      <th>152</th>\n",
       "      <td>Comoros</td>\n",
       "      <td>1.070</td>\n",
       "    </tr>\n",
       "    <tr>\n",
       "      <th>167</th>\n",
       "      <td>Vanuatu</td>\n",
       "      <td>0.863</td>\n",
       "    </tr>\n",
       "    <tr>\n",
       "      <th>170</th>\n",
       "      <td>Samoa</td>\n",
       "      <td>0.841</td>\n",
       "    </tr>\n",
       "    <tr>\n",
       "      <th>169</th>\n",
       "      <td>Sao Tome &amp; Principe</td>\n",
       "      <td>0.393</td>\n",
       "    </tr>\n",
       "  </tbody>\n",
       "</table>\n",
       "<p>172 rows × 2 columns</p>\n",
       "</div>"
      ],
      "text/plain": [
       "                 Country        GDP\n",
       "2          United States  19485.000\n",
       "0                  China  12238.000\n",
       "10                 Japan   4872.000\n",
       "18               Germany   3693.000\n",
       "1                  India   2651.000\n",
       "..                   ...        ...\n",
       "155      Solomon Islands      1.300\n",
       "152              Comoros      1.070\n",
       "167              Vanuatu      0.863\n",
       "170                Samoa      0.841\n",
       "169  Sao Tome & Principe      0.393\n",
       "\n",
       "[172 rows x 2 columns]"
      ]
     },
     "execution_count": 32,
     "metadata": {},
     "output_type": "execute_result"
    }
   ],
   "source": [
    "df[[\"Country\",\"GDP\"]].sort_values(\"GDP\",ascending=False)"
   ]
  },
  {
   "cell_type": "code",
   "execution_count": 34,
   "id": "3030bc78",
   "metadata": {},
   "outputs": [
    {
     "data": {
      "text/plain": [
       "7    1.565578\n",
       "Name: GDP_per_Capita, dtype: float64"
      ]
     },
     "execution_count": 34,
     "metadata": {},
     "output_type": "execute_result"
    }
   ],
   "source": [
    "df[(df[\"GDP\"]==250)&(df[\"Population\"]>100000000)][\"GDP_per_Capita\"]"
   ]
  },
  {
   "cell_type": "code",
   "execution_count": 35,
   "id": "6d763b22",
   "metadata": {},
   "outputs": [],
   "source": [
    "path = \"C:\\\\Users\\\\Sudhanshu\\\\gitrepository\\\\dsba-python-basic-preparation\\\\W2-PracticeSession\\\\Practice Quiz\\\\Data Dictionary.xlsx\""
   ]
  },
  {
   "cell_type": "code",
   "execution_count": 36,
   "id": "2ffcc54c",
   "metadata": {},
   "outputs": [],
   "source": [
    "df_dd = pd.read_excel(path)"
   ]
  },
  {
   "cell_type": "code",
   "execution_count": 38,
   "id": "684975f3",
   "metadata": {},
   "outputs": [
    {
     "data": {
      "text/html": [
       "<div>\n",
       "<style scoped>\n",
       "    .dataframe tbody tr th:only-of-type {\n",
       "        vertical-align: middle;\n",
       "    }\n",
       "\n",
       "    .dataframe tbody tr th {\n",
       "        vertical-align: top;\n",
       "    }\n",
       "\n",
       "    .dataframe thead th {\n",
       "        text-align: right;\n",
       "    }\n",
       "</style>\n",
       "<table border=\"1\" class=\"dataframe\">\n",
       "  <thead>\n",
       "    <tr style=\"text-align: right;\">\n",
       "      <th></th>\n",
       "      <th>Label</th>\n",
       "      <th>Description</th>\n",
       "    </tr>\n",
       "  </thead>\n",
       "  <tbody>\n",
       "    <tr>\n",
       "      <th>0</th>\n",
       "      <td>Country</td>\n",
       "      <td>Country Name</td>\n",
       "    </tr>\n",
       "    <tr>\n",
       "      <th>1</th>\n",
       "      <td>Population</td>\n",
       "      <td>Population of the country</td>\n",
       "    </tr>\n",
       "    <tr>\n",
       "      <th>2</th>\n",
       "      <td>Yearly_Change</td>\n",
       "      <td>Population  change wrt to last year in %</td>\n",
       "    </tr>\n",
       "    <tr>\n",
       "      <th>3</th>\n",
       "      <td>Land_Area</td>\n",
       "      <td>Total Land area of the country in Km2</td>\n",
       "    </tr>\n",
       "    <tr>\n",
       "      <th>4</th>\n",
       "      <td>Population_Density</td>\n",
       "      <td>Population Density of the country in (P/Km2)</td>\n",
       "    </tr>\n",
       "  </tbody>\n",
       "</table>\n",
       "</div>"
      ],
      "text/plain": [
       "                Label                                   Description\n",
       "0             Country                                  Country Name\n",
       "1          Population                     Population of the country\n",
       "2       Yearly_Change      Population  change wrt to last year in %\n",
       "3           Land_Area         Total Land area of the country in Km2\n",
       "4  Population_Density  Population Density of the country in (P/Km2)"
      ]
     },
     "execution_count": 38,
     "metadata": {},
     "output_type": "execute_result"
    }
   ],
   "source": [
    "df_dd.head()"
   ]
  },
  {
   "cell_type": "code",
   "execution_count": null,
   "id": "89d2c987",
   "metadata": {},
   "outputs": [],
   "source": []
  }
 ],
 "metadata": {
  "kernelspec": {
   "display_name": "Python 3 (ipykernel)",
   "language": "python",
   "name": "python3"
  },
  "language_info": {
   "codemirror_mode": {
    "name": "ipython",
    "version": 3
   },
   "file_extension": ".py",
   "mimetype": "text/x-python",
   "name": "python",
   "nbconvert_exporter": "python",
   "pygments_lexer": "ipython3",
   "version": "3.9.13"
  }
 },
 "nbformat": 4,
 "nbformat_minor": 5
}
