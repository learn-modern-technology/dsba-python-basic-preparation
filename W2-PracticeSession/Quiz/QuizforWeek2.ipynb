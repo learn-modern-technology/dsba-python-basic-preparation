{
 "cells": [
  {
   "cell_type": "code",
   "execution_count": 1,
   "id": "6251d42e",
   "metadata": {},
   "outputs": [],
   "source": [
    "import numpy as np"
   ]
  },
  {
   "cell_type": "code",
   "execution_count": 2,
   "id": "6faf66f7",
   "metadata": {},
   "outputs": [],
   "source": [
    "import pandas as pd"
   ]
  },
  {
   "cell_type": "code",
   "execution_count": 3,
   "id": "48714708",
   "metadata": {},
   "outputs": [],
   "source": [
    "import os"
   ]
  },
  {
   "cell_type": "code",
   "execution_count": 4,
   "id": "f2cfe7e0",
   "metadata": {},
   "outputs": [
    {
     "data": {
      "text/plain": [
       "'C:\\\\Users\\\\Sudhanshu\\\\gitrepository\\\\dsba-python-basic-preparation\\\\W2-PracticeSession\\\\Quiz'"
      ]
     },
     "execution_count": 4,
     "metadata": {},
     "output_type": "execute_result"
    }
   ],
   "source": [
    "os.getcwd()"
   ]
  },
  {
   "cell_type": "code",
   "execution_count": 10,
   "id": "2cbccded",
   "metadata": {},
   "outputs": [
    {
     "name": "stdout",
     "output_type": "stream",
     "text": [
      "['1' 'Michael' '2' 'Rocky' '3' 'James' '4' 'Johnus']\n",
      "[1 2 3 4]\n",
      "<class 'numpy.ndarray'>\n",
      "<class 'numpy.ndarray'>\n"
     ]
    }
   ],
   "source": [
    "Names=[1,\"Michael\", 2 , \"Rocky\",3, \"James\", \"4\", \"Johnus\"]\n",
    "Age = [1,2,3,4]\n",
    "np_arr_Names = np.array(Names)\n",
    "np_arr_Age = np.array(Age)\n",
    "print(np_arr_Names)\n",
    "print(np_arr_Age)\n",
    "print(type(np_arr_Names))\n",
    "print(type(np_arr_Age))"
   ]
  },
  {
   "cell_type": "code",
   "execution_count": 11,
   "id": "d5cfaf6e",
   "metadata": {},
   "outputs": [
    {
     "name": "stdout",
     "output_type": "stream",
     "text": [
      "[0]\n",
      "[0.         0.02040816 0.04081633 0.06122449 0.08163265 0.10204082\n",
      " 0.12244898 0.14285714 0.16326531 0.18367347 0.20408163 0.2244898\n",
      " 0.24489796 0.26530612 0.28571429 0.30612245 0.32653061 0.34693878\n",
      " 0.36734694 0.3877551  0.40816327 0.42857143 0.44897959 0.46938776\n",
      " 0.48979592 0.51020408 0.53061224 0.55102041 0.57142857 0.59183673\n",
      " 0.6122449  0.63265306 0.65306122 0.67346939 0.69387755 0.71428571\n",
      " 0.73469388 0.75510204 0.7755102  0.79591837 0.81632653 0.83673469\n",
      " 0.85714286 0.87755102 0.89795918 0.91836735 0.93877551 0.95918367\n",
      " 0.97959184 1.        ]\n"
     ]
    }
   ],
   "source": [
    "arr1 = np.arange(0,1)\n",
    "print(arr1)\n",
    "\n",
    "arr2 = np.linspace(0,1)\n",
    "print(arr2)"
   ]
  },
  {
   "cell_type": "code",
   "execution_count": 13,
   "id": "a3c9e55a",
   "metadata": {},
   "outputs": [
    {
     "name": "stdout",
     "output_type": "stream",
     "text": [
      "[13 14 15 16 17 18 19 20 21 22 23 24 25 26 27 28 29 30]\n"
     ]
    }
   ],
   "source": [
    "np_array=np.arange(13,31)\n",
    "print(np_array)"
   ]
  },
  {
   "cell_type": "code",
   "execution_count": 16,
   "id": "773559de",
   "metadata": {},
   "outputs": [
    {
     "name": "stdout",
     "output_type": "stream",
     "text": [
      "[[13 14 15 16 17 18]\n",
      " [19 20 21 22 23 24]\n",
      " [25 26 27 28 29 30]]\n"
     ]
    },
    {
     "data": {
      "text/plain": [
       "array([[13, 14, 15, 16, 17, 18],\n",
       "       [19, 20, 21, 22, 23, 24],\n",
       "       [25, 26, 27, 28, 29, 30]])"
      ]
     },
     "execution_count": 16,
     "metadata": {},
     "output_type": "execute_result"
    }
   ],
   "source": [
    "np_array_reshape=np_array.reshape([3,6])\n",
    "print(np_array_reshape)\n",
    "np_array_reshape"
   ]
  },
  {
   "cell_type": "code",
   "execution_count": 24,
   "id": "d44af1ec",
   "metadata": {},
   "outputs": [
    {
     "name": "stdout",
     "output_type": "stream",
     "text": [
      "[[0.63210023 0.99338139 0.16793459]\n",
      " [0.67031607 0.8320512  0.51020623]\n",
      " [0.55752543 0.29201488 0.19119979]]\n",
      "[[0.24025984 0.13609811 0.82123344]\n",
      " [0.86363248 0.07512739 0.40111316]\n",
      " [0.00925655 0.33532159 0.87477532]]\n",
      "[[1.01133923 0.21696989 1.06446523]\n",
      " [0.88435922 0.32482175 1.33054848]\n",
      " [0.38791436 0.16192989 0.7422464 ]]\n"
     ]
    }
   ],
   "source": [
    "matA=[[0.63210023, 0.99338139, 0.16793459],\n",
    " [0.67031607, 0.8320512, 0.51020623],\n",
    " [0.55752543, 0.29201488, 0.19119979]]\n",
    "\n",
    "matB=[[0.24025984, 0.13609811, 0.82123344],\n",
    " [0.86363248, 0.07512739, 0.40111316],\n",
    " [0.00925655, 0.33532159, 0.87477532]]\n",
    "\n",
    "np_matA=np.array(matA)\n",
    "np_matB=np.array(matB)\n",
    "print(np_matA)\n",
    "print(np_matB)\n",
    "\n",
    "matC=np_matA@np_matB\n",
    "print(matC)"
   ]
  },
  {
   "cell_type": "code",
   "execution_count": 25,
   "id": "aed194ea",
   "metadata": {},
   "outputs": [
    {
     "name": "stdout",
     "output_type": "stream",
     "text": [
      "0.1619298906659666\n",
      "1.3305484762814164\n"
     ]
    }
   ],
   "source": [
    "print(matC.min())\n",
    "print(matC.max())"
   ]
  },
  {
   "cell_type": "code",
   "execution_count": 35,
   "id": "2704ecef",
   "metadata": {},
   "outputs": [],
   "source": [
    "df = pd.read_csv('University.csv',dayfirst=True)"
   ]
  },
  {
   "cell_type": "code",
   "execution_count": 36,
   "id": "5bdab829",
   "metadata": {},
   "outputs": [
    {
     "data": {
      "text/html": [
       "<div>\n",
       "<style scoped>\n",
       "    .dataframe tbody tr th:only-of-type {\n",
       "        vertical-align: middle;\n",
       "    }\n",
       "\n",
       "    .dataframe tbody tr th {\n",
       "        vertical-align: top;\n",
       "    }\n",
       "\n",
       "    .dataframe thead th {\n",
       "        text-align: right;\n",
       "    }\n",
       "</style>\n",
       "<table border=\"1\" class=\"dataframe\">\n",
       "  <thead>\n",
       "    <tr style=\"text-align: right;\">\n",
       "      <th></th>\n",
       "      <th>University</th>\n",
       "      <th>Student_Name</th>\n",
       "      <th>Grades</th>\n",
       "      <th>Fees(Overall)</th>\n",
       "      <th>Hobbies</th>\n",
       "      <th>Date_of_Admission</th>\n",
       "    </tr>\n",
       "  </thead>\n",
       "  <tbody>\n",
       "    <tr>\n",
       "      <th>0</th>\n",
       "      <td>Harvard University.</td>\n",
       "      <td>Stuart</td>\n",
       "      <td>8.0</td>\n",
       "      <td>$80000</td>\n",
       "      <td>Painting</td>\n",
       "      <td>08-02-2022</td>\n",
       "    </tr>\n",
       "    <tr>\n",
       "      <th>1</th>\n",
       "      <td>Massachusetts Institute of Technology.</td>\n",
       "      <td>Rosemarry</td>\n",
       "      <td>9.0</td>\n",
       "      <td>$75000</td>\n",
       "      <td>Driving</td>\n",
       "      <td>11-02-2022</td>\n",
       "    </tr>\n",
       "    <tr>\n",
       "      <th>2</th>\n",
       "      <td>Stanford University.</td>\n",
       "      <td>Flamingo</td>\n",
       "      <td>9.5</td>\n",
       "      <td>$67770</td>\n",
       "      <td>Photography</td>\n",
       "      <td>12-02-2022</td>\n",
       "    </tr>\n",
       "    <tr>\n",
       "      <th>3</th>\n",
       "      <td>University of California</td>\n",
       "      <td>Kiara</td>\n",
       "      <td>8.0</td>\n",
       "      <td>$77000</td>\n",
       "      <td>Travelling</td>\n",
       "      <td>13-11-2021</td>\n",
       "    </tr>\n",
       "    <tr>\n",
       "      <th>4</th>\n",
       "      <td>The University of Oxford in Oxford.</td>\n",
       "      <td>Oliver</td>\n",
       "      <td>7.5</td>\n",
       "      <td>$95000</td>\n",
       "      <td>Travelling</td>\n",
       "      <td>14-11-2021</td>\n",
       "    </tr>\n",
       "  </tbody>\n",
       "</table>\n",
       "</div>"
      ],
      "text/plain": [
       "                               University Student_Name  Grades Fees(Overall)  \\\n",
       "0                     Harvard University.       Stuart     8.0        $80000   \n",
       "1  Massachusetts Institute of Technology.    Rosemarry     9.0        $75000   \n",
       "2                    Stanford University.     Flamingo     9.5        $67770   \n",
       "3                University of California        Kiara     8.0        $77000   \n",
       "4     The University of Oxford in Oxford.       Oliver     7.5        $95000   \n",
       "\n",
       "       Hobbies Date_of_Admission  \n",
       "0     Painting        08-02-2022  \n",
       "1      Driving        11-02-2022  \n",
       "2  Photography        12-02-2022  \n",
       "3   Travelling        13-11-2021  \n",
       "4   Travelling        14-11-2021  "
      ]
     },
     "execution_count": 36,
     "metadata": {},
     "output_type": "execute_result"
    }
   ],
   "source": [
    "df.head()"
   ]
  },
  {
   "cell_type": "code",
   "execution_count": 38,
   "id": "05211049",
   "metadata": {},
   "outputs": [],
   "source": [
    "df['Date_of_Admission'] = pd.to_datetime(df['Date_of_Admission'],dayfirst=True)"
   ]
  },
  {
   "cell_type": "code",
   "execution_count": 39,
   "id": "5732f391",
   "metadata": {},
   "outputs": [
    {
     "name": "stdout",
     "output_type": "stream",
     "text": [
      "<class 'pandas.core.frame.DataFrame'>\n",
      "RangeIndex: 9 entries, 0 to 8\n",
      "Data columns (total 6 columns):\n",
      " #   Column             Non-Null Count  Dtype         \n",
      "---  ------             --------------  -----         \n",
      " 0   University         9 non-null      object        \n",
      " 1   Student_Name       9 non-null      object        \n",
      " 2   Grades             9 non-null      float64       \n",
      " 3   Fees(Overall)      9 non-null      object        \n",
      " 4   Hobbies            9 non-null      object        \n",
      " 5   Date_of_Admission  9 non-null      datetime64[ns]\n",
      "dtypes: datetime64[ns](1), float64(1), object(4)\n",
      "memory usage: 560.0+ bytes\n"
     ]
    }
   ],
   "source": [
    "df.info()"
   ]
  },
  {
   "cell_type": "code",
   "execution_count": 41,
   "id": "b453b30f",
   "metadata": {},
   "outputs": [
    {
     "name": "stdout",
     "output_type": "stream",
     "text": [
      "0     2\n",
      "1     2\n",
      "2     2\n",
      "3    11\n",
      "4    11\n",
      "5    11\n",
      "6    11\n",
      "7     2\n",
      "8     2\n",
      "Name: Date_of_Admission, dtype: int64\n"
     ]
    }
   ],
   "source": [
    "Month = df['Date_of_Admission'].dt.month\n",
    "print(Month)"
   ]
  },
  {
   "cell_type": "code",
   "execution_count": 42,
   "id": "73880291",
   "metadata": {},
   "outputs": [
    {
     "name": "stdout",
     "output_type": "stream",
     "text": [
      "[ 0.  4.  8. 12. 16. 20.]\n",
      "[ 0  6 12 18]\n"
     ]
    }
   ],
   "source": [
    "array_1 = np.linspace(0,20,6)\n",
    "array_2 = np.arange(0,20,6)\n",
    "\n",
    "print(array_1)\n",
    "\n",
    "print(array_2)"
   ]
  },
  {
   "cell_type": "code",
   "execution_count": 43,
   "id": "74ca21df",
   "metadata": {},
   "outputs": [
    {
     "data": {
      "text/plain": [
       "131.66666666666666"
      ]
     },
     "execution_count": 43,
     "metadata": {},
     "output_type": "execute_result"
    }
   ],
   "source": [
    "mat = np.matrix([[ 1, 4, 9, 121, 144, 169],\n",
    "                [ 16, 25, 36, 196, 225, 256], \n",
    "                [ 49, 64, 81, 289, 324, 361]])\n",
    "\n",
    "mat.mean()"
   ]
  },
  {
   "cell_type": "code",
   "execution_count": 44,
   "id": "4e6350ff",
   "metadata": {},
   "outputs": [
    {
     "data": {
      "text/plain": [
       "array([ 1.        ,  0.54030231, -0.41614684, -0.9899925 , -0.65364362])"
      ]
     },
     "execution_count": 44,
     "metadata": {},
     "output_type": "execute_result"
    }
   ],
   "source": [
    "np.cos([0, 1, 2, 3, 4])"
   ]
  },
  {
   "cell_type": "code",
   "execution_count": 45,
   "id": "b695c788",
   "metadata": {},
   "outputs": [
    {
     "name": "stdout",
     "output_type": "stream",
     "text": [
      "[[1 2 1]\n",
      " [4 5 9]\n",
      " [1 8 9]]\n"
     ]
    }
   ],
   "source": [
    "mat = np.array([[1, 2, 1], [4, 5, 9],[1, 8, 9]])\n",
    "print(mat)"
   ]
  },
  {
   "cell_type": "code",
   "execution_count": 47,
   "id": "c7150ff9",
   "metadata": {},
   "outputs": [],
   "source": [
    "mat[1] = 5"
   ]
  },
  {
   "cell_type": "code",
   "execution_count": 48,
   "id": "c02cbc59",
   "metadata": {},
   "outputs": [
    {
     "data": {
      "text/plain": [
       "array([5, 5, 5])"
      ]
     },
     "execution_count": 48,
     "metadata": {},
     "output_type": "execute_result"
    }
   ],
   "source": [
    "mat[1]"
   ]
  },
  {
   "cell_type": "code",
   "execution_count": 49,
   "id": "878307ea",
   "metadata": {},
   "outputs": [
    {
     "name": "stdout",
     "output_type": "stream",
     "text": [
      "21\n"
     ]
    }
   ],
   "source": [
    "array_1 = np.array([1, 2, 3, 5, 8])\n",
    "array_2 = np.array([0, 3, 4, 2, 1])\n",
    "new_array = array_1+ array_2\n",
    "final_array = new_array*array_1\n",
    "print(final_array[2])"
   ]
  },
  {
   "cell_type": "code",
   "execution_count": 50,
   "id": "2772cd87",
   "metadata": {},
   "outputs": [
    {
     "data": {
      "text/plain": [
       "array([[1., 1.],\n",
       "       [1., 1.]])"
      ]
     },
     "execution_count": 50,
     "metadata": {},
     "output_type": "execute_result"
    }
   ],
   "source": [
    "np.ones([2,2])"
   ]
  },
  {
   "cell_type": "code",
   "execution_count": 51,
   "id": "44867ce7",
   "metadata": {},
   "outputs": [],
   "source": [
    "n1 = np.matrix([[121, 144, 169], [196, 225, 256], [ 289, 324, 361]])\n",
    "n2 = np.matrix([[ 1, 4, 9], [ 1, 5, 4], [ 9, 4, 8]])"
   ]
  },
  {
   "cell_type": "code",
   "execution_count": 52,
   "id": "28fe6a69",
   "metadata": {},
   "outputs": [
    {
     "data": {
      "text/plain": [
       "matrix([[1786, 1880, 3017],\n",
       "        [2725, 2933, 4712],\n",
       "        [3862, 4220, 6785]])"
      ]
     },
     "execution_count": 52,
     "metadata": {},
     "output_type": "execute_result"
    }
   ],
   "source": [
    "n1@n2"
   ]
  },
  {
   "cell_type": "code",
   "execution_count": 53,
   "id": "134caac5",
   "metadata": {},
   "outputs": [],
   "source": [
    "df_books = pd.read_csv('books.csv')"
   ]
  },
  {
   "cell_type": "code",
   "execution_count": 54,
   "id": "1ce69793",
   "metadata": {},
   "outputs": [
    {
     "name": "stdout",
     "output_type": "stream",
     "text": [
      "<class 'pandas.core.frame.DataFrame'>\n",
      "RangeIndex: 5000 entries, 0 to 4999\n",
      "Data columns (total 10 columns):\n",
      " #   Column              Non-Null Count  Dtype  \n",
      "---  ------              --------------  -----  \n",
      " 0   title               5000 non-null   object \n",
      " 1   author              5000 non-null   object \n",
      " 2   average_rating      5000 non-null   float64\n",
      " 3   isbn13              5000 non-null   float64\n",
      " 4   language_code       4923 non-null   object \n",
      " 5   num_pages           4967 non-null   float64\n",
      " 6   ratings_count       5000 non-null   int64  \n",
      " 7   text_reviews_count  5000 non-null   int64  \n",
      " 8   publisher           5000 non-null   object \n",
      " 9   year                5000 non-null   int64  \n",
      "dtypes: float64(3), int64(3), object(4)\n",
      "memory usage: 390.8+ KB\n"
     ]
    }
   ],
   "source": [
    "df_books.info()"
   ]
  },
  {
   "cell_type": "code",
   "execution_count": 55,
   "id": "6e227aa5",
   "metadata": {},
   "outputs": [
    {
     "data": {
      "text/plain": [
       "(5000, 10)"
      ]
     },
     "execution_count": 55,
     "metadata": {},
     "output_type": "execute_result"
    }
   ],
   "source": [
    "df_books.shape"
   ]
  },
  {
   "cell_type": "code",
   "execution_count": 57,
   "id": "b4a2d89d",
   "metadata": {},
   "outputs": [
    {
     "data": {
      "text/html": [
       "<div>\n",
       "<style scoped>\n",
       "    .dataframe tbody tr th:only-of-type {\n",
       "        vertical-align: middle;\n",
       "    }\n",
       "\n",
       "    .dataframe tbody tr th {\n",
       "        vertical-align: top;\n",
       "    }\n",
       "\n",
       "    .dataframe thead th {\n",
       "        text-align: right;\n",
       "    }\n",
       "</style>\n",
       "<table border=\"1\" class=\"dataframe\">\n",
       "  <thead>\n",
       "    <tr style=\"text-align: right;\">\n",
       "      <th></th>\n",
       "      <th>count</th>\n",
       "      <th>mean</th>\n",
       "      <th>std</th>\n",
       "      <th>min</th>\n",
       "      <th>25%</th>\n",
       "      <th>50%</th>\n",
       "      <th>75%</th>\n",
       "      <th>max</th>\n",
       "    </tr>\n",
       "  </thead>\n",
       "  <tbody>\n",
       "    <tr>\n",
       "      <th>average_rating</th>\n",
       "      <td>5000.0</td>\n",
       "      <td>3.931932e+00</td>\n",
       "      <td>3.487415e-01</td>\n",
       "      <td>0.000000e+00</td>\n",
       "      <td>3.770000e+00</td>\n",
       "      <td>3.960000e+00</td>\n",
       "      <td>4.140000e+00</td>\n",
       "      <td>5.000000e+00</td>\n",
       "    </tr>\n",
       "    <tr>\n",
       "      <th>isbn13</th>\n",
       "      <td>5000.0</td>\n",
       "      <td>9.752757e+12</td>\n",
       "      <td>5.129254e+11</td>\n",
       "      <td>8.987060e+09</td>\n",
       "      <td>9.780350e+12</td>\n",
       "      <td>9.780570e+12</td>\n",
       "      <td>9.780870e+12</td>\n",
       "      <td>9.789880e+12</td>\n",
       "    </tr>\n",
       "    <tr>\n",
       "      <th>num_pages</th>\n",
       "      <td>4967.0</td>\n",
       "      <td>3.410940e+02</td>\n",
       "      <td>2.309861e+02</td>\n",
       "      <td>1.000000e+00</td>\n",
       "      <td>2.000000e+02</td>\n",
       "      <td>3.040000e+02</td>\n",
       "      <td>4.165000e+02</td>\n",
       "      <td>3.342000e+03</td>\n",
       "    </tr>\n",
       "    <tr>\n",
       "      <th>ratings_count</th>\n",
       "      <td>5000.0</td>\n",
       "      <td>2.017549e+04</td>\n",
       "      <td>1.175026e+05</td>\n",
       "      <td>0.000000e+00</td>\n",
       "      <td>1.050000e+02</td>\n",
       "      <td>7.915000e+02</td>\n",
       "      <td>5.348750e+03</td>\n",
       "      <td>2.457092e+06</td>\n",
       "    </tr>\n",
       "    <tr>\n",
       "      <th>text_reviews_count</th>\n",
       "      <td>5000.0</td>\n",
       "      <td>5.926886e+02</td>\n",
       "      <td>2.539539e+03</td>\n",
       "      <td>0.000000e+00</td>\n",
       "      <td>9.000000e+00</td>\n",
       "      <td>4.900000e+01</td>\n",
       "      <td>2.490000e+02</td>\n",
       "      <td>5.584300e+04</td>\n",
       "    </tr>\n",
       "    <tr>\n",
       "      <th>year</th>\n",
       "      <td>5000.0</td>\n",
       "      <td>2.000132e+03</td>\n",
       "      <td>8.069043e+00</td>\n",
       "      <td>1.913000e+03</td>\n",
       "      <td>1.998000e+03</td>\n",
       "      <td>2.003000e+03</td>\n",
       "      <td>2.005000e+03</td>\n",
       "      <td>2.019000e+03</td>\n",
       "    </tr>\n",
       "  </tbody>\n",
       "</table>\n",
       "</div>"
      ],
      "text/plain": [
       "                     count          mean           std           min  \\\n",
       "average_rating      5000.0  3.931932e+00  3.487415e-01  0.000000e+00   \n",
       "isbn13              5000.0  9.752757e+12  5.129254e+11  8.987060e+09   \n",
       "num_pages           4967.0  3.410940e+02  2.309861e+02  1.000000e+00   \n",
       "ratings_count       5000.0  2.017549e+04  1.175026e+05  0.000000e+00   \n",
       "text_reviews_count  5000.0  5.926886e+02  2.539539e+03  0.000000e+00   \n",
       "year                5000.0  2.000132e+03  8.069043e+00  1.913000e+03   \n",
       "\n",
       "                             25%           50%           75%           max  \n",
       "average_rating      3.770000e+00  3.960000e+00  4.140000e+00  5.000000e+00  \n",
       "isbn13              9.780350e+12  9.780570e+12  9.780870e+12  9.789880e+12  \n",
       "num_pages           2.000000e+02  3.040000e+02  4.165000e+02  3.342000e+03  \n",
       "ratings_count       1.050000e+02  7.915000e+02  5.348750e+03  2.457092e+06  \n",
       "text_reviews_count  9.000000e+00  4.900000e+01  2.490000e+02  5.584300e+04  \n",
       "year                1.998000e+03  2.003000e+03  2.005000e+03  2.019000e+03  "
      ]
     },
     "execution_count": 57,
     "metadata": {},
     "output_type": "execute_result"
    }
   ],
   "source": [
    "df_books.describe().T"
   ]
  },
  {
   "cell_type": "code",
   "execution_count": 61,
   "id": "45b487c9",
   "metadata": {},
   "outputs": [
    {
     "data": {
      "text/plain": [
       "2115"
      ]
     },
     "execution_count": 61,
     "metadata": {},
     "output_type": "execute_result"
    }
   ],
   "source": [
    "df_books[df_books['average_rating']>4]['title'].count()"
   ]
  },
  {
   "cell_type": "code",
   "execution_count": 65,
   "id": "4245b08b",
   "metadata": {},
   "outputs": [
    {
     "data": {
      "text/html": [
       "<div>\n",
       "<style scoped>\n",
       "    .dataframe tbody tr th:only-of-type {\n",
       "        vertical-align: middle;\n",
       "    }\n",
       "\n",
       "    .dataframe tbody tr th {\n",
       "        vertical-align: top;\n",
       "    }\n",
       "\n",
       "    .dataframe thead th {\n",
       "        text-align: right;\n",
       "    }\n",
       "</style>\n",
       "<table border=\"1\" class=\"dataframe\">\n",
       "  <thead>\n",
       "    <tr style=\"text-align: right;\">\n",
       "      <th></th>\n",
       "      <th>title</th>\n",
       "      <th>author</th>\n",
       "      <th>average_rating</th>\n",
       "      <th>isbn13</th>\n",
       "    </tr>\n",
       "  </thead>\n",
       "  <tbody>\n",
       "    <tr>\n",
       "      <th>0</th>\n",
       "      <td>The Hunchback of Notre-Dame</td>\n",
       "      <td>Victor Hugo</td>\n",
       "      <td>4.00</td>\n",
       "      <td>9.780350e+12</td>\n",
       "    </tr>\n",
       "    <tr>\n",
       "      <th>1</th>\n",
       "      <td>La Cucina Di Lidia: Recipes and Memories from ...</td>\n",
       "      <td>Lidia Matticchio Bastianich</td>\n",
       "      <td>4.14</td>\n",
       "      <td>9.780770e+12</td>\n",
       "    </tr>\n",
       "    <tr>\n",
       "      <th>2</th>\n",
       "      <td>Breach of Promise</td>\n",
       "      <td>James Scott Bell</td>\n",
       "      <td>4.00</td>\n",
       "      <td>9.780310e+12</td>\n",
       "    </tr>\n",
       "    <tr>\n",
       "      <th>3</th>\n",
       "      <td>Brief Interviews with Hideous Men</td>\n",
       "      <td>David Foster Wallace</td>\n",
       "      <td>3.86</td>\n",
       "      <td>9.780350e+12</td>\n",
       "    </tr>\n",
       "    <tr>\n",
       "      <th>4</th>\n",
       "      <td>The Killing Dance (Anita Blake  Vampire Hunter...</td>\n",
       "      <td>Laurell K. Hamilton</td>\n",
       "      <td>4.13</td>\n",
       "      <td>9.780430e+12</td>\n",
       "    </tr>\n",
       "  </tbody>\n",
       "</table>\n",
       "</div>"
      ],
      "text/plain": [
       "                                               title  \\\n",
       "0                        The Hunchback of Notre-Dame   \n",
       "1  La Cucina Di Lidia: Recipes and Memories from ...   \n",
       "2                                  Breach of Promise   \n",
       "3                  Brief Interviews with Hideous Men   \n",
       "4  The Killing Dance (Anita Blake  Vampire Hunter...   \n",
       "\n",
       "                        author  average_rating        isbn13  \n",
       "0                  Victor Hugo            4.00  9.780350e+12  \n",
       "1  Lidia Matticchio Bastianich            4.14  9.780770e+12  \n",
       "2             James Scott Bell            4.00  9.780310e+12  \n",
       "3         David Foster Wallace            3.86  9.780350e+12  \n",
       "4          Laurell K. Hamilton            4.13  9.780430e+12  "
      ]
     },
     "execution_count": 65,
     "metadata": {},
     "output_type": "execute_result"
    }
   ],
   "source": [
    "df_books.iloc[0:5,0:4]"
   ]
  },
  {
   "cell_type": "code",
   "execution_count": 78,
   "id": "c93feb39",
   "metadata": {},
   "outputs": [
    {
     "data": {
      "text/html": [
       "<div>\n",
       "<style scoped>\n",
       "    .dataframe tbody tr th:only-of-type {\n",
       "        vertical-align: middle;\n",
       "    }\n",
       "\n",
       "    .dataframe tbody tr th {\n",
       "        vertical-align: top;\n",
       "    }\n",
       "\n",
       "    .dataframe thead th {\n",
       "        text-align: right;\n",
       "    }\n",
       "</style>\n",
       "<table border=\"1\" class=\"dataframe\">\n",
       "  <thead>\n",
       "    <tr style=\"text-align: right;\">\n",
       "      <th></th>\n",
       "      <th>language_code</th>\n",
       "      <th>num_pages</th>\n",
       "      <th>ratings_count</th>\n",
       "    </tr>\n",
       "  </thead>\n",
       "  <tbody>\n",
       "    <tr>\n",
       "      <th>1</th>\n",
       "      <td>en-GB</td>\n",
       "      <td>288.0</td>\n",
       "      <td>48</td>\n",
       "    </tr>\n",
       "    <tr>\n",
       "      <th>4</th>\n",
       "      <td>en-US</td>\n",
       "      <td>368.0</td>\n",
       "      <td>59524</td>\n",
       "    </tr>\n",
       "  </tbody>\n",
       "</table>\n",
       "</div>"
      ],
      "text/plain": [
       "  language_code  num_pages  ratings_count\n",
       "1         en-GB      288.0             48\n",
       "4         en-US      368.0          59524"
      ]
     },
     "execution_count": 78,
     "metadata": {},
     "output_type": "execute_result"
    }
   ],
   "source": [
    "df_books.loc[[1,4],['language_code','num_pages','ratings_count']]"
   ]
  },
  {
   "cell_type": "code",
   "execution_count": 80,
   "id": "68265873",
   "metadata": {},
   "outputs": [
    {
     "data": {
      "text/plain": [
       "341.0940205355345"
      ]
     },
     "execution_count": 80,
     "metadata": {},
     "output_type": "execute_result"
    }
   ],
   "source": [
    "df_books['num_pages'].mean()"
   ]
  },
  {
   "cell_type": "code",
   "execution_count": 81,
   "id": "f3274ea0",
   "metadata": {},
   "outputs": [
    {
     "data": {
      "text/plain": [
       "0    288.0\n",
       "Name: num_pages, dtype: float64"
      ]
     },
     "execution_count": 81,
     "metadata": {},
     "output_type": "execute_result"
    }
   ],
   "source": [
    "df_books['num_pages'].mode()"
   ]
  },
  {
   "cell_type": "code",
   "execution_count": 82,
   "id": "17b72e9f",
   "metadata": {},
   "outputs": [
    {
     "data": {
      "text/plain": [
       "304.0"
      ]
     },
     "execution_count": 82,
     "metadata": {},
     "output_type": "execute_result"
    }
   ],
   "source": [
    "df_books['num_pages'].median()"
   ]
  },
  {
   "cell_type": "code",
   "execution_count": 83,
   "id": "a8707ac9",
   "metadata": {},
   "outputs": [
    {
     "data": {
      "text/plain": [
       "3342.0"
      ]
     },
     "execution_count": 83,
     "metadata": {},
     "output_type": "execute_result"
    }
   ],
   "source": [
    "df_books['num_pages'].max()"
   ]
  },
  {
   "cell_type": "code",
   "execution_count": 87,
   "id": "142d25ab",
   "metadata": {},
   "outputs": [
    {
     "data": {
      "text/html": [
       "<div>\n",
       "<style scoped>\n",
       "    .dataframe tbody tr th:only-of-type {\n",
       "        vertical-align: middle;\n",
       "    }\n",
       "\n",
       "    .dataframe tbody tr th {\n",
       "        vertical-align: top;\n",
       "    }\n",
       "\n",
       "    .dataframe thead th {\n",
       "        text-align: right;\n",
       "    }\n",
       "</style>\n",
       "<table border=\"1\" class=\"dataframe\">\n",
       "  <thead>\n",
       "    <tr style=\"text-align: right;\">\n",
       "      <th></th>\n",
       "      <th>title</th>\n",
       "      <th>author</th>\n",
       "      <th>average_rating</th>\n",
       "      <th>isbn13</th>\n",
       "      <th>language_code</th>\n",
       "      <th>num_pages</th>\n",
       "      <th>ratings_count</th>\n",
       "      <th>text_reviews_count</th>\n",
       "      <th>publisher</th>\n",
       "      <th>year</th>\n",
       "    </tr>\n",
       "  </thead>\n",
       "  <tbody>\n",
       "    <tr>\n",
       "      <th>0</th>\n",
       "      <td>The Hunchback of Notre-Dame</td>\n",
       "      <td>Victor Hugo</td>\n",
       "      <td>4.00</td>\n",
       "      <td>9.780350e+12</td>\n",
       "      <td>en-US</td>\n",
       "      <td>534.0</td>\n",
       "      <td>140</td>\n",
       "      <td>22</td>\n",
       "      <td>Modern Library</td>\n",
       "      <td>2004</td>\n",
       "    </tr>\n",
       "    <tr>\n",
       "      <th>1</th>\n",
       "      <td>La Cucina Di Lidia: Recipes and Memories from ...</td>\n",
       "      <td>Lidia Matticchio Bastianich</td>\n",
       "      <td>4.14</td>\n",
       "      <td>9.780770e+12</td>\n",
       "      <td>en-GB</td>\n",
       "      <td>288.0</td>\n",
       "      <td>48</td>\n",
       "      <td>3</td>\n",
       "      <td>Clarkson Potter</td>\n",
       "      <td>2003</td>\n",
       "    </tr>\n",
       "    <tr>\n",
       "      <th>2</th>\n",
       "      <td>Breach of Promise</td>\n",
       "      <td>James Scott Bell</td>\n",
       "      <td>4.00</td>\n",
       "      <td>9.780310e+12</td>\n",
       "      <td>eng</td>\n",
       "      <td>345.0</td>\n",
       "      <td>368</td>\n",
       "      <td>36</td>\n",
       "      <td>Zondervan</td>\n",
       "      <td>2004</td>\n",
       "    </tr>\n",
       "    <tr>\n",
       "      <th>3</th>\n",
       "      <td>Brief Interviews with Hideous Men</td>\n",
       "      <td>David Foster Wallace</td>\n",
       "      <td>3.86</td>\n",
       "      <td>9.780350e+12</td>\n",
       "      <td>eng</td>\n",
       "      <td>273.0</td>\n",
       "      <td>18335</td>\n",
       "      <td>1155</td>\n",
       "      <td>Abacus</td>\n",
       "      <td>2000</td>\n",
       "    </tr>\n",
       "    <tr>\n",
       "      <th>4</th>\n",
       "      <td>The Killing Dance (Anita Blake  Vampire Hunter...</td>\n",
       "      <td>Laurell K. Hamilton</td>\n",
       "      <td>4.13</td>\n",
       "      <td>9.780430e+12</td>\n",
       "      <td>en-US</td>\n",
       "      <td>368.0</td>\n",
       "      <td>59524</td>\n",
       "      <td>946</td>\n",
       "      <td>Berkley Hardcover</td>\n",
       "      <td>2006</td>\n",
       "    </tr>\n",
       "    <tr>\n",
       "      <th>5</th>\n",
       "      <td>The Hand of Chaos (The Death Gate Cycle  #5)</td>\n",
       "      <td>Margaret Weis</td>\n",
       "      <td>4.06</td>\n",
       "      <td>9.780550e+12</td>\n",
       "      <td>eng</td>\n",
       "      <td>446.0</td>\n",
       "      <td>16301</td>\n",
       "      <td>117</td>\n",
       "      <td>Spectra</td>\n",
       "      <td>1993</td>\n",
       "    </tr>\n",
       "    <tr>\n",
       "      <th>6</th>\n",
       "      <td>On Intelligence</td>\n",
       "      <td>Jeff Hawkins</td>\n",
       "      <td>4.12</td>\n",
       "      <td>9.780810e+12</td>\n",
       "      <td>eng</td>\n",
       "      <td>261.0</td>\n",
       "      <td>5347</td>\n",
       "      <td>396</td>\n",
       "      <td>St. Martin's Griffin</td>\n",
       "      <td>2005</td>\n",
       "    </tr>\n",
       "    <tr>\n",
       "      <th>7</th>\n",
       "      <td>The Summit (Everest  #3)</td>\n",
       "      <td>Gordon Korman</td>\n",
       "      <td>3.96</td>\n",
       "      <td>9.780440e+12</td>\n",
       "      <td>eng</td>\n",
       "      <td>154.0</td>\n",
       "      <td>2584</td>\n",
       "      <td>106</td>\n",
       "      <td>Scholastic Paperbacks</td>\n",
       "      <td>2002</td>\n",
       "    </tr>\n",
       "    <tr>\n",
       "      <th>8</th>\n",
       "      <td>Where I Was From</td>\n",
       "      <td>Joan Didion</td>\n",
       "      <td>3.86</td>\n",
       "      <td>9.780680e+12</td>\n",
       "      <td>eng</td>\n",
       "      <td>240.0</td>\n",
       "      <td>2842</td>\n",
       "      <td>292</td>\n",
       "      <td>Vintage</td>\n",
       "      <td>2004</td>\n",
       "    </tr>\n",
       "    <tr>\n",
       "      <th>9</th>\n",
       "      <td>A Sentimental Education</td>\n",
       "      <td>Gustave Flaubert</td>\n",
       "      <td>3.83</td>\n",
       "      <td>9.780190e+12</td>\n",
       "      <td>eng</td>\n",
       "      <td>464.0</td>\n",
       "      <td>105</td>\n",
       "      <td>7</td>\n",
       "      <td>Oxford University Press</td>\n",
       "      <td>2000</td>\n",
       "    </tr>\n",
       "  </tbody>\n",
       "</table>\n",
       "</div>"
      ],
      "text/plain": [
       "                                               title  \\\n",
       "0                        The Hunchback of Notre-Dame   \n",
       "1  La Cucina Di Lidia: Recipes and Memories from ...   \n",
       "2                                  Breach of Promise   \n",
       "3                  Brief Interviews with Hideous Men   \n",
       "4  The Killing Dance (Anita Blake  Vampire Hunter...   \n",
       "5       The Hand of Chaos (The Death Gate Cycle  #5)   \n",
       "6                                    On Intelligence   \n",
       "7                           The Summit (Everest  #3)   \n",
       "8                                   Where I Was From   \n",
       "9                            A Sentimental Education   \n",
       "\n",
       "                        author  average_rating        isbn13 language_code  \\\n",
       "0                  Victor Hugo            4.00  9.780350e+12         en-US   \n",
       "1  Lidia Matticchio Bastianich            4.14  9.780770e+12         en-GB   \n",
       "2             James Scott Bell            4.00  9.780310e+12           eng   \n",
       "3         David Foster Wallace            3.86  9.780350e+12           eng   \n",
       "4          Laurell K. Hamilton            4.13  9.780430e+12         en-US   \n",
       "5                Margaret Weis            4.06  9.780550e+12           eng   \n",
       "6                 Jeff Hawkins            4.12  9.780810e+12           eng   \n",
       "7                Gordon Korman            3.96  9.780440e+12           eng   \n",
       "8                  Joan Didion            3.86  9.780680e+12           eng   \n",
       "9             Gustave Flaubert            3.83  9.780190e+12           eng   \n",
       "\n",
       "   num_pages  ratings_count  text_reviews_count                publisher  year  \n",
       "0      534.0            140                  22           Modern Library  2004  \n",
       "1      288.0             48                   3          Clarkson Potter  2003  \n",
       "2      345.0            368                  36                Zondervan  2004  \n",
       "3      273.0          18335                1155                   Abacus  2000  \n",
       "4      368.0          59524                 946        Berkley Hardcover  2006  \n",
       "5      446.0          16301                 117                  Spectra  1993  \n",
       "6      261.0           5347                 396     St. Martin's Griffin  2005  \n",
       "7      154.0           2584                 106    Scholastic Paperbacks  2002  \n",
       "8      240.0           2842                 292                  Vintage  2004  \n",
       "9      464.0            105                   7  Oxford University Press  2000  "
      ]
     },
     "execution_count": 87,
     "metadata": {},
     "output_type": "execute_result"
    }
   ],
   "source": [
    "df_books.head(10)"
   ]
  },
  {
   "cell_type": "code",
   "execution_count": 92,
   "id": "568d6f17",
   "metadata": {},
   "outputs": [
    {
     "data": {
      "text/plain": [
       "15"
      ]
     },
     "execution_count": 92,
     "metadata": {},
     "output_type": "execute_result"
    }
   ],
   "source": [
    "df_books[df_books[\"year\"]==2010][\"title\"].count()"
   ]
  },
  {
   "cell_type": "code",
   "execution_count": 95,
   "id": "cf59a5ee",
   "metadata": {},
   "outputs": [
    {
     "data": {
      "text/html": [
       "<div>\n",
       "<style scoped>\n",
       "    .dataframe tbody tr th:only-of-type {\n",
       "        vertical-align: middle;\n",
       "    }\n",
       "\n",
       "    .dataframe tbody tr th {\n",
       "        vertical-align: top;\n",
       "    }\n",
       "\n",
       "    .dataframe thead th {\n",
       "        text-align: right;\n",
       "    }\n",
       "</style>\n",
       "<table border=\"1\" class=\"dataframe\">\n",
       "  <thead>\n",
       "    <tr style=\"text-align: right;\">\n",
       "      <th></th>\n",
       "      <th>title</th>\n",
       "      <th>author</th>\n",
       "      <th>average_rating</th>\n",
       "      <th>isbn13</th>\n",
       "      <th>language_code</th>\n",
       "      <th>num_pages</th>\n",
       "      <th>ratings_count</th>\n",
       "      <th>text_reviews_count</th>\n",
       "      <th>publisher</th>\n",
       "      <th>year</th>\n",
       "    </tr>\n",
       "  </thead>\n",
       "  <tbody>\n",
       "    <tr>\n",
       "      <th>71</th>\n",
       "      <td>By the Sword (Valdemar)</td>\n",
       "      <td>Mercedes Lackey</td>\n",
       "      <td>4.25</td>\n",
       "      <td>9.780890e+12</td>\n",
       "      <td>eng</td>\n",
       "      <td>492.0</td>\n",
       "      <td>18531</td>\n",
       "      <td>249</td>\n",
       "      <td>DAW</td>\n",
       "      <td>1991</td>\n",
       "    </tr>\n",
       "    <tr>\n",
       "      <th>871</th>\n",
       "      <td>Storm Rising (Valdemar: Mage Storms  #2)</td>\n",
       "      <td>Mercedes Lackey</td>\n",
       "      <td>4.02</td>\n",
       "      <td>9.780890e+12</td>\n",
       "      <td>en-US</td>\n",
       "      <td>412.0</td>\n",
       "      <td>10781</td>\n",
       "      <td>86</td>\n",
       "      <td>DAW</td>\n",
       "      <td>1996</td>\n",
       "    </tr>\n",
       "    <tr>\n",
       "      <th>1523</th>\n",
       "      <td>Phoenix and Ashes (Elemental Masters  #3)</td>\n",
       "      <td>Mercedes Lackey</td>\n",
       "      <td>4.01</td>\n",
       "      <td>9.780760e+12</td>\n",
       "      <td>eng</td>\n",
       "      <td>480.0</td>\n",
       "      <td>6980</td>\n",
       "      <td>229</td>\n",
       "      <td>DAW</td>\n",
       "      <td>2005</td>\n",
       "    </tr>\n",
       "    <tr>\n",
       "      <th>1583</th>\n",
       "      <td>To Battle the Gods (Jalav  Amazon Warrior  #5)</td>\n",
       "      <td>Sharon Green</td>\n",
       "      <td>4.07</td>\n",
       "      <td>9.780890e+12</td>\n",
       "      <td>eng</td>\n",
       "      <td>446.0</td>\n",
       "      <td>87</td>\n",
       "      <td>1</td>\n",
       "      <td>DAW</td>\n",
       "      <td>1986</td>\n",
       "    </tr>\n",
       "    <tr>\n",
       "      <th>3726</th>\n",
       "      <td>Oathblood (Valdemar: Vows and Honor  #3)</td>\n",
       "      <td>Mercedes Lackey</td>\n",
       "      <td>4.06</td>\n",
       "      <td>9.780890e+12</td>\n",
       "      <td>en-GB</td>\n",
       "      <td>394.0</td>\n",
       "      <td>9786</td>\n",
       "      <td>103</td>\n",
       "      <td>DAW</td>\n",
       "      <td>1998</td>\n",
       "    </tr>\n",
       "    <tr>\n",
       "      <th>4367</th>\n",
       "      <td>Joust (Dragon Jousters  #1)</td>\n",
       "      <td>Mercedes Lackey</td>\n",
       "      <td>4.02</td>\n",
       "      <td>9.780760e+12</td>\n",
       "      <td>eng</td>\n",
       "      <td>448.0</td>\n",
       "      <td>10113</td>\n",
       "      <td>263</td>\n",
       "      <td>DAW</td>\n",
       "      <td>2004</td>\n",
       "    </tr>\n",
       "  </tbody>\n",
       "</table>\n",
       "</div>"
      ],
      "text/plain": [
       "                                               title           author  \\\n",
       "71                           By the Sword (Valdemar)  Mercedes Lackey   \n",
       "871         Storm Rising (Valdemar: Mage Storms  #2)  Mercedes Lackey   \n",
       "1523       Phoenix and Ashes (Elemental Masters  #3)  Mercedes Lackey   \n",
       "1583  To Battle the Gods (Jalav  Amazon Warrior  #5)     Sharon Green   \n",
       "3726        Oathblood (Valdemar: Vows and Honor  #3)  Mercedes Lackey   \n",
       "4367                     Joust (Dragon Jousters  #1)  Mercedes Lackey   \n",
       "\n",
       "      average_rating        isbn13 language_code  num_pages  ratings_count  \\\n",
       "71              4.25  9.780890e+12           eng      492.0          18531   \n",
       "871             4.02  9.780890e+12         en-US      412.0          10781   \n",
       "1523            4.01  9.780760e+12           eng      480.0           6980   \n",
       "1583            4.07  9.780890e+12           eng      446.0             87   \n",
       "3726            4.06  9.780890e+12         en-GB      394.0           9786   \n",
       "4367            4.02  9.780760e+12           eng      448.0          10113   \n",
       "\n",
       "      text_reviews_count publisher  year  \n",
       "71                   249       DAW  1991  \n",
       "871                   86       DAW  1996  \n",
       "1523                 229       DAW  2005  \n",
       "1583                   1       DAW  1986  \n",
       "3726                 103       DAW  1998  \n",
       "4367                 263       DAW  2004  "
      ]
     },
     "execution_count": 95,
     "metadata": {},
     "output_type": "execute_result"
    }
   ],
   "source": [
    "df_books[(df_books[\"publisher\"]=='DAW')&(df_books[\"average_rating\"]>4)]"
   ]
  },
  {
   "cell_type": "code",
   "execution_count": 97,
   "id": "d6d2e9aa",
   "metadata": {},
   "outputs": [
    {
     "data": {
      "text/plain": [
       "5"
      ]
     },
     "execution_count": 97,
     "metadata": {},
     "output_type": "execute_result"
    }
   ],
   "source": [
    "df_books[(df_books[\"num_pages\"]>500)&(df_books[\"year\"]>2010)][\"title\"].count()"
   ]
  },
  {
   "cell_type": "code",
   "execution_count": 98,
   "id": "1353ac75",
   "metadata": {},
   "outputs": [
    {
     "data": {
      "text/plain": [
       "84"
      ]
     },
     "execution_count": 98,
     "metadata": {},
     "output_type": "execute_result"
    }
   ],
   "source": [
    "df_books[(df_books[\"language_code\"]==\"spa\")&(df_books[\"year\"]>2000)][\"title\"].count()"
   ]
  },
  {
   "cell_type": "code",
   "execution_count": 103,
   "id": "c1c24f69",
   "metadata": {},
   "outputs": [
    {
     "data": {
      "text/plain": [
       "21"
      ]
     },
     "execution_count": 103,
     "metadata": {},
     "output_type": "execute_result"
    }
   ],
   "source": [
    "df_books[df_books[\"author\"]== \"Agatha Christie\"][\"title\"].count()"
   ]
  },
  {
   "cell_type": "code",
   "execution_count": 107,
   "id": "f793b344",
   "metadata": {},
   "outputs": [
    {
     "data": {
      "text/html": [
       "<div>\n",
       "<style scoped>\n",
       "    .dataframe tbody tr th:only-of-type {\n",
       "        vertical-align: middle;\n",
       "    }\n",
       "\n",
       "    .dataframe tbody tr th {\n",
       "        vertical-align: top;\n",
       "    }\n",
       "\n",
       "    .dataframe thead th {\n",
       "        text-align: right;\n",
       "    }\n",
       "</style>\n",
       "<table border=\"1\" class=\"dataframe\">\n",
       "  <thead>\n",
       "    <tr style=\"text-align: right;\">\n",
       "      <th></th>\n",
       "      <th>title</th>\n",
       "      <th>author</th>\n",
       "      <th>average_rating</th>\n",
       "      <th>isbn13</th>\n",
       "      <th>language_code</th>\n",
       "      <th>num_pages</th>\n",
       "      <th>ratings_count</th>\n",
       "      <th>text_reviews_count</th>\n",
       "      <th>publisher</th>\n",
       "      <th>year</th>\n",
       "    </tr>\n",
       "  </thead>\n",
       "  <tbody>\n",
       "    <tr>\n",
       "      <th>2</th>\n",
       "      <td>Breach of Promise</td>\n",
       "      <td>James Scott Bell</td>\n",
       "      <td>4.00</td>\n",
       "      <td>9.780310e+12</td>\n",
       "      <td>eng</td>\n",
       "      <td>345.0</td>\n",
       "      <td>368</td>\n",
       "      <td>36</td>\n",
       "      <td>Zondervan</td>\n",
       "      <td>2004</td>\n",
       "    </tr>\n",
       "    <tr>\n",
       "      <th>3</th>\n",
       "      <td>Brief Interviews with Hideous Men</td>\n",
       "      <td>David Foster Wallace</td>\n",
       "      <td>3.86</td>\n",
       "      <td>9.780350e+12</td>\n",
       "      <td>eng</td>\n",
       "      <td>273.0</td>\n",
       "      <td>18335</td>\n",
       "      <td>1155</td>\n",
       "      <td>Abacus</td>\n",
       "      <td>2000</td>\n",
       "    </tr>\n",
       "    <tr>\n",
       "      <th>5</th>\n",
       "      <td>The Hand of Chaos (The Death Gate Cycle  #5)</td>\n",
       "      <td>Margaret Weis</td>\n",
       "      <td>4.06</td>\n",
       "      <td>9.780550e+12</td>\n",
       "      <td>eng</td>\n",
       "      <td>446.0</td>\n",
       "      <td>16301</td>\n",
       "      <td>117</td>\n",
       "      <td>Spectra</td>\n",
       "      <td>1993</td>\n",
       "    </tr>\n",
       "    <tr>\n",
       "      <th>6</th>\n",
       "      <td>On Intelligence</td>\n",
       "      <td>Jeff Hawkins</td>\n",
       "      <td>4.12</td>\n",
       "      <td>9.780810e+12</td>\n",
       "      <td>eng</td>\n",
       "      <td>261.0</td>\n",
       "      <td>5347</td>\n",
       "      <td>396</td>\n",
       "      <td>St. Martin's Griffin</td>\n",
       "      <td>2005</td>\n",
       "    </tr>\n",
       "    <tr>\n",
       "      <th>7</th>\n",
       "      <td>The Summit (Everest  #3)</td>\n",
       "      <td>Gordon Korman</td>\n",
       "      <td>3.96</td>\n",
       "      <td>9.780440e+12</td>\n",
       "      <td>eng</td>\n",
       "      <td>154.0</td>\n",
       "      <td>2584</td>\n",
       "      <td>106</td>\n",
       "      <td>Scholastic Paperbacks</td>\n",
       "      <td>2002</td>\n",
       "    </tr>\n",
       "    <tr>\n",
       "      <th>...</th>\n",
       "      <td>...</td>\n",
       "      <td>...</td>\n",
       "      <td>...</td>\n",
       "      <td>...</td>\n",
       "      <td>...</td>\n",
       "      <td>...</td>\n",
       "      <td>...</td>\n",
       "      <td>...</td>\n",
       "      <td>...</td>\n",
       "      <td>...</td>\n",
       "    </tr>\n",
       "    <tr>\n",
       "      <th>4994</th>\n",
       "      <td>How to Be Alone</td>\n",
       "      <td>Jonathan Franzen</td>\n",
       "      <td>3.59</td>\n",
       "      <td>9.780010e+12</td>\n",
       "      <td>eng</td>\n",
       "      <td>306.0</td>\n",
       "      <td>336</td>\n",
       "      <td>33</td>\n",
       "      <td>Harper Perennial</td>\n",
       "      <td>2007</td>\n",
       "    </tr>\n",
       "    <tr>\n",
       "      <th>4995</th>\n",
       "      <td>The Complete Works</td>\n",
       "      <td>Michel de Montaigne</td>\n",
       "      <td>4.44</td>\n",
       "      <td>9.781400e+12</td>\n",
       "      <td>eng</td>\n",
       "      <td>1392.0</td>\n",
       "      <td>166</td>\n",
       "      <td>13</td>\n",
       "      <td>Everyman's Library</td>\n",
       "      <td>2003</td>\n",
       "    </tr>\n",
       "    <tr>\n",
       "      <th>4996</th>\n",
       "      <td>Shipwreck (Island I)</td>\n",
       "      <td>Gordon Korman</td>\n",
       "      <td>3.80</td>\n",
       "      <td>9.780440e+12</td>\n",
       "      <td>eng</td>\n",
       "      <td>NaN</td>\n",
       "      <td>103</td>\n",
       "      <td>14</td>\n",
       "      <td>Scholastic Audio Books</td>\n",
       "      <td>2007</td>\n",
       "    </tr>\n",
       "    <tr>\n",
       "      <th>4997</th>\n",
       "      <td>Every Night Italian: Every Night Italian</td>\n",
       "      <td>Giuliano Hazan</td>\n",
       "      <td>3.79</td>\n",
       "      <td>9.780680e+12</td>\n",
       "      <td>eng</td>\n",
       "      <td>256.0</td>\n",
       "      <td>70</td>\n",
       "      <td>2</td>\n",
       "      <td>Scribner</td>\n",
       "      <td>2000</td>\n",
       "    </tr>\n",
       "    <tr>\n",
       "      <th>4998</th>\n",
       "      <td>Go Down  Moses</td>\n",
       "      <td>William Faulkner</td>\n",
       "      <td>3.93</td>\n",
       "      <td>9.780680e+12</td>\n",
       "      <td>eng</td>\n",
       "      <td>365.0</td>\n",
       "      <td>8289</td>\n",
       "      <td>370</td>\n",
       "      <td>Vintage</td>\n",
       "      <td>1991</td>\n",
       "    </tr>\n",
       "  </tbody>\n",
       "</table>\n",
       "<p>3990 rows × 10 columns</p>\n",
       "</div>"
      ],
      "text/plain": [
       "                                             title                author  \\\n",
       "2                                Breach of Promise      James Scott Bell   \n",
       "3                Brief Interviews with Hideous Men  David Foster Wallace   \n",
       "5     The Hand of Chaos (The Death Gate Cycle  #5)         Margaret Weis   \n",
       "6                                  On Intelligence          Jeff Hawkins   \n",
       "7                         The Summit (Everest  #3)         Gordon Korman   \n",
       "...                                            ...                   ...   \n",
       "4994                               How to Be Alone      Jonathan Franzen   \n",
       "4995                            The Complete Works   Michel de Montaigne   \n",
       "4996                          Shipwreck (Island I)         Gordon Korman   \n",
       "4997      Every Night Italian: Every Night Italian        Giuliano Hazan   \n",
       "4998                                Go Down  Moses      William Faulkner   \n",
       "\n",
       "      average_rating        isbn13 language_code  num_pages  ratings_count  \\\n",
       "2               4.00  9.780310e+12           eng      345.0            368   \n",
       "3               3.86  9.780350e+12           eng      273.0          18335   \n",
       "5               4.06  9.780550e+12           eng      446.0          16301   \n",
       "6               4.12  9.780810e+12           eng      261.0           5347   \n",
       "7               3.96  9.780440e+12           eng      154.0           2584   \n",
       "...              ...           ...           ...        ...            ...   \n",
       "4994            3.59  9.780010e+12           eng      306.0            336   \n",
       "4995            4.44  9.781400e+12           eng     1392.0            166   \n",
       "4996            3.80  9.780440e+12           eng        NaN            103   \n",
       "4997            3.79  9.780680e+12           eng      256.0             70   \n",
       "4998            3.93  9.780680e+12           eng      365.0           8289   \n",
       "\n",
       "      text_reviews_count               publisher  year  \n",
       "2                     36               Zondervan  2004  \n",
       "3                   1155                  Abacus  2000  \n",
       "5                    117                 Spectra  1993  \n",
       "6                    396    St. Martin's Griffin  2005  \n",
       "7                    106   Scholastic Paperbacks  2002  \n",
       "...                  ...                     ...   ...  \n",
       "4994                  33        Harper Perennial  2007  \n",
       "4995                  13      Everyman's Library  2003  \n",
       "4996                  14  Scholastic Audio Books  2007  \n",
       "4997                   2                Scribner  2000  \n",
       "4998                 370                 Vintage  1991  \n",
       "\n",
       "[3990 rows x 10 columns]"
      ]
     },
     "execution_count": 107,
     "metadata": {},
     "output_type": "execute_result"
    }
   ],
   "source": [
    "df_books[df_books[\"language_code\"]==\"eng\"]"
   ]
  },
  {
   "cell_type": "code",
   "execution_count": 108,
   "id": "ab041a6f",
   "metadata": {},
   "outputs": [
    {
     "data": {
      "text/plain": [
       "3.931142857142865"
      ]
     },
     "execution_count": 108,
     "metadata": {},
     "output_type": "execute_result"
    }
   ],
   "source": [
    "df_books[df_books[\"language_code\"]==\"eng\"][\"average_rating\"].mean()"
   ]
  },
  {
   "cell_type": "code",
   "execution_count": 109,
   "id": "38cbf72b",
   "metadata": {},
   "outputs": [
    {
     "data": {
      "text/html": [
       "<div>\n",
       "<style scoped>\n",
       "    .dataframe tbody tr th:only-of-type {\n",
       "        vertical-align: middle;\n",
       "    }\n",
       "\n",
       "    .dataframe tbody tr th {\n",
       "        vertical-align: top;\n",
       "    }\n",
       "\n",
       "    .dataframe thead th {\n",
       "        text-align: right;\n",
       "    }\n",
       "</style>\n",
       "<table border=\"1\" class=\"dataframe\">\n",
       "  <thead>\n",
       "    <tr style=\"text-align: right;\">\n",
       "      <th></th>\n",
       "      <th>average_rating</th>\n",
       "    </tr>\n",
       "    <tr>\n",
       "      <th>language_code</th>\n",
       "      <th></th>\n",
       "    </tr>\n",
       "  </thead>\n",
       "  <tbody>\n",
       "    <tr>\n",
       "      <th>en-GB</th>\n",
       "      <td>3.922523</td>\n",
       "    </tr>\n",
       "    <tr>\n",
       "      <th>en-US</th>\n",
       "      <td>3.914800</td>\n",
       "    </tr>\n",
       "    <tr>\n",
       "      <th>eng</th>\n",
       "      <td>3.931143</td>\n",
       "    </tr>\n",
       "    <tr>\n",
       "      <th>ger</th>\n",
       "      <td>3.979773</td>\n",
       "    </tr>\n",
       "    <tr>\n",
       "      <th>grc</th>\n",
       "      <td>2.366667</td>\n",
       "    </tr>\n",
       "    <tr>\n",
       "      <th>jpn</th>\n",
       "      <td>4.252381</td>\n",
       "    </tr>\n",
       "    <tr>\n",
       "      <th>lat</th>\n",
       "      <td>4.170000</td>\n",
       "    </tr>\n",
       "    <tr>\n",
       "      <th>mul</th>\n",
       "      <td>4.116000</td>\n",
       "    </tr>\n",
       "    <tr>\n",
       "      <th>spa</th>\n",
       "      <td>3.927938</td>\n",
       "    </tr>\n",
       "  </tbody>\n",
       "</table>\n",
       "</div>"
      ],
      "text/plain": [
       "               average_rating\n",
       "language_code                \n",
       "en-GB                3.922523\n",
       "en-US                3.914800\n",
       "eng                  3.931143\n",
       "ger                  3.979773\n",
       "grc                  2.366667\n",
       "jpn                  4.252381\n",
       "lat                  4.170000\n",
       "mul                  4.116000\n",
       "spa                  3.927938"
      ]
     },
     "execution_count": 109,
     "metadata": {},
     "output_type": "execute_result"
    }
   ],
   "source": [
    "df_books.groupby(\"language_code\")[[\"average_rating\"]].mean()"
   ]
  }
 ],
 "metadata": {
  "kernelspec": {
   "display_name": "Python 3 (ipykernel)",
   "language": "python",
   "name": "python3"
  },
  "language_info": {
   "codemirror_mode": {
    "name": "ipython",
    "version": 3
   },
   "file_extension": ".py",
   "mimetype": "text/x-python",
   "name": "python",
   "nbconvert_exporter": "python",
   "pygments_lexer": "ipython3",
   "version": "3.9.13"
  }
 },
 "nbformat": 4,
 "nbformat_minor": 5
}
